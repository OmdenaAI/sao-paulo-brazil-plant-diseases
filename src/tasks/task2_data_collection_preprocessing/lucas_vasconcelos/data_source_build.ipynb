{
  "nbformat": 4,
  "nbformat_minor": 0,
  "metadata": {
    "colab": {
      "provenance": [],
      "collapsed_sections": [
        "1fG7yWoBrOv2",
        "Ncfo1dVLrOv5",
        "cxm4QLsWrOv8",
        "RuMWAFUzrOv-",
        "l-VRcsZ_rOwB",
        "RB0_B2hxrOwC",
        "PiLXLE7prOwE",
        "TZrDLIekrOwF",
        "Njm5xKDiqIXa",
        "-KBzE10lBG-l",
        "5VW0UF9qVzK4",
        "Vq0pweSmqo9w",
        "ZIiJLcsCjGTL",
        "wQMWm5BOVzK8",
        "Ngl6vXqOVzLB",
        "z3KgVqRrVzLC",
        "82d77iiUVzLE",
        "Q1zTdgmrVzLF",
        "GpP7Fi45VzLG",
        "DX2rqy3KVzLH",
        "mDybHlbInxfV",
        "13mUI55GyU_P",
        "ZRkaeU1S7oQJ",
        "3Ban2KRn7rBN",
        "A_JdNkzRsk0g",
        "Zor2TDyasb_T"
      ]
    },
    "kernelspec": {
      "name": "python3",
      "display_name": "Python 3"
    },
    "language_info": {
      "name": "python"
    }
  },
  "cells": [
    {
      "cell_type": "code",
      "execution_count": 1,
      "metadata": {
        "id": "i2iU53IC4i8N"
      },
      "outputs": [],
      "source": [
        "import shutil\n",
        "import os\n",
        "import json\n",
        "import pandas as pd"
      ]
    },
    {
      "cell_type": "code",
      "source": [
        "from google.colab import drive\n",
        "drive.mount('/content/drive')\n"
      ],
      "metadata": {
        "colab": {
          "base_uri": "https://localhost:8080/"
        },
        "id": "sx4oDzx26GOB",
        "outputId": "0e77a62d-782b-4c66-b4c5-1f832f327634"
      },
      "execution_count": 2,
      "outputs": [
        {
          "output_type": "stream",
          "name": "stdout",
          "text": [
            "Mounted at /content/drive\n"
          ]
        }
      ]
    },
    {
      "cell_type": "markdown",
      "source": [
        "# Acess all data in google drive"
      ],
      "metadata": {
        "id": "7LCtq5o-h3ts"
      }
    },
    {
      "cell_type": "code",
      "source": [
        "path_to_raw_datasets = \"/content/drive/MyDrive/SaoPauloChapter_Plants-Disease_2023-Aug-02/Task-2-Data Collection & Preprocessing/data/approach_1/01_original_datasets\""
      ],
      "metadata": {
        "id": "W7TCMNGgjCfd"
      },
      "execution_count": 3,
      "outputs": []
    },
    {
      "cell_type": "code",
      "source": [
        "path = path_to_raw_datasets # Substitua com o caminho do seu diretório\n",
        "folders = [f for f in os.listdir(path) if os.path.isdir(os.path.join(path, f))]\n"
      ],
      "metadata": {
        "id": "BEMIFzXih383"
      },
      "execution_count": 4,
      "outputs": []
    },
    {
      "cell_type": "code",
      "source": [
        "folders"
      ],
      "metadata": {
        "colab": {
          "base_uri": "https://localhost:8080/"
        },
        "id": "PDh-LSQOjKYu",
        "outputId": "2f1bb044-bddd-4f01-f980-c3d816c8edaf"
      },
      "execution_count": 5,
      "outputs": [
        {
          "output_type": "execute_result",
          "data": {
            "text/plain": [
              "['Rust and Leaf Miner in coffee',\n",
              " 'Doencas_Computer_Vision_Project',\n",
              " 'i_wlobq',\n",
              " '1000101010001010101010111_Computer_Vision_Project',\n",
              " 'Penyakit_Daun_Kopi_Computer_Vision_Project',\n",
              " 'PDDB - Embrapa',\n",
              " 'cafe-detect.v11i.multiclass',\n",
              " 'Rocole',\n",
              " 'Penyakit Daun NEW.v30-sehat-1000-bercak-1000-karat-1000.yolov8',\n",
              " 'Coffee leaf diseases Kaggle',\n",
              " 'JMuBEN - original (organized by disease name)',\n",
              " 'Bracol']"
            ]
          },
          "metadata": {},
          "execution_count": 5
        }
      ]
    },
    {
      "cell_type": "markdown",
      "source": [
        "## Copy and past the entire block bellow to create your own strategy\n"
      ],
      "metadata": {
        "id": "raQ7Y57alhd-"
      }
    },
    {
      "cell_type": "markdown",
      "source": [
        "### 03_Your strategy here"
      ],
      "metadata": {
        "id": "1fG7yWoBrOv2"
      }
    },
    {
      "cell_type": "code",
      "source": [
        "strategy_path_name = '01_strategy_full_single_and_cropped_leaves'"
      ],
      "metadata": {
        "id": "ASjI3YqTrOv3"
      },
      "execution_count": null,
      "outputs": []
    },
    {
      "cell_type": "code",
      "source": [
        "destination_strategy_path = '/content/drive/MyDrive/SaoPauloChapter_Plants-Disease_2023-Aug-02/Task-2-Data Collection & Preprocessing/data/approach_1/02_prepared_train_dataset'"
      ],
      "metadata": {
        "id": "oZlxVx-MrOv4"
      },
      "execution_count": null,
      "outputs": []
    },
    {
      "cell_type": "code",
      "source": [
        "path = destination_strategy_path + '/'+strategy_path_name + '/' + 'train'\n",
        "folders = [f for f in os.listdir(path) if os.path.isdir(os.path.join(path, f))]\n",
        "folders"
      ],
      "metadata": {
        "colab": {
          "base_uri": "https://localhost:8080/"
        },
        "outputId": "b03f0093-0c7c-45af-ae8b-ec461991ed1c",
        "id": "XsygKk3HrOv4"
      },
      "execution_count": null,
      "outputs": [
        {
          "output_type": "execute_result",
          "data": {
            "text/plain": [
              "['Healthy', 'Cescospora', 'Rust', 'Miner', 'Phoma']"
            ]
          },
          "metadata": {},
          "execution_count": 8
        }
      ]
    },
    {
      "cell_type": "code",
      "source": [
        "print('Total files in test set')\n",
        "for folder in folders:\n",
        "  #counting files to check, the process can be slow\n",
        "  file_count = sum([len(files) for _, _, files in os.walk(path + \"/\" +folder)])\n",
        "  print(f\"{folder}: {file_count}\")"
      ],
      "metadata": {
        "colab": {
          "base_uri": "https://localhost:8080/"
        },
        "outputId": "64db26dd-b20d-477c-e360-5eba17d3d2f7",
        "id": "jw6McSZarOv4"
      },
      "execution_count": null,
      "outputs": [
        {
          "output_type": "stream",
          "name": "stdout",
          "text": [
            "Total files in test set\n",
            "Healthy: 19722\n",
            "Cescospora: 8639\n",
            "Rust: 9370\n",
            "Miner: 2442\n",
            "Phoma: 7256\n"
          ]
        }
      ]
    },
    {
      "cell_type": "markdown",
      "source": [
        "#### JMuBEN - original (organized by disease name)"
      ],
      "metadata": {
        "id": "Ncfo1dVLrOv5"
      }
    },
    {
      "cell_type": "code",
      "source": [
        "source_dataset_path = '/content/drive/MyDrive/SaoPauloChapter_Plants-Disease_2023-Aug-02/Task-2-Data Collection & Preprocessing/data/approach_1/01_original_datasets/JMuBEN - original (organized by disease name)/'"
      ],
      "metadata": {
        "id": "-Mhj2mOnrOv5"
      },
      "execution_count": null,
      "outputs": []
    },
    {
      "cell_type": "markdown",
      "source": [
        "Cescospora"
      ],
      "metadata": {
        "id": "7QvedpFJrOv5"
      }
    },
    {
      "cell_type": "code",
      "source": [
        "label = 'Cescospora'\n",
        "\n",
        "source_path = source_dataset_path + label\n",
        "\n",
        "#chose a name of path to copy your data\n",
        "destination_path = f\"{destination_strategy_path}/{strategy_path_name}/train/{label}\"\n",
        "#counting files to check, the process can be slow\n",
        "file_count = sum([len(files) for _, _, files in os.walk(destination_path)])\n",
        "print(f\"Number of files in {destination_path}: {file_count}\")\n",
        "\n",
        "shutil.copytree(source_path, destination_path,dirs_exist_ok=True)\n",
        "\n",
        "#counting files to check, the process can be slow\n",
        "file_count = sum([len(files) for _, _, files in os.walk(destination_path)])\n",
        "print(f\"Number of files in {destination_path}: {file_count}\")"
      ],
      "metadata": {
        "colab": {
          "base_uri": "https://localhost:8080/"
        },
        "outputId": "b9c6e091-5853-493f-c0e2-d1e7ada55ae4",
        "id": "c19Yits_rOv5"
      },
      "execution_count": null,
      "outputs": [
        {
          "output_type": "stream",
          "name": "stdout",
          "text": [
            "Number of files in /content/drive/MyDrive/SaoPauloChapter_Plants-Disease_2023-Aug-02/Task-2-Data Collection & Preprocessing/data/approach_1/02_prepared_train_dataset/01_strategy_full_single_and_cropped_leaves/train/Cescospora: 0\n",
            "Number of files in /content/drive/MyDrive/SaoPauloChapter_Plants-Disease_2023-Aug-02/Task-2-Data Collection & Preprocessing/data/approach_1/02_prepared_train_dataset/01_strategy_full_single_and_cropped_leaves/train/Cescospora: 7691\n"
          ]
        }
      ]
    },
    {
      "cell_type": "markdown",
      "source": [
        "Healthy"
      ],
      "metadata": {
        "id": "dDqAnYMsrOv5"
      }
    },
    {
      "cell_type": "code",
      "source": [
        "label = 'Healthy'\n",
        "\n",
        "source_path = source_dataset_path + label\n",
        "\n",
        "#chose a name of path to copy your data\n",
        "destination_path = f\"{destination_strategy_path}/{strategy_path_name}/train/{label}\"\n",
        "#counting files to check, the process can be slow\n",
        "file_count = sum([len(files) for _, _, files in os.walk(destination_path)])\n",
        "print(f\"Number of files in {destination_path}: {file_count}\")\n",
        "\n",
        "shutil.copytree(source_path, destination_path,dirs_exist_ok=True)\n",
        "\n",
        "#counting files to check, the process can be slow\n",
        "file_count = sum([len(files) for _, _, files in os.walk(destination_path)])\n",
        "print(f\"Number of files in {destination_path}: {file_count}\")"
      ],
      "metadata": {
        "colab": {
          "base_uri": "https://localhost:8080/"
        },
        "outputId": "af9648fe-bcf7-4c77-a37f-902a697d01e9",
        "id": "wqgQAPCIrOv6"
      },
      "execution_count": null,
      "outputs": [
        {
          "output_type": "stream",
          "name": "stdout",
          "text": [
            "Number of files in /content/drive/MyDrive/SaoPauloChapter_Plants-Disease_2023-Aug-02/Task-2-Data Collection & Preprocessing/data/approach_1/02_prepared_train_dataset/01_strategy_full_single_and_cropped_leaves/train/Healthy: 0\n",
            "Number of files in /content/drive/MyDrive/SaoPauloChapter_Plants-Disease_2023-Aug-02/Task-2-Data Collection & Preprocessing/data/approach_1/02_prepared_train_dataset/01_strategy_full_single_and_cropped_leaves/train/Healthy: 18984\n"
          ]
        }
      ]
    },
    {
      "cell_type": "markdown",
      "source": [
        "Miner"
      ],
      "metadata": {
        "id": "LDUr7krgrOv6"
      }
    },
    {
      "cell_type": "code",
      "source": [
        "label = 'Miner'\n",
        "\n",
        "source_path = source_dataset_path + label\n",
        "\n",
        "#chose a name of path to copy your data\n",
        "destination_path = f\"{destination_strategy_path}/{strategy_path_name}/train/{label}\"\n",
        "#counting files to check, the process can be slow\n",
        "file_count = sum([len(files) for _, _, files in os.walk(destination_path)])\n",
        "print(f\"Number of files in {destination_path}: {file_count}\")\n",
        "\n",
        "shutil.copytree(source_path, destination_path,dirs_exist_ok=True)\n",
        "\n",
        "#counting files to check, the process can be slow\n",
        "file_count = sum([len(files) for _, _, files in os.walk(destination_path)])\n",
        "print(f\"Number of files in {destination_path}: {file_count}\")"
      ],
      "metadata": {
        "colab": {
          "base_uri": "https://localhost:8080/"
        },
        "outputId": "6477863b-f6a4-4f4b-dc11-4473554c7b32",
        "id": "FAyeQE14rOv6"
      },
      "execution_count": null,
      "outputs": [
        {
          "output_type": "stream",
          "name": "stdout",
          "text": [
            "Number of files in /content/drive/MyDrive/SaoPauloChapter_Plants-Disease_2023-Aug-02/Task-2-Data Collection & Preprocessing/data/approach_1/02_prepared_train_dataset/01_strategy_full_single_and_cropped_leaves/train/Miner: 0\n",
            "Number of files in /content/drive/MyDrive/SaoPauloChapter_Plants-Disease_2023-Aug-02/Task-2-Data Collection & Preprocessing/data/approach_1/02_prepared_train_dataset/01_strategy_full_single_and_cropped_leaves/train/Miner: 789\n"
          ]
        }
      ]
    },
    {
      "cell_type": "markdown",
      "source": [
        "Phoma"
      ],
      "metadata": {
        "id": "NJ2WycOyrOv7"
      }
    },
    {
      "cell_type": "code",
      "source": [
        "label = 'Phoma'\n",
        "\n",
        "source_path = source_dataset_path + label\n",
        "\n",
        "#chose a name of path to copy your data\n",
        "destination_path = f\"{destination_strategy_path}/{strategy_path_name}/train/{label}\"\n",
        "#counting files to check, the process can be slow\n",
        "file_count = sum([len(files) for _, _, files in os.walk(destination_path)])\n",
        "print(f\"Number of files in {destination_path}: {file_count}\")\n",
        "\n",
        "shutil.copytree(source_path, destination_path,dirs_exist_ok=True)\n",
        "\n",
        "#counting files to check, the process can be slow\n",
        "file_count = sum([len(files) for _, _, files in os.walk(destination_path)])\n",
        "print(f\"Number of files in {destination_path}: {file_count}\")"
      ],
      "metadata": {
        "colab": {
          "base_uri": "https://localhost:8080/"
        },
        "outputId": "a58f3d99-f736-421a-f808-670cd2155af2",
        "id": "2ZVxmvyNrOv7"
      },
      "execution_count": null,
      "outputs": [
        {
          "output_type": "stream",
          "name": "stdout",
          "text": [
            "Number of files in /content/drive/MyDrive/SaoPauloChapter_Plants-Disease_2023-Aug-02/Task-2-Data Collection & Preprocessing/data/approach_1/02_prepared_train_dataset/01_strategy_full_single_and_cropped_leaves/train/Phoma: 0\n",
            "Number of files in /content/drive/MyDrive/SaoPauloChapter_Plants-Disease_2023-Aug-02/Task-2-Data Collection & Preprocessing/data/approach_1/02_prepared_train_dataset/01_strategy_full_single_and_cropped_leaves/train/Phoma: 6580\n"
          ]
        }
      ]
    },
    {
      "cell_type": "markdown",
      "source": [
        "Rust"
      ],
      "metadata": {
        "id": "7FhZgITdrOv7"
      }
    },
    {
      "cell_type": "code",
      "source": [
        "label = 'Rust'\n",
        "\n",
        "source_path = source_dataset_path + label\n",
        "\n",
        "#chose a name of path to copy your data\n",
        "destination_path = f\"{destination_strategy_path}/{strategy_path_name}/train/{label}\"\n",
        "#counting files to check, the process can be slow\n",
        "file_count = sum([len(files) for _, _, files in os.walk(destination_path)])\n",
        "print(f\"Number of files in {destination_path}: {file_count}\")\n",
        "\n",
        "shutil.copytree(source_path, destination_path,dirs_exist_ok=True)\n",
        "\n",
        "#counting files to check, the process can be slow\n",
        "file_count = sum([len(files) for _, _, files in os.walk(destination_path)])\n",
        "print(f\"Number of files in {destination_path}: {file_count}\")"
      ],
      "metadata": {
        "colab": {
          "base_uri": "https://localhost:8080/"
        },
        "outputId": "a994fd70-9a45-4342-cc5a-3babcab8f195",
        "id": "SobHT8XDrOv7"
      },
      "execution_count": null,
      "outputs": [
        {
          "output_type": "stream",
          "name": "stdout",
          "text": [
            "Number of files in /content/drive/MyDrive/SaoPauloChapter_Plants-Disease_2023-Aug-02/Task-2-Data Collection & Preprocessing/data/approach_1/02_prepared_train_dataset/01_strategy_full_single_and_cropped_leaves/train/Rust: 0\n",
            "Number of files in /content/drive/MyDrive/SaoPauloChapter_Plants-Disease_2023-Aug-02/Task-2-Data Collection & Preprocessing/data/approach_1/02_prepared_train_dataset/01_strategy_full_single_and_cropped_leaves/train/Rust: 8336\n"
          ]
        }
      ]
    },
    {
      "cell_type": "markdown",
      "source": [
        "#### cafe-detect.v11i.multiclass"
      ],
      "metadata": {
        "id": "cxm4QLsWrOv8"
      }
    },
    {
      "cell_type": "code",
      "source": [
        "source_dataset_path = '/content/drive/MyDrive/SaoPauloChapter_Plants-Disease_2023-Aug-02/Task-2-Data Collection & Preprocessing/data/approach_1/01_original_datasets/cafe-detect.v11i.multiclass/02_original_organized_by_disease_name/'"
      ],
      "metadata": {
        "id": "QnidEiK-rOv8"
      },
      "execution_count": null,
      "outputs": []
    },
    {
      "cell_type": "markdown",
      "source": [
        "Cescospora"
      ],
      "metadata": {
        "id": "e6l6tW92rOv8"
      }
    },
    {
      "cell_type": "code",
      "source": [
        "label = 'Cescospora'\n",
        "\n",
        "source_path = source_dataset_path + label\n",
        "\n",
        "#chose a name of path to copy your data\n",
        "destination_path = f\"{destination_strategy_path}/{strategy_path_name}/train/{label}\"\n",
        "#counting files to check, the process can be slow\n",
        "file_count = sum([len(files) for _, _, files in os.walk(destination_path)])\n",
        "print(f\"Number of files in {destination_path}: {file_count}\")\n",
        "\n",
        "shutil.copytree(source_path, destination_path,dirs_exist_ok=True)\n",
        "\n",
        "#counting files to check, the process can be slow\n",
        "file_count = sum([len(files) for _, _, files in os.walk(destination_path)])\n",
        "print(f\"Number of files in {destination_path}: {file_count}\")"
      ],
      "metadata": {
        "colab": {
          "base_uri": "https://localhost:8080/"
        },
        "outputId": "0a860322-a983-4f49-a04d-79ead9e36b66",
        "id": "02aF5DUArOv8"
      },
      "execution_count": null,
      "outputs": [
        {
          "output_type": "stream",
          "name": "stdout",
          "text": [
            "Number of files in /content/drive/MyDrive/SaoPauloChapter_Plants-Disease_2023-Aug-02/Task-2-Data Collection & Preprocessing/data/approach_1/02_prepared_train_dataset/01_strategy_full_single_and_cropped_leaves/train/Cescospora: 7691\n",
            "Number of files in /content/drive/MyDrive/SaoPauloChapter_Plants-Disease_2023-Aug-02/Task-2-Data Collection & Preprocessing/data/approach_1/02_prepared_train_dataset/01_strategy_full_single_and_cropped_leaves/train/Cescospora: 8439\n"
          ]
        }
      ]
    },
    {
      "cell_type": "markdown",
      "source": [
        "Miner"
      ],
      "metadata": {
        "id": "lK_-fzXMrOv9"
      }
    },
    {
      "cell_type": "code",
      "source": [
        "label = 'Miner'\n",
        "\n",
        "source_path = source_dataset_path + label\n",
        "\n",
        "#chose a name of path to copy your data\n",
        "destination_path = f\"{destination_strategy_path}/{strategy_path_name}/train/{label}\"\n",
        "#counting files to check, the process can be slow\n",
        "file_count = sum([len(files) for _, _, files in os.walk(destination_path)])\n",
        "print(f\"Number of files in {destination_path}: {file_count}\")\n",
        "\n",
        "shutil.copytree(source_path, destination_path,dirs_exist_ok=True)\n",
        "\n",
        "#counting files to check, the process can be slow\n",
        "file_count = sum([len(files) for _, _, files in os.walk(destination_path)])\n",
        "print(f\"Number of files in {destination_path}: {file_count}\")"
      ],
      "metadata": {
        "colab": {
          "base_uri": "https://localhost:8080/"
        },
        "outputId": "05c8340a-90cc-4df6-9d1a-d2a4aecb1430",
        "id": "7FTSfUTcrOv9"
      },
      "execution_count": null,
      "outputs": [
        {
          "output_type": "stream",
          "name": "stdout",
          "text": [
            "Number of files in /content/drive/MyDrive/SaoPauloChapter_Plants-Disease_2023-Aug-02/Task-2-Data Collection & Preprocessing/data/approach_1/02_prepared_train_dataset/01_strategy_full_single_and_cropped_leaves/train/Miner: 789\n",
            "Number of files in /content/drive/MyDrive/SaoPauloChapter_Plants-Disease_2023-Aug-02/Task-2-Data Collection & Preprocessing/data/approach_1/02_prepared_train_dataset/01_strategy_full_single_and_cropped_leaves/train/Miner: 1755\n"
          ]
        }
      ]
    },
    {
      "cell_type": "markdown",
      "source": [
        "Phoma"
      ],
      "metadata": {
        "id": "a-FvXI9OrOv9"
      }
    },
    {
      "cell_type": "code",
      "source": [
        "label = 'Phoma'\n",
        "\n",
        "source_path = source_dataset_path + label\n",
        "\n",
        "#chose a name of path to copy your data\n",
        "destination_path = f\"{destination_strategy_path}/{strategy_path_name}/train/{label}\"\n",
        "#counting files to check, the process can be slow\n",
        "file_count = sum([len(files) for _, _, files in os.walk(destination_path)])\n",
        "print(f\"Number of files in {destination_path}: {file_count}\")\n",
        "\n",
        "shutil.copytree(source_path, destination_path,dirs_exist_ok=True)\n",
        "\n",
        "#counting files to check, the process can be slow\n",
        "file_count = sum([len(files) for _, _, files in os.walk(destination_path)])\n",
        "print(f\"Number of files in {destination_path}: {file_count}\")"
      ],
      "metadata": {
        "colab": {
          "base_uri": "https://localhost:8080/"
        },
        "outputId": "f86ffb76-8261-417f-b488-92c6cbe26531",
        "id": "DLakig1jrOv9"
      },
      "execution_count": null,
      "outputs": [
        {
          "output_type": "stream",
          "name": "stdout",
          "text": [
            "Number of files in /content/drive/MyDrive/SaoPauloChapter_Plants-Disease_2023-Aug-02/Task-2-Data Collection & Preprocessing/data/approach_1/02_prepared_train_dataset/01_strategy_full_single_and_cropped_leaves/train/Phoma: 6580\n",
            "Number of files in /content/drive/MyDrive/SaoPauloChapter_Plants-Disease_2023-Aug-02/Task-2-Data Collection & Preprocessing/data/approach_1/02_prepared_train_dataset/01_strategy_full_single_and_cropped_leaves/train/Phoma: 6772\n"
          ]
        }
      ]
    },
    {
      "cell_type": "markdown",
      "source": [
        "Rust"
      ],
      "metadata": {
        "id": "ru8v_cFvrOv-"
      }
    },
    {
      "cell_type": "code",
      "source": [
        "label = 'Rust'\n",
        "\n",
        "source_path = source_dataset_path + label\n",
        "\n",
        "#chose a name of path to copy your data\n",
        "destination_path = f\"{destination_strategy_path}/{strategy_path_name}/train/{label}\"\n",
        "#counting files to check, the process can be slow\n",
        "file_count = sum([len(files) for _, _, files in os.walk(destination_path)])\n",
        "print(f\"Number of files in {destination_path}: {file_count}\")\n",
        "\n",
        "shutil.copytree(source_path, destination_path,dirs_exist_ok=True)\n",
        "\n",
        "#counting files to check, the process can be slow\n",
        "file_count = sum([len(files) for _, _, files in os.walk(destination_path)])\n",
        "print(f\"Number of files in {destination_path}: {file_count}\")"
      ],
      "metadata": {
        "colab": {
          "base_uri": "https://localhost:8080/"
        },
        "outputId": "06eca9b7-e16c-4990-9d1b-b0e7f936c73e",
        "id": "fTvMffGJrOv-"
      },
      "execution_count": null,
      "outputs": [
        {
          "output_type": "stream",
          "name": "stdout",
          "text": [
            "Number of files in /content/drive/MyDrive/SaoPauloChapter_Plants-Disease_2023-Aug-02/Task-2-Data Collection & Preprocessing/data/approach_1/02_prepared_train_dataset/01_strategy_full_single_and_cropped_leaves/train/Rust: 8336\n",
            "Number of files in /content/drive/MyDrive/SaoPauloChapter_Plants-Disease_2023-Aug-02/Task-2-Data Collection & Preprocessing/data/approach_1/02_prepared_train_dataset/01_strategy_full_single_and_cropped_leaves/train/Rust: 8650\n"
          ]
        }
      ]
    },
    {
      "cell_type": "markdown",
      "source": [
        "#### Coffee leaf diseases Kaggle"
      ],
      "metadata": {
        "id": "RuMWAFUzrOv-"
      }
    },
    {
      "cell_type": "code",
      "source": [
        "source_dataset_path = '/content/drive/MyDrive/SaoPauloChapter_Plants-Disease_2023-Aug-02/Task-2-Data Collection & Preprocessing/data/approach_1/01_original_datasets/Coffee leaf diseases Kaggle/02_original_organized_by_disease_name/'"
      ],
      "metadata": {
        "id": "uKjjh3mVrOv-"
      },
      "execution_count": null,
      "outputs": []
    },
    {
      "cell_type": "markdown",
      "source": [
        "Healthy"
      ],
      "metadata": {
        "id": "tuyG-0BOrOv_"
      }
    },
    {
      "cell_type": "code",
      "source": [
        "label = 'Healthy'\n",
        "\n",
        "source_path = source_dataset_path + label\n",
        "\n",
        "#chose a name of path to copy your data\n",
        "destination_path = f\"{destination_strategy_path}/{strategy_path_name}/train/{label}\"\n",
        "#counting files to check, the process can be slow\n",
        "file_count = sum([len(files) for _, _, files in os.walk(destination_path)])\n",
        "print(f\"Number of files in {destination_path}: {file_count}\")\n",
        "\n",
        "shutil.copytree(source_path, destination_path,dirs_exist_ok=True)\n",
        "\n",
        "#counting files to check, the process can be slow\n",
        "file_count = sum([len(files) for _, _, files in os.walk(destination_path)])\n",
        "print(f\"Number of files in {destination_path}: {file_count}\")"
      ],
      "metadata": {
        "colab": {
          "base_uri": "https://localhost:8080/"
        },
        "outputId": "7b1a2600-38e7-4305-9e47-f291c8d0f9c1",
        "id": "_Rqhs-mJrOv_"
      },
      "execution_count": null,
      "outputs": [
        {
          "output_type": "stream",
          "name": "stdout",
          "text": [
            "Number of files in /content/drive/MyDrive/SaoPauloChapter_Plants-Disease_2023-Aug-02/Task-2-Data Collection & Preprocessing/data/approach_1/02_prepared_train_dataset/01_strategy_full_single_and_cropped_leaves/train/Healthy: 18984\n",
            "Number of files in /content/drive/MyDrive/SaoPauloChapter_Plants-Disease_2023-Aug-02/Task-2-Data Collection & Preprocessing/data/approach_1/02_prepared_train_dataset/01_strategy_full_single_and_cropped_leaves/train/Healthy: 19384\n"
          ]
        }
      ]
    },
    {
      "cell_type": "markdown",
      "source": [
        "Miner"
      ],
      "metadata": {
        "id": "BtQDuh4YrOv_"
      }
    },
    {
      "cell_type": "code",
      "source": [
        "label = 'Miner'\n",
        "\n",
        "source_path = source_dataset_path + label\n",
        "\n",
        "#chose a name of path to copy your data\n",
        "destination_path = f\"{destination_strategy_path}/{strategy_path_name}/train/{label}\"\n",
        "#counting files to check, the process can be slow\n",
        "file_count = sum([len(files) for _, _, files in os.walk(destination_path)])\n",
        "print(f\"Number of files in {destination_path}: {file_count}\")\n",
        "\n",
        "shutil.copytree(source_path, destination_path,dirs_exist_ok=True)\n",
        "\n",
        "#counting files to check, the process can be slow\n",
        "file_count = sum([len(files) for _, _, files in os.walk(destination_path)])\n",
        "print(f\"Number of files in {destination_path}: {file_count}\")"
      ],
      "metadata": {
        "colab": {
          "base_uri": "https://localhost:8080/"
        },
        "outputId": "78305f2c-b160-441c-fc81-a79b73a0d1fd",
        "id": "E5bTlxOdrOv_"
      },
      "execution_count": null,
      "outputs": [
        {
          "output_type": "stream",
          "name": "stdout",
          "text": [
            "Number of files in /content/drive/MyDrive/SaoPauloChapter_Plants-Disease_2023-Aug-02/Task-2-Data Collection & Preprocessing/data/approach_1/02_prepared_train_dataset/01_strategy_full_single_and_cropped_leaves/train/Miner: 1755\n",
            "Number of files in /content/drive/MyDrive/SaoPauloChapter_Plants-Disease_2023-Aug-02/Task-2-Data Collection & Preprocessing/data/approach_1/02_prepared_train_dataset/01_strategy_full_single_and_cropped_leaves/train/Miner: 2215\n"
          ]
        }
      ]
    },
    {
      "cell_type": "markdown",
      "source": [
        "Phoma"
      ],
      "metadata": {
        "id": "ZfLgcV-SrOwA"
      }
    },
    {
      "cell_type": "code",
      "source": [
        "label = 'Phoma'\n",
        "\n",
        "source_path = source_dataset_path + label\n",
        "\n",
        "#chose a name of path to copy your data\n",
        "destination_path = f\"{destination_strategy_path}/{strategy_path_name}/train/{label}\"\n",
        "#counting files to check, the process can be slow\n",
        "file_count = sum([len(files) for _, _, files in os.walk(destination_path)])\n",
        "print(f\"Number of files in {destination_path}: {file_count}\")\n",
        "\n",
        "shutil.copytree(source_path, destination_path,dirs_exist_ok=True)\n",
        "\n",
        "#counting files to check, the process can be slow\n",
        "file_count = sum([len(files) for _, _, files in os.walk(destination_path)])\n",
        "print(f\"Number of files in {destination_path}: {file_count}\")"
      ],
      "metadata": {
        "colab": {
          "base_uri": "https://localhost:8080/"
        },
        "outputId": "092c9176-bc44-47c3-d4ea-2187a199accd",
        "id": "3q_GGKt7rOwA"
      },
      "execution_count": null,
      "outputs": [
        {
          "output_type": "stream",
          "name": "stdout",
          "text": [
            "Number of files in /content/drive/MyDrive/SaoPauloChapter_Plants-Disease_2023-Aug-02/Task-2-Data Collection & Preprocessing/data/approach_1/02_prepared_train_dataset/01_strategy_full_single_and_cropped_leaves/train/Phoma: 6772\n",
            "Number of files in /content/drive/MyDrive/SaoPauloChapter_Plants-Disease_2023-Aug-02/Task-2-Data Collection & Preprocessing/data/approach_1/02_prepared_train_dataset/01_strategy_full_single_and_cropped_leaves/train/Phoma: 7256\n"
          ]
        }
      ]
    },
    {
      "cell_type": "markdown",
      "source": [
        "Rust"
      ],
      "metadata": {
        "id": "tDop3z1grOwB"
      }
    },
    {
      "cell_type": "code",
      "source": [
        "label = 'Rust'\n",
        "\n",
        "source_path = source_dataset_path + label\n",
        "\n",
        "#chose a name of path to copy your data\n",
        "destination_path = f\"{destination_strategy_path}/{strategy_path_name}/train/{label}\"\n",
        "#counting files to check, the process can be slow\n",
        "file_count = sum([len(files) for _, _, files in os.walk(destination_path)])\n",
        "print(f\"Number of files in {destination_path}: {file_count}\")\n",
        "\n",
        "shutil.copytree(source_path, destination_path,dirs_exist_ok=True)\n",
        "\n",
        "#counting files to check, the process can be slow\n",
        "file_count = sum([len(files) for _, _, files in os.walk(destination_path)])\n",
        "print(f\"Number of files in {destination_path}: {file_count}\")"
      ],
      "metadata": {
        "colab": {
          "base_uri": "https://localhost:8080/"
        },
        "outputId": "8c08237e-0a72-4c47-e3e9-a5e16da4d4e1",
        "id": "1nSLGJfTrOwB"
      },
      "execution_count": null,
      "outputs": [
        {
          "output_type": "stream",
          "name": "stdout",
          "text": [
            "Number of files in /content/drive/MyDrive/SaoPauloChapter_Plants-Disease_2023-Aug-02/Task-2-Data Collection & Preprocessing/data/approach_1/02_prepared_train_dataset/01_strategy_full_single_and_cropped_leaves/train/Rust: 8650\n",
            "Number of files in /content/drive/MyDrive/SaoPauloChapter_Plants-Disease_2023-Aug-02/Task-2-Data Collection & Preprocessing/data/approach_1/02_prepared_train_dataset/01_strategy_full_single_and_cropped_leaves/train/Rust: 8970\n"
          ]
        }
      ]
    },
    {
      "cell_type": "markdown",
      "source": [
        "#### removed (Penyakit Daun NEW.v30-sehat-1000-bercak-1000-karat-1000.yolov8) wrong labels"
      ],
      "metadata": {
        "id": "l-VRcsZ_rOwB"
      }
    },
    {
      "cell_type": "code",
      "source": [
        "source_dataset_path = '/content/drive/MyDrive/SaoPauloChapter_Plants-Disease_2023-Aug-02/Task-2-Data Collection & Preprocessing/data/approach_1/01_original_datasets/Penyakit Daun NEW.v30-sehat-1000-bercak-1000-karat-1000.yolov8/02_original_organized_by_disease_name/'"
      ],
      "metadata": {
        "id": "dF_onCnyrOwB"
      },
      "execution_count": null,
      "outputs": []
    },
    {
      "cell_type": "markdown",
      "source": [
        "Cescospora"
      ],
      "metadata": {
        "id": "XHLHbCqqrOwB"
      }
    },
    {
      "cell_type": "code",
      "source": [
        "label = 'Cescospora'\n",
        "\n",
        "source_path = source_dataset_path + label\n",
        "\n",
        "#chose a name of path to copy your data\n",
        "destination_path = f\"{destination_strategy_path}/{strategy_path_name}/train/{label}\"\n",
        "#counting files to check, the process can be slow\n",
        "file_count = sum([len(files) for _, _, files in os.walk(destination_path)])\n",
        "print(f\"Number of files in {destination_path}: {file_count}\")\n",
        "\n",
        "shutil.copytree(source_path, destination_path,dirs_exist_ok=True)\n",
        "\n",
        "#counting files to check, the process can be slow\n",
        "file_count = sum([len(files) for _, _, files in os.walk(destination_path)])\n",
        "print(f\"Number of files in {destination_path}: {file_count}\")"
      ],
      "metadata": {
        "colab": {
          "base_uri": "https://localhost:8080/"
        },
        "outputId": "09cf2c3a-6096-428f-8376-eedb72917340",
        "id": "ei-TY7qArOwC"
      },
      "execution_count": null,
      "outputs": [
        {
          "output_type": "stream",
          "name": "stdout",
          "text": [
            "Number of files in /content/drive/MyDrive/SaoPauloChapter_Plants-Disease_2023-Aug-02/Task-2-Data Collection & Preprocessing/data/approach_1/02_prepared_train_dataset/01_strategy_full_single_leaves/train/Cescospora: 200\n",
            "Number of files in /content/drive/MyDrive/SaoPauloChapter_Plants-Disease_2023-Aug-02/Task-2-Data Collection & Preprocessing/data/approach_1/02_prepared_train_dataset/01_strategy_full_single_leaves/train/Cescospora: 1197\n"
          ]
        }
      ]
    },
    {
      "cell_type": "markdown",
      "source": [
        "Healthy"
      ],
      "metadata": {
        "id": "pmJUCI64rOwC"
      }
    },
    {
      "cell_type": "code",
      "source": [
        "label = 'Healthy'\n",
        "\n",
        "source_path = source_dataset_path + label\n",
        "\n",
        "#chose a name of path to copy your data\n",
        "destination_path = f\"{destination_strategy_path}/{strategy_path_name}/train/{label}\"\n",
        "#counting files to check, the process can be slow\n",
        "file_count = sum([len(files) for _, _, files in os.walk(destination_path)])\n",
        "print(f\"Number of files in {destination_path}: {file_count}\")\n",
        "\n",
        "shutil.copytree(source_path, destination_path,dirs_exist_ok=True)\n",
        "\n",
        "#counting files to check, the process can be slow\n",
        "file_count = sum([len(files) for _, _, files in os.walk(destination_path)])\n",
        "print(f\"Number of files in {destination_path}: {file_count}\")"
      ],
      "metadata": {
        "colab": {
          "base_uri": "https://localhost:8080/"
        },
        "outputId": "0c44c6a9-e323-44d0-ac66-52bba604e074",
        "id": "Ews0kLRRrOwC"
      },
      "execution_count": null,
      "outputs": [
        {
          "output_type": "stream",
          "name": "stdout",
          "text": [
            "Number of files in /content/drive/MyDrive/SaoPauloChapter_Plants-Disease_2023-Aug-02/Task-2-Data Collection & Preprocessing/data/approach_1/02_prepared_train_dataset/01_strategy_full_single_leaves/train/Healthy: 1341\n",
            "Number of files in /content/drive/MyDrive/SaoPauloChapter_Plants-Disease_2023-Aug-02/Task-2-Data Collection & Preprocessing/data/approach_1/02_prepared_train_dataset/01_strategy_full_single_leaves/train/Healthy: 1341\n"
          ]
        }
      ]
    },
    {
      "cell_type": "markdown",
      "source": [
        "Rust"
      ],
      "metadata": {
        "id": "pHRg-QW_rOwC"
      }
    },
    {
      "cell_type": "code",
      "source": [
        "label = 'Rust'\n",
        "\n",
        "source_path = source_dataset_path + label\n",
        "\n",
        "#chose a name of path to copy your data\n",
        "destination_path = f\"{destination_strategy_path}/{strategy_path_name}/train/{label}\"\n",
        "#counting files to check, the process can be slow\n",
        "file_count = sum([len(files) for _, _, files in os.walk(destination_path)])\n",
        "print(f\"Number of files in {destination_path}: {file_count}\")\n",
        "\n",
        "shutil.copytree(source_path, destination_path,dirs_exist_ok=True)\n",
        "\n",
        "#counting files to check, the process can be slow\n",
        "file_count = sum([len(files) for _, _, files in os.walk(destination_path)])\n",
        "print(f\"Number of files in {destination_path}: {file_count}\")"
      ],
      "metadata": {
        "colab": {
          "base_uri": "https://localhost:8080/"
        },
        "outputId": "85dafb51-2c9c-48cd-97b6-c3a061cfc350",
        "id": "UvP9k_2WrOwC"
      },
      "execution_count": null,
      "outputs": [
        {
          "output_type": "stream",
          "name": "stdout",
          "text": [
            "Number of files in /content/drive/MyDrive/SaoPauloChapter_Plants-Disease_2023-Aug-02/Task-2-Data Collection & Preprocessing/data/approach_1/02_prepared_train_dataset/01_strategy_full_single_leaves/train/Rust: 400\n",
            "Number of files in /content/drive/MyDrive/SaoPauloChapter_Plants-Disease_2023-Aug-02/Task-2-Data Collection & Preprocessing/data/approach_1/02_prepared_train_dataset/01_strategy_full_single_leaves/train/Rust: 1400\n"
          ]
        }
      ]
    },
    {
      "cell_type": "markdown",
      "source": [
        "#### Penyakit_Daun_Kopi_Computer_Vision_Project"
      ],
      "metadata": {
        "id": "RB0_B2hxrOwC"
      }
    },
    {
      "cell_type": "code",
      "source": [
        "source_dataset_path = '/content/drive/MyDrive/SaoPauloChapter_Plants-Disease_2023-Aug-02/Task-2-Data Collection & Preprocessing/data/approach_1/01_original_datasets/Penyakit_Daun_Kopi_Computer_Vision_Project/02_original_organized_by_disease_name/'"
      ],
      "metadata": {
        "id": "9XFr5W0OrOwD"
      },
      "execution_count": null,
      "outputs": []
    },
    {
      "cell_type": "markdown",
      "source": [
        "Cescospora"
      ],
      "metadata": {
        "id": "vFJSznhDrOwD"
      }
    },
    {
      "cell_type": "code",
      "source": [
        "label = 'Cescospora'\n",
        "\n",
        "source_path = source_dataset_path + label\n",
        "\n",
        "#chose a name of path to copy your data\n",
        "destination_path = f\"{destination_strategy_path}/{strategy_path_name}/train/{label}\"\n",
        "#counting files to check, the process can be slow\n",
        "file_count = sum([len(files) for _, _, files in os.walk(destination_path)])\n",
        "print(f\"Number of files in {destination_path}: {file_count}\")\n",
        "\n",
        "shutil.copytree(source_path, destination_path,dirs_exist_ok=True)\n",
        "\n",
        "#counting files to check, the process can be slow\n",
        "file_count = sum([len(files) for _, _, files in os.walk(destination_path)])\n",
        "print(f\"Number of files in {destination_path}: {file_count}\")"
      ],
      "metadata": {
        "colab": {
          "base_uri": "https://localhost:8080/"
        },
        "outputId": "7c8a91bb-77bb-4250-e356-5fad59b45f20",
        "id": "7p1GjLdurOwD"
      },
      "execution_count": null,
      "outputs": [
        {
          "output_type": "stream",
          "name": "stdout",
          "text": [
            "Number of files in /content/drive/MyDrive/SaoPauloChapter_Plants-Disease_2023-Aug-02/Task-2-Data Collection & Preprocessing/data/approach_1/02_prepared_train_dataset/01_strategy_full_single_and_cropped_leaves/train/Cescospora: 8439\n",
            "Number of files in /content/drive/MyDrive/SaoPauloChapter_Plants-Disease_2023-Aug-02/Task-2-Data Collection & Preprocessing/data/approach_1/02_prepared_train_dataset/01_strategy_full_single_and_cropped_leaves/train/Cescospora: 8639\n"
          ]
        }
      ]
    },
    {
      "cell_type": "markdown",
      "source": [
        "Healthy"
      ],
      "metadata": {
        "id": "iWp7I_AzrOwD"
      }
    },
    {
      "cell_type": "code",
      "source": [
        "label = 'Healthy'\n",
        "\n",
        "source_path = source_dataset_path + label\n",
        "\n",
        "#chose a name of path to copy your data\n",
        "destination_path = f\"{destination_strategy_path}/{strategy_path_name}/train/{label}\"\n",
        "#counting files to check, the process can be slow\n",
        "file_count = sum([len(files) for _, _, files in os.walk(destination_path)])\n",
        "print(f\"Number of files in {destination_path}: {file_count}\")\n",
        "\n",
        "shutil.copytree(source_path, destination_path,dirs_exist_ok=True)\n",
        "\n",
        "#counting files to check, the process can be slow\n",
        "file_count = sum([len(files) for _, _, files in os.walk(destination_path)])\n",
        "print(f\"Number of files in {destination_path}: {file_count}\")"
      ],
      "metadata": {
        "colab": {
          "base_uri": "https://localhost:8080/"
        },
        "outputId": "de068d33-f059-4f0a-bc6b-55ae43a99936",
        "id": "IQLLyE0frOwD"
      },
      "execution_count": null,
      "outputs": [
        {
          "output_type": "stream",
          "name": "stdout",
          "text": [
            "Number of files in /content/drive/MyDrive/SaoPauloChapter_Plants-Disease_2023-Aug-02/Task-2-Data Collection & Preprocessing/data/approach_1/02_prepared_train_dataset/01_strategy_full_single_and_cropped_leaves/train/Healthy: 19384\n",
            "Number of files in /content/drive/MyDrive/SaoPauloChapter_Plants-Disease_2023-Aug-02/Task-2-Data Collection & Preprocessing/data/approach_1/02_prepared_train_dataset/01_strategy_full_single_and_cropped_leaves/train/Healthy: 19584\n"
          ]
        }
      ]
    },
    {
      "cell_type": "markdown",
      "source": [
        "Rust"
      ],
      "metadata": {
        "id": "pKvA9ldbrOwE"
      }
    },
    {
      "cell_type": "code",
      "source": [
        "label = 'Rust'\n",
        "\n",
        "source_path = source_dataset_path + label\n",
        "\n",
        "#chose a name of path to copy your data\n",
        "destination_path = f\"{destination_strategy_path}/{strategy_path_name}/train/{label}\"\n",
        "#counting files to check, the process can be slow\n",
        "file_count = sum([len(files) for _, _, files in os.walk(destination_path)])\n",
        "print(f\"Number of files in {destination_path}: {file_count}\")\n",
        "\n",
        "shutil.copytree(source_path, destination_path,dirs_exist_ok=True)\n",
        "\n",
        "#counting files to check, the process can be slow\n",
        "file_count = sum([len(files) for _, _, files in os.walk(destination_path)])\n",
        "print(f\"Number of files in {destination_path}: {file_count}\")"
      ],
      "metadata": {
        "colab": {
          "base_uri": "https://localhost:8080/"
        },
        "outputId": "f76a091e-6260-4c2b-df68-f9ce2f863770",
        "id": "QMnqDbEErOwE"
      },
      "execution_count": null,
      "outputs": [
        {
          "output_type": "stream",
          "name": "stdout",
          "text": [
            "Number of files in /content/drive/MyDrive/SaoPauloChapter_Plants-Disease_2023-Aug-02/Task-2-Data Collection & Preprocessing/data/approach_1/02_prepared_train_dataset/01_strategy_full_single_and_cropped_leaves/train/Rust: 8970\n",
            "Number of files in /content/drive/MyDrive/SaoPauloChapter_Plants-Disease_2023-Aug-02/Task-2-Data Collection & Preprocessing/data/approach_1/02_prepared_train_dataset/01_strategy_full_single_and_cropped_leaves/train/Rust: 9070\n"
          ]
        }
      ]
    },
    {
      "cell_type": "markdown",
      "source": [
        "#### 1000101010001010101010111_Computer_Vision_Project"
      ],
      "metadata": {
        "id": "PiLXLE7prOwE"
      }
    },
    {
      "cell_type": "code",
      "source": [
        "source_dataset_path = '/content/drive/MyDrive/SaoPauloChapter_Plants-Disease_2023-Aug-02/Task-2-Data Collection & Preprocessing/data/approach_1/01_original_datasets/1000101010001010101010111_Computer_Vision_Project/02_original_organized_by_disease_name/'"
      ],
      "metadata": {
        "id": "fVVwY9lbrOwE"
      },
      "execution_count": null,
      "outputs": []
    },
    {
      "cell_type": "markdown",
      "source": [
        "Miner"
      ],
      "metadata": {
        "id": "S_QIYOaprOwE"
      }
    },
    {
      "cell_type": "code",
      "source": [
        "label = 'Miner'\n",
        "\n",
        "source_path = source_dataset_path + label\n",
        "\n",
        "#chose a name of path to copy your data\n",
        "destination_path = f\"{destination_strategy_path}/{strategy_path_name}/train/{label}\"\n",
        "shutil.copytree(source_path, destination_path,dirs_exist_ok=True)"
      ],
      "metadata": {
        "colab": {
          "base_uri": "https://localhost:8080/",
          "height": 35
        },
        "outputId": "80afd68a-3c17-437d-b41e-e65c9acc23a3",
        "id": "8y_of9BvrOwF"
      },
      "execution_count": null,
      "outputs": [
        {
          "output_type": "execute_result",
          "data": {
            "text/plain": [
              "'/content/drive/MyDrive/SaoPauloChapter_Plants-Disease_2023-Aug-02/Task-2-Data Collection & Preprocessing/data/approach_1/02_prepared_train_dataset/01_strategy_full_single_and_cropped_leaves/train/Miner'"
            ],
            "application/vnd.google.colaboratory.intrinsic+json": {
              "type": "string"
            }
          },
          "metadata": {},
          "execution_count": 29
        }
      ]
    },
    {
      "cell_type": "code",
      "source": [
        "#counting files to check, the process can be slow\n",
        "file_count = sum([len(files) for _, _, files in os.walk(destination_path)])\n",
        "print(f\"Number of files in {destination_path}: {file_count}\")"
      ],
      "metadata": {
        "colab": {
          "base_uri": "https://localhost:8080/"
        },
        "outputId": "dbd1c024-1cee-493d-b3f7-877b257da0cb",
        "id": "9FrEyN5qrOwF"
      },
      "execution_count": null,
      "outputs": [
        {
          "output_type": "stream",
          "name": "stdout",
          "text": [
            "Number of files in /content/drive/MyDrive/SaoPauloChapter_Plants-Disease_2023-Aug-02/Task-2-Data Collection & Preprocessing/data/approach_1/02_prepared_train_dataset/01_strategy_full_single_and_cropped_leaves/train/Miner: 2442\n"
          ]
        }
      ]
    },
    {
      "cell_type": "markdown",
      "source": [
        "Rust"
      ],
      "metadata": {
        "id": "6SdnRCg3rOwF"
      }
    },
    {
      "cell_type": "code",
      "source": [
        "label = 'Rust'\n",
        "\n",
        "source_path = source_dataset_path + label\n",
        "\n",
        "#chose a name of path to copy your data\n",
        "destination_path = f\"{destination_strategy_path}/{strategy_path_name}/train/{label}\"\n",
        "#counting files to check, the process can be slow\n",
        "file_count = sum([len(files) for _, _, files in os.walk(destination_path)])\n",
        "print(f\"Number of files in {destination_path}: {file_count}\")\n",
        "\n",
        "shutil.copytree(source_path, destination_path,dirs_exist_ok=True)\n",
        "\n",
        "#counting files to check, the process can be slow\n",
        "file_count = sum([len(files) for _, _, files in os.walk(destination_path)])\n",
        "print(f\"Number of files in {destination_path}: {file_count}\")"
      ],
      "metadata": {
        "colab": {
          "base_uri": "https://localhost:8080/"
        },
        "outputId": "ec13f65a-9534-420a-ce75-ead627bafa3b",
        "id": "oQSYdZH_rOwF"
      },
      "execution_count": null,
      "outputs": [
        {
          "output_type": "stream",
          "name": "stdout",
          "text": [
            "Number of files in /content/drive/MyDrive/SaoPauloChapter_Plants-Disease_2023-Aug-02/Task-2-Data Collection & Preprocessing/data/approach_1/02_prepared_train_dataset/01_strategy_full_single_and_cropped_leaves/train/Rust: 9070\n",
            "Number of files in /content/drive/MyDrive/SaoPauloChapter_Plants-Disease_2023-Aug-02/Task-2-Data Collection & Preprocessing/data/approach_1/02_prepared_train_dataset/01_strategy_full_single_and_cropped_leaves/train/Rust: 9370\n"
          ]
        }
      ]
    },
    {
      "cell_type": "markdown",
      "source": [
        "#### i_wlobq"
      ],
      "metadata": {
        "id": "TZrDLIekrOwF"
      }
    },
    {
      "cell_type": "code",
      "source": [
        "source_dataset_path = '/content/drive/MyDrive/SaoPauloChapter_Plants-Disease_2023-Aug-02/Task-2-Data Collection & Preprocessing/data/approach_1/01_original_datasets/i_wlobq/02_original_organized_by_disease_name/'"
      ],
      "metadata": {
        "id": "Dgh2n2HOrOwG"
      },
      "execution_count": null,
      "outputs": []
    },
    {
      "cell_type": "markdown",
      "source": [
        "Healthy"
      ],
      "metadata": {
        "id": "SgAUnZ7irOwG"
      }
    },
    {
      "cell_type": "code",
      "source": [
        "label = 'Healthy'\n",
        "\n",
        "source_path = source_dataset_path + label\n",
        "\n",
        "#chose a name of path to copy your data\n",
        "destination_path = f\"{destination_strategy_path}/{strategy_path_name}/train/{label}\"\n",
        "#counting files to check, the process can be slow\n",
        "file_count = sum([len(files) for _, _, files in os.walk(destination_path)])\n",
        "print(f\"Number of files in {destination_path}: {file_count}\")\n",
        "\n",
        "shutil.copytree(source_path, destination_path,dirs_exist_ok=True)\n",
        "\n",
        "#counting files to check, the process can be slow\n",
        "file_count = sum([len(files) for _, _, files in os.walk(destination_path)])\n",
        "print(f\"Number of files in {destination_path}: {file_count}\")"
      ],
      "metadata": {
        "colab": {
          "base_uri": "https://localhost:8080/"
        },
        "outputId": "55790aa7-de1e-4617-f8c2-e1127affe6e1",
        "id": "JiEHjjJurOwG"
      },
      "execution_count": null,
      "outputs": [
        {
          "output_type": "stream",
          "name": "stdout",
          "text": [
            "Number of files in /content/drive/MyDrive/SaoPauloChapter_Plants-Disease_2023-Aug-02/Task-2-Data Collection & Preprocessing/data/approach_1/02_prepared_train_dataset/01_strategy_full_single_and_cropped_leaves/train/Healthy: 19584\n",
            "Number of files in /content/drive/MyDrive/SaoPauloChapter_Plants-Disease_2023-Aug-02/Task-2-Data Collection & Preprocessing/data/approach_1/02_prepared_train_dataset/01_strategy_full_single_and_cropped_leaves/train/Healthy: 19722\n"
          ]
        }
      ]
    },
    {
      "cell_type": "markdown",
      "source": [
        "### Train dataset 02_strategy_just_single_leaves"
      ],
      "metadata": {
        "id": "Njm5xKDiqIXa"
      }
    },
    {
      "cell_type": "code",
      "source": [
        "strategy_path_name = '002_strategy_just_single_leaves'"
      ],
      "metadata": {
        "id": "lhkWGEbo69-r"
      },
      "execution_count": null,
      "outputs": []
    },
    {
      "cell_type": "code",
      "source": [
        "destination_strategy_path = '/content/drive/MyDrive/SaoPauloChapter_Plants-Disease_2023-Aug-02/Task-2-Data Collection & Preprocessing/data/approach_1/02_prepared_train_dataset'"
      ],
      "metadata": {
        "id": "A0oGveuK7aGk"
      },
      "execution_count": null,
      "outputs": []
    },
    {
      "cell_type": "code",
      "source": [
        "path = destination_strategy_path + '/'+strategy_path_name + '/' + 'train'\n",
        "folders = [f for f in os.listdir(path) if os.path.isdir(os.path.join(path, f))]\n",
        "folders"
      ],
      "metadata": {
        "colab": {
          "base_uri": "https://localhost:8080/"
        },
        "id": "vBj4QOwNFYJk",
        "outputId": "9b288eb8-e6ea-4d9d-fed2-c330ab8f205a"
      },
      "execution_count": null,
      "outputs": [
        {
          "output_type": "execute_result",
          "data": {
            "text/plain": [
              "['Healthy', 'Phoma', 'Miner', 'Rust', 'Cescospora']"
            ]
          },
          "metadata": {},
          "execution_count": 30
        }
      ]
    },
    {
      "cell_type": "code",
      "source": [
        "print('Total files in test set')\n",
        "for folder in folders:\n",
        "  #counting files to check, the process can be slow\n",
        "  file_count = sum([len(files) for _, _, files in os.walk(path + \"/\" +folder)])\n",
        "  print(f\"{folder}: {file_count}\")"
      ],
      "metadata": {
        "colab": {
          "base_uri": "https://localhost:8080/"
        },
        "id": "Q4rKs_7MFTO8",
        "outputId": "234b6693-e501-4ce5-87f9-fe6530ce8d65"
      },
      "execution_count": null,
      "outputs": [
        {
          "output_type": "stream",
          "name": "stdout",
          "text": [
            "Total files in test set\n",
            "Healthy: 738\n",
            "Phoma: 826\n",
            "Miner: 1009\n",
            "Rust: 1671\n",
            "Cescospora: 200\n"
          ]
        }
      ]
    },
    {
      "cell_type": "markdown",
      "source": [
        "#### Move entire path grouped"
      ],
      "metadata": {
        "id": "WIWZel4WZky1"
      }
    },
    {
      "cell_type": "code",
      "source": [
        "source_path = '/content/drive/MyDrive/SaoPauloChapter_Plants-Disease_2023-Aug-02/Task-2-Data Collection & Preprocessing/data/approach_1/02_prepared_train_dataset/002_strategy_just_single_leaves'\n",
        "\n",
        "#chose a name of path to copy your data\n",
        "destination_path = f'/content/drive/MyDrive/SaoPauloChapter_Plants-Disease_2023-Aug-02/Task-3-Data Augmentation/data'\n",
        "#counting files to check, the process can be slow\n",
        "file_count = sum([len(files) for _, _, files in os.walk(destination_path)])\n",
        "print(f\"Number of files in {destination_path}: {file_count}\")\n",
        "\n",
        "shutil.copytree(source_path, destination_path,dirs_exist_ok=True)\n",
        "\n",
        "#counting files to check, the process can be slow\n",
        "file_count = sum([len(files) for _, _, files in os.walk(destination_path)])\n",
        "print(f\"Number of files in {destination_path}: {file_count}\")"
      ],
      "metadata": {
        "colab": {
          "base_uri": "https://localhost:8080/"
        },
        "id": "eyYZedBPZmu0",
        "outputId": "8b0b6b2a-67a2-49c0-b092-e425adb8bd94"
      },
      "execution_count": null,
      "outputs": [
        {
          "output_type": "stream",
          "name": "stdout",
          "text": [
            "Number of files in /content/drive/MyDrive/SaoPauloChapter_Plants-Disease_2023-Aug-02/Task-3-Data Augmentation/data: 0\n",
            "Number of files in /content/drive/MyDrive/SaoPauloChapter_Plants-Disease_2023-Aug-02/Task-3-Data Augmentation/data: 4444\n"
          ]
        }
      ]
    },
    {
      "cell_type": "code",
      "source": [
        "source_path"
      ],
      "metadata": {
        "colab": {
          "base_uri": "https://localhost:8080/",
          "height": 36
        },
        "id": "rSPBOohxclGO",
        "outputId": "20e05be3-eb37-4a31-8a61-89cabd66319d"
      },
      "execution_count": null,
      "outputs": [
        {
          "output_type": "execute_result",
          "data": {
            "text/plain": [
              "'/content/drive/MyDrive/SaoPauloChapter_Plants-Disease_2023-Aug-02/Task-2-Data Collection & Preprocessing/data/approach_1/02_prepared_train_dataset/002_strategy_just_single_leaves'"
            ],
            "application/vnd.google.colaboratory.intrinsic+json": {
              "type": "string"
            }
          },
          "metadata": {},
          "execution_count": 38
        }
      ]
    },
    {
      "cell_type": "code",
      "source": [
        "path = '/content/drive/MyDrive/SaoPauloChapter_Plants-Disease_2023-Aug-02/Task-3-Data Augmentation/data/train'\n",
        "folders = [f for f in os.listdir(path) if os.path.isdir(os.path.join(path, f))]\n",
        "folders"
      ],
      "metadata": {
        "colab": {
          "base_uri": "https://localhost:8080/"
        },
        "id": "0reeGjEEpUqU",
        "outputId": "7e14ad53-79b0-45e0-d6f0-edc5f641695f"
      },
      "execution_count": null,
      "outputs": [
        {
          "output_type": "execute_result",
          "data": {
            "text/plain": [
              "['Healthy', 'Phoma', 'Miner', 'Rust', 'Cescospora']"
            ]
          },
          "metadata": {},
          "execution_count": 41
        }
      ]
    },
    {
      "cell_type": "code",
      "source": [
        "print('Total files in test set')\n",
        "for folder in folders:\n",
        "  #counting files to check, the process can be slow\n",
        "  file_count = sum([len(files) for _, _, files in os.walk(path + \"/\" +folder)])\n",
        "  print(f\"{folder}: {file_count}\")"
      ],
      "metadata": {
        "colab": {
          "base_uri": "https://localhost:8080/"
        },
        "id": "CZFhvVoLpWUC",
        "outputId": "9bd4e83e-9b17-413a-e516-de8229f3eb6d"
      },
      "execution_count": null,
      "outputs": [
        {
          "output_type": "stream",
          "name": "stdout",
          "text": [
            "Total files in test set\n",
            "Healthy: 738\n",
            "Phoma: 826\n",
            "Miner: 1009\n",
            "Rust: 1671\n",
            "Cescospora: 200\n"
          ]
        }
      ]
    },
    {
      "cell_type": "code",
      "source": [],
      "metadata": {
        "id": "vHiALghZpS_g"
      },
      "execution_count": null,
      "outputs": []
    },
    {
      "cell_type": "markdown",
      "source": [
        "#### Bracol"
      ],
      "metadata": {
        "id": "fPTbq83_hYmE"
      }
    },
    {
      "cell_type": "code",
      "source": [
        "source_path = '/content/drive/MyDrive/SaoPauloChapter_Plants-Disease_2023-Aug-02/Task-2-Data Collection & Preprocessing/data/approach_1/01_original_datasets/Bracol/02_original_organized_by_disease_name/automatic/Miner'\n",
        "\n",
        "#chose a name of path to copy your data\n",
        "destination_path = f'/content/drive/MyDrive/SaoPauloChapter_Plants-Disease_2023-Aug-02/Task-2-Data Collection & Preprocessing/data/approach_1/02_prepared_train_dataset/02_strategy_just_single_leaves/train/Miner'\n",
        "#counting files to check, the process can be slow\n",
        "file_count = sum([len(files) for _, _, files in os.walk(destination_path)])\n",
        "print(f\"Number of files in {destination_path}: {file_count}\")\n",
        "\n",
        "shutil.copytree(source_path, destination_path,dirs_exist_ok=True)\n",
        "\n",
        "#counting files to check, the process can be slow\n",
        "file_count = sum([len(files) for _, _, files in os.walk(destination_path)])\n",
        "print(f\"Number of files in {destination_path}: {file_count}\")"
      ],
      "metadata": {
        "colab": {
          "base_uri": "https://localhost:8080/"
        },
        "id": "ai11OgJ4hZ5i",
        "outputId": "1dcc1516-044a-4a52-ef93-6640456550a0"
      },
      "execution_count": null,
      "outputs": [
        {
          "output_type": "stream",
          "name": "stdout",
          "text": [
            "Number of files in /content/drive/MyDrive/SaoPauloChapter_Plants-Disease_2023-Aug-02/Task-2-Data Collection & Preprocessing/data/approach_1/02_prepared_train_dataset/02_strategy_just_single_leaves/train/Miner: 0\n",
            "Number of files in /content/drive/MyDrive/SaoPauloChapter_Plants-Disease_2023-Aug-02/Task-2-Data Collection & Preprocessing/data/approach_1/02_prepared_train_dataset/02_strategy_just_single_leaves/train/Miner: 322\n"
          ]
        }
      ]
    },
    {
      "cell_type": "code",
      "source": [
        "source_path = '/content/drive/MyDrive/SaoPauloChapter_Plants-Disease_2023-Aug-02/Task-2-Data Collection & Preprocessing/data/approach_1/01_original_datasets/Bracol/02_original_organized_by_disease_name/automatic/Phoma'\n",
        "\n",
        "#chose a name of path to copy your data\n",
        "destination_path = f'/content/drive/MyDrive/SaoPauloChapter_Plants-Disease_2023-Aug-02/Task-2-Data Collection & Preprocessing/data/approach_1/02_prepared_train_dataset/02_strategy_just_single_leaves/train/Phoma'\n",
        "#counting files to check, the process can be slow\n",
        "file_count = sum([len(files) for _, _, files in os.walk(destination_path)])\n",
        "print(f\"Number of files in {destination_path}: {file_count}\")\n",
        "\n",
        "shutil.copytree(source_path, destination_path,dirs_exist_ok=True)\n",
        "\n",
        "#counting files to check, the process can be slow\n",
        "file_count = sum([len(files) for _, _, files in os.walk(destination_path)])\n",
        "print(f\"Number of files in {destination_path}: {file_count}\")"
      ],
      "metadata": {
        "colab": {
          "base_uri": "https://localhost:8080/"
        },
        "id": "loJhMlnGiSUn",
        "outputId": "520853ab-48ef-4add-efe3-aff0b0067788"
      },
      "execution_count": null,
      "outputs": [
        {
          "output_type": "stream",
          "name": "stdout",
          "text": [
            "Number of files in /content/drive/MyDrive/SaoPauloChapter_Plants-Disease_2023-Aug-02/Task-2-Data Collection & Preprocessing/data/approach_1/02_prepared_train_dataset/02_strategy_just_single_leaves/train/Phoma: 484\n",
            "Number of files in /content/drive/MyDrive/SaoPauloChapter_Plants-Disease_2023-Aug-02/Task-2-Data Collection & Preprocessing/data/approach_1/02_prepared_train_dataset/02_strategy_just_single_leaves/train/Phoma: 826\n"
          ]
        }
      ]
    },
    {
      "cell_type": "code",
      "source": [
        "source_path = '/content/drive/MyDrive/SaoPauloChapter_Plants-Disease_2023-Aug-02/Task-2-Data Collection & Preprocessing/data/approach_1/01_original_datasets/Bracol/02_original_organized_by_disease_name/automatic/Rust'\n",
        "\n",
        "#chose a name of path to copy your data\n",
        "destination_path = f'/content/drive/MyDrive/SaoPauloChapter_Plants-Disease_2023-Aug-02/Task-2-Data Collection & Preprocessing/data/approach_1/02_prepared_train_dataset/02_strategy_just_single_leaves/train/Rust'\n",
        "#counting files to check, the process can be slow\n",
        "file_count = sum([len(files) for _, _, files in os.walk(destination_path)])\n",
        "print(f\"Number of files in {destination_path}: {file_count}\")\n",
        "\n",
        "shutil.copytree(source_path, destination_path,dirs_exist_ok=True)\n",
        "\n",
        "#counting files to check, the process can be slow\n",
        "file_count = sum([len(files) for _, _, files in os.walk(destination_path)])\n",
        "print(f\"Number of files in {destination_path}: {file_count}\")"
      ],
      "metadata": {
        "colab": {
          "base_uri": "https://localhost:8080/"
        },
        "id": "m5-ZQyIRiTA2",
        "outputId": "93f4750a-5d70-41a2-f808-76fe078f4b10"
      },
      "execution_count": null,
      "outputs": [
        {
          "output_type": "stream",
          "name": "stdout",
          "text": [
            "Number of files in /content/drive/MyDrive/SaoPauloChapter_Plants-Disease_2023-Aug-02/Task-2-Data Collection & Preprocessing/data/approach_1/02_prepared_train_dataset/02_strategy_just_single_leaves/train/Rust: 1322\n",
            "Number of files in /content/drive/MyDrive/SaoPauloChapter_Plants-Disease_2023-Aug-02/Task-2-Data Collection & Preprocessing/data/approach_1/02_prepared_train_dataset/02_strategy_just_single_leaves/train/Rust: 1671\n"
          ]
        }
      ]
    },
    {
      "cell_type": "markdown",
      "source": [
        "#### Coffee leaf diseases Kaggle"
      ],
      "metadata": {
        "id": "ff1KenucDadJ"
      }
    },
    {
      "cell_type": "code",
      "source": [
        "source_dataset_path = '/content/drive/MyDrive/SaoPauloChapter_Plants-Disease_2023-Aug-02/Task-2-Data Collection & Preprocessing/data/approach_1/01_original_datasets/Coffee leaf diseases Kaggle/02_original_organized_by_disease_name/'"
      ],
      "metadata": {
        "id": "Ty6YBK0qDap2"
      },
      "execution_count": null,
      "outputs": []
    },
    {
      "cell_type": "markdown",
      "source": [
        "Healthy"
      ],
      "metadata": {
        "id": "WzRlSzNKDlaS"
      }
    },
    {
      "cell_type": "code",
      "source": [
        "label = 'Healthy'\n",
        "\n",
        "source_path = source_dataset_path + label\n",
        "\n",
        "#chose a name of path to copy your data\n",
        "destination_path = f\"{destination_strategy_path}/{strategy_path_name}/train/{label}\"\n",
        "#counting files to check, the process can be slow\n",
        "file_count = sum([len(files) for _, _, files in os.walk(destination_path)])\n",
        "print(f\"Number of files in {destination_path}: {file_count}\")\n",
        "\n",
        "shutil.copytree(source_path, destination_path,dirs_exist_ok=True)\n",
        "\n",
        "#counting files to check, the process can be slow\n",
        "file_count = sum([len(files) for _, _, files in os.walk(destination_path)])\n",
        "print(f\"Number of files in {destination_path}: {file_count}\")"
      ],
      "metadata": {
        "colab": {
          "base_uri": "https://localhost:8080/"
        },
        "id": "FmYpYfxqDljR",
        "outputId": "b5108182-168e-4cbc-d99f-c58a97f23bee"
      },
      "execution_count": null,
      "outputs": [
        {
          "output_type": "stream",
          "name": "stdout",
          "text": [
            "Number of files in /content/drive/MyDrive/SaoPauloChapter_Plants-Disease_2023-Aug-02/Task-2-Data Collection & Preprocessing/data/approach_1/02_prepared_train_dataset/02_strategy_just_single_leaves/train/Healthy: 0\n",
            "Number of files in /content/drive/MyDrive/SaoPauloChapter_Plants-Disease_2023-Aug-02/Task-2-Data Collection & Preprocessing/data/approach_1/02_prepared_train_dataset/02_strategy_just_single_leaves/train/Healthy: 400\n"
          ]
        }
      ]
    },
    {
      "cell_type": "markdown",
      "source": [
        "Miner"
      ],
      "metadata": {
        "id": "XhKRs7XOEnYg"
      }
    },
    {
      "cell_type": "code",
      "source": [
        "label = 'Miner'\n",
        "\n",
        "source_path = source_dataset_path + label\n",
        "\n",
        "#chose a name of path to copy your data\n",
        "destination_path = f\"{destination_strategy_path}/{strategy_path_name}/train/{label}\"\n",
        "#counting files to check, the process can be slow\n",
        "file_count = sum([len(files) for _, _, files in os.walk(destination_path)])\n",
        "print(f\"Number of files in {destination_path}: {file_count}\")\n",
        "\n",
        "shutil.copytree(source_path, destination_path,dirs_exist_ok=True)\n",
        "\n",
        "#counting files to check, the process can be slow\n",
        "file_count = sum([len(files) for _, _, files in os.walk(destination_path)])\n",
        "print(f\"Number of files in {destination_path}: {file_count}\")"
      ],
      "metadata": {
        "colab": {
          "base_uri": "https://localhost:8080/"
        },
        "id": "zXJwcBf3EnhT",
        "outputId": "8de7efca-0ef9-49e9-fa47-e24d1777aeba"
      },
      "execution_count": null,
      "outputs": [
        {
          "output_type": "stream",
          "name": "stdout",
          "text": [
            "Number of files in /content/drive/MyDrive/SaoPauloChapter_Plants-Disease_2023-Aug-02/Task-2-Data Collection & Preprocessing/data/approach_1/02_prepared_train_dataset/02_strategy_just_single_leaves/train/Miner: 322\n",
            "Number of files in /content/drive/MyDrive/SaoPauloChapter_Plants-Disease_2023-Aug-02/Task-2-Data Collection & Preprocessing/data/approach_1/02_prepared_train_dataset/02_strategy_just_single_leaves/train/Miner: 782\n"
          ]
        }
      ]
    },
    {
      "cell_type": "markdown",
      "source": [
        "Phoma"
      ],
      "metadata": {
        "id": "uqcIdd-AEr2d"
      }
    },
    {
      "cell_type": "code",
      "source": [
        "label = 'Phoma'\n",
        "\n",
        "source_path = source_dataset_path + label\n",
        "\n",
        "#chose a name of path to copy your data\n",
        "destination_path = f\"{destination_strategy_path}/{strategy_path_name}/train/{label}\"\n",
        "#counting files to check, the process can be slow\n",
        "file_count = sum([len(files) for _, _, files in os.walk(destination_path)])\n",
        "print(f\"Number of files in {destination_path}: {file_count}\")\n",
        "\n",
        "shutil.copytree(source_path, destination_path,dirs_exist_ok=True)\n",
        "\n",
        "#counting files to check, the process can be slow\n",
        "file_count = sum([len(files) for _, _, files in os.walk(destination_path)])\n",
        "print(f\"Number of files in {destination_path}: {file_count}\")"
      ],
      "metadata": {
        "colab": {
          "base_uri": "https://localhost:8080/"
        },
        "id": "T_Pqn4wSEr_Q",
        "outputId": "45aeb05a-3a4f-4656-c008-9c89921439c9"
      },
      "execution_count": null,
      "outputs": [
        {
          "output_type": "stream",
          "name": "stdout",
          "text": [
            "Number of files in /content/drive/MyDrive/SaoPauloChapter_Plants-Disease_2023-Aug-02/Task-2-Data Collection & Preprocessing/data/approach_1/02_prepared_train_dataset/02_strategy_just_single_leaves/train/Phoma: 0\n",
            "Number of files in /content/drive/MyDrive/SaoPauloChapter_Plants-Disease_2023-Aug-02/Task-2-Data Collection & Preprocessing/data/approach_1/02_prepared_train_dataset/02_strategy_just_single_leaves/train/Phoma: 484\n"
          ]
        }
      ]
    },
    {
      "cell_type": "markdown",
      "source": [
        "Rust"
      ],
      "metadata": {
        "id": "bLK6Pu_LEvWx"
      }
    },
    {
      "cell_type": "code",
      "source": [
        "label = 'Rust'\n",
        "\n",
        "source_path = source_dataset_path + label\n",
        "\n",
        "#chose a name of path to copy your data\n",
        "destination_path = f\"{destination_strategy_path}/{strategy_path_name}/train/{label}\"\n",
        "#counting files to check, the process can be slow\n",
        "file_count = sum([len(files) for _, _, files in os.walk(destination_path)])\n",
        "print(f\"Number of files in {destination_path}: {file_count}\")\n",
        "\n",
        "shutil.copytree(source_path, destination_path,dirs_exist_ok=True)\n",
        "\n",
        "#counting files to check, the process can be slow\n",
        "file_count = sum([len(files) for _, _, files in os.walk(destination_path)])\n",
        "print(f\"Number of files in {destination_path}: {file_count}\")"
      ],
      "metadata": {
        "colab": {
          "base_uri": "https://localhost:8080/"
        },
        "id": "O3xb-tYHEvfP",
        "outputId": "325877bb-b98e-4c77-86ab-02f67e1d3fc5"
      },
      "execution_count": null,
      "outputs": [
        {
          "output_type": "stream",
          "name": "stdout",
          "text": [
            "Number of files in /content/drive/MyDrive/SaoPauloChapter_Plants-Disease_2023-Aug-02/Task-2-Data Collection & Preprocessing/data/approach_1/02_prepared_train_dataset/02_strategy_just_single_leaves/train/Rust: 0\n",
            "Number of files in /content/drive/MyDrive/SaoPauloChapter_Plants-Disease_2023-Aug-02/Task-2-Data Collection & Preprocessing/data/approach_1/02_prepared_train_dataset/02_strategy_just_single_leaves/train/Rust: 320\n"
          ]
        }
      ]
    },
    {
      "cell_type": "markdown",
      "source": [
        "#### removed (Penyakit Daun NEW.v30-sehat-1000-bercak-1000-karat-1000.yolov8) wrong labels"
      ],
      "metadata": {
        "id": "-KBzE10lBG-l"
      }
    },
    {
      "cell_type": "code",
      "source": [
        "#source_dataset_path = '/content/drive/MyDrive/SaoPauloChapter_Plants-Disease_2023-Aug-02/Task-2-Data Collection & Preprocessing/data/approach_1/01_original_datasets/Penyakit Daun NEW.v30-sehat-1000-bercak-1000-karat-1000.yolov8/02_original_organized_by_disease_name/'"
      ],
      "metadata": {
        "id": "484Y9IrBBHKA"
      },
      "execution_count": null,
      "outputs": []
    },
    {
      "cell_type": "markdown",
      "source": [
        "Cescospora"
      ],
      "metadata": {
        "id": "-shFcN0wCdD1"
      }
    },
    {
      "cell_type": "code",
      "source": [
        "label = 'Cescospora'\n",
        "\n",
        "source_path = source_dataset_path + label\n",
        "\n",
        "#chose a name of path to copy your data\n",
        "destination_path = f\"{destination_strategy_path}/{strategy_path_name}/train/{label}\"\n",
        "#counting files to check, the process can be slow\n",
        "file_count = sum([len(files) for _, _, files in os.walk(destination_path)])\n",
        "print(f\"Number of files in {destination_path}: {file_count}\")\n",
        "\n",
        "shutil.copytree(source_path, destination_path,dirs_exist_ok=True)\n",
        "\n",
        "#counting files to check, the process can be slow\n",
        "file_count = sum([len(files) for _, _, files in os.walk(destination_path)])\n",
        "print(f\"Number of files in {destination_path}: {file_count}\")"
      ],
      "metadata": {
        "colab": {
          "base_uri": "https://localhost:8080/"
        },
        "id": "TJi7aZvkCbgL",
        "outputId": "44790cb5-18a0-467c-8a3f-784dccf2ac57"
      },
      "execution_count": null,
      "outputs": [
        {
          "output_type": "stream",
          "name": "stdout",
          "text": [
            "Number of files in /content/drive/MyDrive/SaoPauloChapter_Plants-Disease_2023-Aug-02/Task-2-Data Collection & Preprocessing/data/approach_1/02_prepared_train_dataset/02_strategy_just_single_leaves/train/Cescospora: 0\n",
            "Number of files in /content/drive/MyDrive/SaoPauloChapter_Plants-Disease_2023-Aug-02/Task-2-Data Collection & Preprocessing/data/approach_1/02_prepared_train_dataset/02_strategy_just_single_leaves/train/Cescospora: 997\n"
          ]
        }
      ]
    },
    {
      "cell_type": "markdown",
      "source": [
        "Healthy"
      ],
      "metadata": {
        "id": "AX6pQdn_Chsb"
      }
    },
    {
      "cell_type": "code",
      "source": [
        "label = 'Healthy'\n",
        "\n",
        "source_path = source_dataset_path + label\n",
        "\n",
        "#chose a name of path to copy your data\n",
        "destination_path = f\"{destination_strategy_path}/{strategy_path_name}/train/{label}\"\n",
        "#counting files to check, the process can be slow\n",
        "file_count = sum([len(files) for _, _, files in os.walk(destination_path)])\n",
        "print(f\"Number of files in {destination_path}: {file_count}\")\n",
        "\n",
        "shutil.copytree(source_path, destination_path,dirs_exist_ok=True)\n",
        "\n",
        "#counting files to check, the process can be slow\n",
        "file_count = sum([len(files) for _, _, files in os.walk(destination_path)])\n",
        "print(f\"Number of files in {destination_path}: {file_count}\")"
      ],
      "metadata": {
        "colab": {
          "base_uri": "https://localhost:8080/"
        },
        "id": "bC-tfI2OCh05",
        "outputId": "1790c716-9c15-4d72-db3d-60ebb96c0e98"
      },
      "execution_count": null,
      "outputs": [
        {
          "output_type": "stream",
          "name": "stdout",
          "text": [
            "Number of files in /content/drive/MyDrive/SaoPauloChapter_Plants-Disease_2023-Aug-02/Task-2-Data Collection & Preprocessing/data/approach_1/02_prepared_train_dataset/02_strategy_just_single_leaves/train/Healthy: 0\n",
            "Number of files in /content/drive/MyDrive/SaoPauloChapter_Plants-Disease_2023-Aug-02/Task-2-Data Collection & Preprocessing/data/approach_1/02_prepared_train_dataset/02_strategy_just_single_leaves/train/Healthy: 1003\n"
          ]
        }
      ]
    },
    {
      "cell_type": "markdown",
      "source": [
        "Rust"
      ],
      "metadata": {
        "id": "_H1T-VL5CyQ6"
      }
    },
    {
      "cell_type": "code",
      "source": [
        "label = 'Rust'\n",
        "\n",
        "source_path = source_dataset_path + label\n",
        "\n",
        "#chose a name of path to copy your data\n",
        "destination_path = f\"{destination_strategy_path}/{strategy_path_name}/train/{label}\"\n",
        "#counting files to check, the process can be slow\n",
        "file_count = sum([len(files) for _, _, files in os.walk(destination_path)])\n",
        "print(f\"Number of files in {destination_path}: {file_count}\")\n",
        "\n",
        "shutil.copytree(source_path, destination_path,dirs_exist_ok=True)\n",
        "\n",
        "#counting files to check, the process can be slow\n",
        "file_count = sum([len(files) for _, _, files in os.walk(destination_path)])\n",
        "print(f\"Number of files in {destination_path}: {file_count}\")"
      ],
      "metadata": {
        "colab": {
          "base_uri": "https://localhost:8080/"
        },
        "id": "tvFpNrYMCyZi",
        "outputId": "5aa7d202-1b8c-4e54-e1e3-06a1aa696f71"
      },
      "execution_count": null,
      "outputs": [
        {
          "output_type": "stream",
          "name": "stdout",
          "text": [
            "Number of files in /content/drive/MyDrive/SaoPauloChapter_Plants-Disease_2023-Aug-02/Task-2-Data Collection & Preprocessing/data/approach_1/02_prepared_train_dataset/02_strategy_just_single_leaves/train/Rust: 320\n",
            "Number of files in /content/drive/MyDrive/SaoPauloChapter_Plants-Disease_2023-Aug-02/Task-2-Data Collection & Preprocessing/data/approach_1/02_prepared_train_dataset/02_strategy_just_single_leaves/train/Rust: 1320\n"
          ]
        }
      ]
    },
    {
      "cell_type": "markdown",
      "source": [
        "#### Penyakit_Daun_Kopi_Computer_Vision_Project"
      ],
      "metadata": {
        "id": "mR-VwkeOAE86"
      }
    },
    {
      "cell_type": "code",
      "source": [
        "source_dataset_path = '/content/drive/MyDrive/SaoPauloChapter_Plants-Disease_2023-Aug-02/Task-2-Data Collection & Preprocessing/data/approach_1/01_original_datasets/Penyakit_Daun_Kopi_Computer_Vision_Project/02_original_organized_by_disease_name/'"
      ],
      "metadata": {
        "id": "C260uJClAFFu"
      },
      "execution_count": null,
      "outputs": []
    },
    {
      "cell_type": "markdown",
      "source": [
        "Cescospora"
      ],
      "metadata": {
        "id": "GxBtQbsfAP-k"
      }
    },
    {
      "cell_type": "code",
      "source": [
        "label = 'Cescospora'\n",
        "\n",
        "source_path = source_dataset_path + label\n",
        "\n",
        "#chose a name of path to copy your data\n",
        "destination_path = f\"{destination_strategy_path}/{strategy_path_name}/train/{label}\"\n",
        "#counting files to check, the process can be slow\n",
        "file_count = sum([len(files) for _, _, files in os.walk(destination_path)])\n",
        "print(f\"Number of files in {destination_path}: {file_count}\")\n",
        "\n",
        "shutil.copytree(source_path, destination_path,dirs_exist_ok=True)\n",
        "\n",
        "#counting files to check, the process can be slow\n",
        "file_count = sum([len(files) for _, _, files in os.walk(destination_path)])\n",
        "print(f\"Number of files in {destination_path}: {file_count}\")"
      ],
      "metadata": {
        "colab": {
          "base_uri": "https://localhost:8080/"
        },
        "id": "jdagHbJsAQQR",
        "outputId": "829196d2-edd9-4de9-de4d-577371537d5e"
      },
      "execution_count": null,
      "outputs": [
        {
          "output_type": "stream",
          "name": "stdout",
          "text": [
            "Number of files in /content/drive/MyDrive/SaoPauloChapter_Plants-Disease_2023-Aug-02/Task-2-Data Collection & Preprocessing/data/approach_1/02_prepared_train_dataset/02_strategy_just_single_leaves/train/Cescospora: 0\n",
            "Number of files in /content/drive/MyDrive/SaoPauloChapter_Plants-Disease_2023-Aug-02/Task-2-Data Collection & Preprocessing/data/approach_1/02_prepared_train_dataset/02_strategy_just_single_leaves/train/Cescospora: 200\n"
          ]
        }
      ]
    },
    {
      "cell_type": "markdown",
      "source": [
        "Healthy"
      ],
      "metadata": {
        "id": "EexALgUeAi7n"
      }
    },
    {
      "cell_type": "code",
      "source": [
        "label = 'Healthy'\n",
        "\n",
        "source_path = source_dataset_path + label\n",
        "\n",
        "#chose a name of path to copy your data\n",
        "destination_path = f\"{destination_strategy_path}/{strategy_path_name}/train/{label}\"\n",
        "#counting files to check, the process can be slow\n",
        "file_count = sum([len(files) for _, _, files in os.walk(destination_path)])\n",
        "print(f\"Number of files in {destination_path}: {file_count}\")\n",
        "\n",
        "shutil.copytree(source_path, destination_path,dirs_exist_ok=True)\n",
        "\n",
        "#counting files to check, the process can be slow\n",
        "file_count = sum([len(files) for _, _, files in os.walk(destination_path)])\n",
        "print(f\"Number of files in {destination_path}: {file_count}\")"
      ],
      "metadata": {
        "colab": {
          "base_uri": "https://localhost:8080/"
        },
        "id": "fs10seeNAjG7",
        "outputId": "88a6d0d9-9d11-4975-8248-5306379d42b8"
      },
      "execution_count": null,
      "outputs": [
        {
          "output_type": "stream",
          "name": "stdout",
          "text": [
            "Number of files in /content/drive/MyDrive/SaoPauloChapter_Plants-Disease_2023-Aug-02/Task-2-Data Collection & Preprocessing/data/approach_1/02_prepared_train_dataset/02_strategy_just_single_leaves/train/Healthy: 400\n",
            "Number of files in /content/drive/MyDrive/SaoPauloChapter_Plants-Disease_2023-Aug-02/Task-2-Data Collection & Preprocessing/data/approach_1/02_prepared_train_dataset/02_strategy_just_single_leaves/train/Healthy: 600\n"
          ]
        }
      ]
    },
    {
      "cell_type": "markdown",
      "source": [
        "Rust"
      ],
      "metadata": {
        "id": "GEQ1DKSUA9ag"
      }
    },
    {
      "cell_type": "code",
      "source": [
        "label = 'Rust'\n",
        "\n",
        "source_path = source_dataset_path + label\n",
        "\n",
        "#chose a name of path to copy your data\n",
        "destination_path = f\"{destination_strategy_path}/{strategy_path_name}/train/{label}\"\n",
        "#counting files to check, the process can be slow\n",
        "file_count = sum([len(files) for _, _, files in os.walk(destination_path)])\n",
        "print(f\"Number of files in {destination_path}: {file_count}\")\n",
        "\n",
        "shutil.copytree(source_path, destination_path,dirs_exist_ok=True)\n",
        "\n",
        "#counting files to check, the process can be slow\n",
        "file_count = sum([len(files) for _, _, files in os.walk(destination_path)])\n",
        "print(f\"Number of files in {destination_path}: {file_count}\")"
      ],
      "metadata": {
        "colab": {
          "base_uri": "https://localhost:8080/"
        },
        "id": "TMKXe_v1A9lc",
        "outputId": "9feb1d98-a341-4851-ac87-2d9d77d94564"
      },
      "execution_count": null,
      "outputs": [
        {
          "output_type": "stream",
          "name": "stdout",
          "text": [
            "Number of files in /content/drive/MyDrive/SaoPauloChapter_Plants-Disease_2023-Aug-02/Task-2-Data Collection & Preprocessing/data/approach_1/02_prepared_train_dataset/02_strategy_just_single_leaves/train/Rust: 320\n",
            "Number of files in /content/drive/MyDrive/SaoPauloChapter_Plants-Disease_2023-Aug-02/Task-2-Data Collection & Preprocessing/data/approach_1/02_prepared_train_dataset/02_strategy_just_single_leaves/train/Rust: 420\n"
          ]
        }
      ]
    },
    {
      "cell_type": "markdown",
      "source": [
        "#### 1000101010001010101010111_Computer_Vision_Project"
      ],
      "metadata": {
        "id": "A38yLN4l-J4O"
      }
    },
    {
      "cell_type": "code",
      "source": [
        "source_dataset_path = '/content/drive/MyDrive/SaoPauloChapter_Plants-Disease_2023-Aug-02/Task-2-Data Collection & Preprocessing/data/approach_1/01_original_datasets/1000101010001010101010111_Computer_Vision_Project/02_original_organized_by_disease_name/'"
      ],
      "metadata": {
        "id": "ExxN0VkN-J_w"
      },
      "execution_count": null,
      "outputs": []
    },
    {
      "cell_type": "markdown",
      "source": [
        "Miner"
      ],
      "metadata": {
        "id": "Im_JAkrO_lWM"
      }
    },
    {
      "cell_type": "code",
      "source": [
        "label = 'Miner'\n",
        "\n",
        "source_path = source_dataset_path + label\n",
        "\n",
        "#chose a name of path to copy your data\n",
        "destination_path = f\"{destination_strategy_path}/{strategy_path_name}/train/{label}\"\n",
        "#counting files to check, the process can be slow\n",
        "file_count = sum([len(files) for _, _, files in os.walk(destination_path)])\n",
        "print(f\"Number of files in {destination_path}: {file_count}\")\n",
        "\n",
        "shutil.copytree(source_path, destination_path,dirs_exist_ok=True)\n",
        "\n",
        "#counting files to check, the process can be slow\n",
        "file_count = sum([len(files) for _, _, files in os.walk(destination_path)])\n",
        "print(f\"Number of files in {destination_path}: {file_count}\")"
      ],
      "metadata": {
        "colab": {
          "base_uri": "https://localhost:8080/"
        },
        "id": "luIj2qDZ_leR",
        "outputId": "3ff2fa88-0196-4bf8-b111-ba78578b50ff"
      },
      "execution_count": null,
      "outputs": [
        {
          "output_type": "stream",
          "name": "stdout",
          "text": [
            "Number of files in /content/drive/MyDrive/SaoPauloChapter_Plants-Disease_2023-Aug-02/Task-2-Data Collection & Preprocessing/data/approach_1/02_prepared_train_dataset/02_strategy_just_single_leaves/train/Miner: 782\n",
            "Number of files in /content/drive/MyDrive/SaoPauloChapter_Plants-Disease_2023-Aug-02/Task-2-Data Collection & Preprocessing/data/approach_1/02_prepared_train_dataset/02_strategy_just_single_leaves/train/Miner: 1009\n"
          ]
        }
      ]
    },
    {
      "cell_type": "markdown",
      "source": [
        "Rust"
      ],
      "metadata": {
        "id": "qF9Rg7zx_0R0"
      }
    },
    {
      "cell_type": "code",
      "source": [
        "label = 'Rust'\n",
        "\n",
        "source_path = source_dataset_path + label\n",
        "\n",
        "#chose a name of path to copy your data\n",
        "destination_path = f\"{destination_strategy_path}/{strategy_path_name}/train/{label}\"\n",
        "#counting files to check, the process can be slow\n",
        "file_count = sum([len(files) for _, _, files in os.walk(destination_path)])\n",
        "print(f\"Number of files in {destination_path}: {file_count}\")\n",
        "\n",
        "shutil.copytree(source_path, destination_path,dirs_exist_ok=True)\n",
        "\n",
        "#counting files to check, the process can be slow\n",
        "file_count = sum([len(files) for _, _, files in os.walk(destination_path)])\n",
        "print(f\"Number of files in {destination_path}: {file_count}\")"
      ],
      "metadata": {
        "colab": {
          "base_uri": "https://localhost:8080/"
        },
        "id": "MYwNjToM_tWy",
        "outputId": "95815b61-8e4d-4de0-8bd3-8214389ce085"
      },
      "execution_count": null,
      "outputs": [
        {
          "output_type": "stream",
          "name": "stdout",
          "text": [
            "Number of files in /content/drive/MyDrive/SaoPauloChapter_Plants-Disease_2023-Aug-02/Task-2-Data Collection & Preprocessing/data/approach_1/02_prepared_train_dataset/02_strategy_just_single_leaves/train/Rust: 420\n",
            "Number of files in /content/drive/MyDrive/SaoPauloChapter_Plants-Disease_2023-Aug-02/Task-2-Data Collection & Preprocessing/data/approach_1/02_prepared_train_dataset/02_strategy_just_single_leaves/train/Rust: 720\n"
          ]
        }
      ]
    },
    {
      "cell_type": "markdown",
      "source": [
        "#### i_wlobq"
      ],
      "metadata": {
        "id": "_RMVA9BP6ZdV"
      }
    },
    {
      "cell_type": "code",
      "source": [
        "source_dataset_path = '/content/drive/MyDrive/SaoPauloChapter_Plants-Disease_2023-Aug-02/Task-2-Data Collection & Preprocessing/data/approach_1/01_original_datasets/i_wlobq/02_original_organized_by_disease_name/'"
      ],
      "metadata": {
        "id": "HiOIgGp_8QBx"
      },
      "execution_count": null,
      "outputs": []
    },
    {
      "cell_type": "markdown",
      "source": [
        "Healthy"
      ],
      "metadata": {
        "id": "EGqhXm969SlP"
      }
    },
    {
      "cell_type": "code",
      "source": [
        "label = 'Healthy'"
      ],
      "metadata": {
        "id": "t4Q3868a9c-p"
      },
      "execution_count": null,
      "outputs": []
    },
    {
      "cell_type": "code",
      "source": [
        "source_path = source_dataset_path + label\n",
        "\n",
        "#chose a name of path to copy your data\n",
        "destination_path = f\"{destination_strategy_path}/{strategy_path_name}/train/{label}\"\n",
        "#counting files to check, the process can be slow\n",
        "file_count = sum([len(files) for _, _, files in os.walk(destination_path)])\n",
        "print(f\"Number of files in {destination_path}: {file_count}\")\n",
        "\n",
        "shutil.copytree(source_path, destination_path,dirs_exist_ok=True)\n",
        "\n",
        "#counting files to check, the process can be slow\n",
        "file_count = sum([len(files) for _, _, files in os.walk(destination_path)])\n",
        "print(f\"Number of files in {destination_path}: {file_count}\")"
      ],
      "metadata": {
        "colab": {
          "base_uri": "https://localhost:8080/"
        },
        "id": "3HRlnXze77e5",
        "outputId": "c5aaa2af-e85c-456d-9d27-0a24b85ff9c8"
      },
      "execution_count": null,
      "outputs": [
        {
          "output_type": "stream",
          "name": "stdout",
          "text": [
            "Number of files in /content/drive/MyDrive/SaoPauloChapter_Plants-Disease_2023-Aug-02/Task-2-Data Collection & Preprocessing/data/approach_1/02_prepared_train_dataset/02_strategy_just_single_leaves/train/Healthy: 600\n",
            "Number of files in /content/drive/MyDrive/SaoPauloChapter_Plants-Disease_2023-Aug-02/Task-2-Data Collection & Preprocessing/data/approach_1/02_prepared_train_dataset/02_strategy_just_single_leaves/train/Healthy: 738\n"
          ]
        }
      ]
    },
    {
      "cell_type": "markdown",
      "source": [
        "### Train dataset 01_strategy_full single leaves and cropped"
      ],
      "metadata": {
        "id": "5VW0UF9qVzK4"
      }
    },
    {
      "cell_type": "code",
      "source": [
        "strategy_path_name = '001_strategy_full_single_and_cropped_leaves'"
      ],
      "metadata": {
        "id": "A4CkGcxTVzK5"
      },
      "execution_count": 10,
      "outputs": []
    },
    {
      "cell_type": "code",
      "source": [
        "destination_strategy_path = '/content/drive/MyDrive/SaoPauloChapter_Plants-Disease_2023-Aug-02/Task-2-Data Collection & Preprocessing/data/approach_1/02_prepared_train_dataset'"
      ],
      "metadata": {
        "id": "g7S-GE3NVzK6"
      },
      "execution_count": 11,
      "outputs": []
    },
    {
      "cell_type": "code",
      "source": [
        "path = destination_strategy_path + '/'+strategy_path_name + '/' + 'train'\n",
        "folders = [f for f in os.listdir(path) if os.path.isdir(os.path.join(path, f))]\n",
        "folders"
      ],
      "metadata": {
        "colab": {
          "base_uri": "https://localhost:8080/"
        },
        "outputId": "e3fb0153-e980-4b04-85bb-2cd4560db594",
        "id": "iapXBX1FVzK7"
      },
      "execution_count": 12,
      "outputs": [
        {
          "output_type": "execute_result",
          "data": {
            "text/plain": [
              "['Healthy', 'Cescospora', 'Rust', 'Miner', 'Phoma']"
            ]
          },
          "metadata": {},
          "execution_count": 12
        }
      ]
    },
    {
      "cell_type": "code",
      "source": [
        "print('Total files in test set')\n",
        "for folder in folders:\n",
        "  #counting files to check, the process can be slow\n",
        "  file_count = sum([len(files) for _, _, files in os.walk(path + \"/\" +folder)])\n",
        "  print(f\"{folder}: {file_count}\")"
      ],
      "metadata": {
        "colab": {
          "base_uri": "https://localhost:8080/"
        },
        "outputId": "37ff0770-8d63-43b5-dcb7-594f1a504545",
        "id": "4k5vcJNRVzK7"
      },
      "execution_count": 13,
      "outputs": [
        {
          "output_type": "stream",
          "name": "stdout",
          "text": [
            "Total files in test set\n",
            "Healthy: 7329\n",
            "Cescospora: 8639\n",
            "Rust: 9419\n",
            "Miner: 2764\n",
            "Phoma: 7598\n"
          ]
        }
      ]
    },
    {
      "cell_type": "markdown",
      "source": [
        "#### Move entire path"
      ],
      "metadata": {
        "id": "Vq0pweSmqo9w"
      }
    },
    {
      "cell_type": "code",
      "source": [
        "source_path = '/content/drive/MyDrive/SaoPauloChapter_Plants-Disease_2023-Aug-02/Task-2-Data Collection & Preprocessing/data/approach_1/02_prepared_train_dataset/001_strategy_full_single_and_cropped_leaves'\n",
        "\n",
        "#chose a name of path to copy your data\n",
        "destination_path = f'/content/drive/MyDrive/SaoPauloChapter_Plants-Disease_2023-Aug-02/Task-3-Data Augmentation/data/001_strategy_full_single_and_cropped_leaves'\n",
        "#counting files to check, the process can be slow\n",
        "file_count = sum([len(files) for _, _, files in os.walk(destination_path)])\n",
        "print(f\"Number of files in {destination_path}: {file_count}\")\n",
        "\n",
        "shutil.copytree(source_path, destination_path,dirs_exist_ok=True)\n",
        "\n",
        "#counting files to check, the process can be slow\n",
        "file_count = sum([len(files) for _, _, files in os.walk(destination_path)])\n",
        "print(f\"Number of files in {destination_path}: {file_count}\")"
      ],
      "metadata": {
        "id": "rPQaUz2Yqrlm",
        "colab": {
          "base_uri": "https://localhost:8080/"
        },
        "outputId": "bc274e6a-d2be-4706-e1bc-4c6253e4ea47"
      },
      "execution_count": 10,
      "outputs": [
        {
          "output_type": "stream",
          "name": "stdout",
          "text": [
            "Number of files in /content/drive/MyDrive/SaoPauloChapter_Plants-Disease_2023-Aug-02/Task-3-Data Augmentation/data/001_strategy_full_single_and_cropped_leaves: 0\n",
            "Number of files in /content/drive/MyDrive/SaoPauloChapter_Plants-Disease_2023-Aug-02/Task-3-Data Augmentation/data/001_strategy_full_single_and_cropped_leaves: 35749\n"
          ]
        }
      ]
    },
    {
      "cell_type": "code",
      "source": [
        "source_path"
      ],
      "metadata": {
        "colab": {
          "base_uri": "https://localhost:8080/",
          "height": 36
        },
        "id": "iz5AY66r-3pK",
        "outputId": "e53c2951-6e4e-425e-c622-2631e40b0d24"
      },
      "execution_count": 44,
      "outputs": [
        {
          "output_type": "execute_result",
          "data": {
            "text/plain": [
              "'/content/drive/MyDrive/SaoPauloChapter_Plants-Disease_2023-Aug-02/Task-2-Data Collection & Preprocessing/data/approach_1/02_prepared_train_dataset/001_strategy_full_single_and_cropped_leaves'"
            ],
            "application/vnd.google.colaboratory.intrinsic+json": {
              "type": "string"
            }
          },
          "metadata": {},
          "execution_count": 44
        }
      ]
    },
    {
      "cell_type": "code",
      "source": [
        "\n",
        "\n",
        "path = '/content/drive/MyDrive/SaoPauloChapter_Plants-Disease_2023-Aug-02/Task-3-Data Augmentation/data/002_strategy_just_single_leaves'\n",
        "folders = [f for f in os.listdir(path) if os.path.isdir(os.path.join(path, f))]\n",
        "folders\n",
        "\n",
        "print('Total files in test set')\n",
        "for folder in folders:\n",
        "  #counting files to check, the process can be slow\n",
        "  file_count = sum([len(files) for _, _, files in os.walk(path + \"/\" +folder)])\n",
        "  print(f\"{folder}: {file_count}\")"
      ],
      "metadata": {
        "id": "bRqiARWxqpGi"
      },
      "execution_count": null,
      "outputs": []
    },
    {
      "cell_type": "markdown",
      "source": [
        "#### Bracol"
      ],
      "metadata": {
        "id": "ZIiJLcsCjGTL"
      }
    },
    {
      "cell_type": "code",
      "source": [
        "source_dataset_path = '/content/drive/MyDrive/SaoPauloChapter_Plants-Disease_2023-Aug-02/Task-2-Data Collection & Preprocessing/data/approach_1/01_original_datasets/Bracol/02_original_organized_by_disease_name/automatic/'"
      ],
      "metadata": {
        "id": "LbQONCng3Gzb"
      },
      "execution_count": null,
      "outputs": []
    },
    {
      "cell_type": "code",
      "source": [
        "label = 'Miner'\n",
        "\n",
        "source_path = source_dataset_path + label\n",
        "\n",
        "#chose a name of path to copy your data\n",
        "destination_path = f\"{destination_strategy_path}/{strategy_path_name}/train/{label}\"\n",
        "#counting files to check, the process can be slow\n",
        "file_count = sum([len(files) for _, _, files in os.walk(destination_path)])\n",
        "print(f\"Number of files in {destination_path}: {file_count}\")\n",
        "\n",
        "shutil.copytree(source_path, destination_path,dirs_exist_ok=True)\n",
        "\n",
        "#counting files to check, the process can be slow\n",
        "file_count = sum([len(files) for _, _, files in os.walk(destination_path)])\n",
        "print(f\"Number of files in {destination_path}: {file_count}\")"
      ],
      "metadata": {
        "colab": {
          "base_uri": "https://localhost:8080/"
        },
        "id": "shSDYiXX3G7m",
        "outputId": "fc997fc9-edc3-4841-d2d3-c300e18f79e2"
      },
      "execution_count": null,
      "outputs": [
        {
          "output_type": "stream",
          "name": "stdout",
          "text": [
            "Number of files in /content/drive/MyDrive/SaoPauloChapter_Plants-Disease_2023-Aug-02/Task-2-Data Collection & Preprocessing/data/approach_1/02_prepared_train_dataset/001_strategy_full_single_and_cropped_leaves/train/Miner: 789\n",
            "Number of files in /content/drive/MyDrive/SaoPauloChapter_Plants-Disease_2023-Aug-02/Task-2-Data Collection & Preprocessing/data/approach_1/02_prepared_train_dataset/001_strategy_full_single_and_cropped_leaves/train/Miner: 1111\n"
          ]
        }
      ]
    },
    {
      "cell_type": "code",
      "source": [
        "label = 'Phoma'\n",
        "\n",
        "source_path = source_dataset_path + label\n",
        "\n",
        "#chose a name of path to copy your data\n",
        "destination_path = f\"{destination_strategy_path}/{strategy_path_name}/train/{label}\"\n",
        "#counting files to check, the process can be slow\n",
        "file_count = sum([len(files) for _, _, files in os.walk(destination_path)])\n",
        "print(f\"Number of files in {destination_path}: {file_count}\")\n",
        "\n",
        "shutil.copytree(source_path, destination_path,dirs_exist_ok=True)\n",
        "\n",
        "#counting files to check, the process can be slow\n",
        "file_count = sum([len(files) for _, _, files in os.walk(destination_path)])\n",
        "print(f\"Number of files in {destination_path}: {file_count}\")"
      ],
      "metadata": {
        "colab": {
          "base_uri": "https://localhost:8080/"
        },
        "id": "qCAjNSvy3YI4",
        "outputId": "42bb5d52-6373-428e-9f3c-f1f1d340968e"
      },
      "execution_count": null,
      "outputs": [
        {
          "output_type": "stream",
          "name": "stdout",
          "text": [
            "Number of files in /content/drive/MyDrive/SaoPauloChapter_Plants-Disease_2023-Aug-02/Task-2-Data Collection & Preprocessing/data/approach_1/02_prepared_train_dataset/001_strategy_full_single_and_cropped_leaves/train/Phoma: 6580\n",
            "Number of files in /content/drive/MyDrive/SaoPauloChapter_Plants-Disease_2023-Aug-02/Task-2-Data Collection & Preprocessing/data/approach_1/02_prepared_train_dataset/001_strategy_full_single_and_cropped_leaves/train/Phoma: 6922\n"
          ]
        }
      ]
    },
    {
      "cell_type": "code",
      "source": [
        "label = 'Rust'\n",
        "\n",
        "source_path = source_dataset_path + label\n",
        "\n",
        "#chose a name of path to copy your data\n",
        "destination_path = f\"{destination_strategy_path}/{strategy_path_name}/train/{label}\"\n",
        "#counting files to check, the process can be slow\n",
        "file_count = sum([len(files) for _, _, files in os.walk(destination_path)])\n",
        "print(f\"Number of files in {destination_path}: {file_count}\")\n",
        "\n",
        "shutil.copytree(source_path, destination_path,dirs_exist_ok=True)\n",
        "\n",
        "#counting files to check, the process can be slow\n",
        "file_count = sum([len(files) for _, _, files in os.walk(destination_path)])\n",
        "print(f\"Number of files in {destination_path}: {file_count}\")"
      ],
      "metadata": {
        "colab": {
          "base_uri": "https://localhost:8080/"
        },
        "id": "dRUu6hMI3azb",
        "outputId": "0e7c15b8-296e-4c9a-f06b-3bc374a52474"
      },
      "execution_count": null,
      "outputs": [
        {
          "output_type": "stream",
          "name": "stdout",
          "text": [
            "Number of files in /content/drive/MyDrive/SaoPauloChapter_Plants-Disease_2023-Aug-02/Task-2-Data Collection & Preprocessing/data/approach_1/02_prepared_train_dataset/001_strategy_full_single_and_cropped_leaves/train/Rust: 8336\n",
            "Number of files in /content/drive/MyDrive/SaoPauloChapter_Plants-Disease_2023-Aug-02/Task-2-Data Collection & Preprocessing/data/approach_1/02_prepared_train_dataset/001_strategy_full_single_and_cropped_leaves/train/Rust: 8685\n"
          ]
        }
      ]
    },
    {
      "cell_type": "markdown",
      "source": [
        "#### JMuBEN - original (organized by disease name)"
      ],
      "metadata": {
        "id": "wQMWm5BOVzK8"
      }
    },
    {
      "cell_type": "code",
      "source": [
        "source_dataset_path = '/content/drive/MyDrive/SaoPauloChapter_Plants-Disease_2023-Aug-02/Task-2-Data Collection & Preprocessing/data/approach_1/01_original_datasets/JMuBEN - original (organized by disease name)/'"
      ],
      "metadata": {
        "id": "uMM9m9ZcVzK8"
      },
      "execution_count": null,
      "outputs": []
    },
    {
      "cell_type": "markdown",
      "source": [
        "Cescospora"
      ],
      "metadata": {
        "id": "nZZ0dwpqVzK9"
      }
    },
    {
      "cell_type": "code",
      "source": [
        "label = 'Cescospora'\n",
        "\n",
        "source_path = source_dataset_path + label\n",
        "\n",
        "#chose a name of path to copy your data\n",
        "destination_path = f\"{destination_strategy_path}/{strategy_path_name}/train/{label}\"\n",
        "#counting files to check, the process can be slow\n",
        "file_count = sum([len(files) for _, _, files in os.walk(destination_path)])\n",
        "print(f\"Number of files in {destination_path}: {file_count}\")\n",
        "\n",
        "shutil.copytree(source_path, destination_path,dirs_exist_ok=True)\n",
        "\n",
        "#counting files to check, the process can be slow\n",
        "file_count = sum([len(files) for _, _, files in os.walk(destination_path)])\n",
        "print(f\"Number of files in {destination_path}: {file_count}\")"
      ],
      "metadata": {
        "colab": {
          "base_uri": "https://localhost:8080/"
        },
        "outputId": "19776791-a41e-429d-9977-58f698838953",
        "id": "-TaPh5TFVzK9"
      },
      "execution_count": null,
      "outputs": [
        {
          "output_type": "stream",
          "name": "stdout",
          "text": [
            "Number of files in /content/drive/MyDrive/SaoPauloChapter_Plants-Disease_2023-Aug-02/Task-2-Data Collection & Preprocessing/data/approach_1/02_prepared_train_dataset/001_strategy_full_single_and_cropped_leaves/train/Cescospora: 0\n",
            "Number of files in /content/drive/MyDrive/SaoPauloChapter_Plants-Disease_2023-Aug-02/Task-2-Data Collection & Preprocessing/data/approach_1/02_prepared_train_dataset/001_strategy_full_single_and_cropped_leaves/train/Cescospora: 7691\n"
          ]
        }
      ]
    },
    {
      "cell_type": "markdown",
      "source": [
        "Healthy"
      ],
      "metadata": {
        "id": "_2tL68XBVzK9"
      }
    },
    {
      "cell_type": "code",
      "source": [
        "label = 'Healthy'\n",
        "\n",
        "source_path = source_dataset_path + label\n",
        "\n",
        "#chose a name of path to copy your data\n",
        "destination_path = f\"{destination_strategy_path}/{strategy_path_name}/train/{label}\"\n",
        "#counting files to check, the process can be slow\n",
        "file_count = sum([len(files) for _, _, files in os.walk(destination_path)])\n",
        "print(f\"Number of files in {destination_path}: {file_count}\")\n",
        "\n",
        "shutil.copytree(source_path, destination_path,dirs_exist_ok=True)\n",
        "\n",
        "#counting files to check, the process can be slow\n",
        "file_count = sum([len(files) for _, _, files in os.walk(destination_path)])\n",
        "print(f\"Number of files in {destination_path}: {file_count}\")"
      ],
      "metadata": {
        "id": "7UvMd773VzK-"
      },
      "execution_count": null,
      "outputs": []
    },
    {
      "cell_type": "markdown",
      "source": [
        "Miner"
      ],
      "metadata": {
        "id": "XdoYJOTdVzK-"
      }
    },
    {
      "cell_type": "code",
      "source": [
        "label = 'Miner'\n",
        "\n",
        "source_path = source_dataset_path + label\n",
        "\n",
        "#chose a name of path to copy your data\n",
        "destination_path = f\"{destination_strategy_path}/{strategy_path_name}/train/{label}\"\n",
        "#counting files to check, the process can be slow\n",
        "file_count = sum([len(files) for _, _, files in os.walk(destination_path)])\n",
        "print(f\"Number of files in {destination_path}: {file_count}\")\n",
        "\n",
        "shutil.copytree(source_path, destination_path,dirs_exist_ok=True)\n",
        "\n",
        "#counting files to check, the process can be slow\n",
        "file_count = sum([len(files) for _, _, files in os.walk(destination_path)])\n",
        "print(f\"Number of files in {destination_path}: {file_count}\")"
      ],
      "metadata": {
        "colab": {
          "base_uri": "https://localhost:8080/"
        },
        "outputId": "d2e444b5-9caa-4636-8503-18d8c7a22bdb",
        "id": "igeGRrvHVzK_"
      },
      "execution_count": null,
      "outputs": [
        {
          "output_type": "stream",
          "name": "stdout",
          "text": [
            "Number of files in /content/drive/MyDrive/SaoPauloChapter_Plants-Disease_2023-Aug-02/Task-2-Data Collection & Preprocessing/data/approach_1/02_prepared_train_dataset/001_strategy_full_single_and_cropped_leaves/train/Miner: 0\n",
            "Number of files in /content/drive/MyDrive/SaoPauloChapter_Plants-Disease_2023-Aug-02/Task-2-Data Collection & Preprocessing/data/approach_1/02_prepared_train_dataset/001_strategy_full_single_and_cropped_leaves/train/Miner: 789\n"
          ]
        }
      ]
    },
    {
      "cell_type": "markdown",
      "source": [
        "Phoma"
      ],
      "metadata": {
        "id": "r6HeAJgzVzK_"
      }
    },
    {
      "cell_type": "code",
      "source": [
        "label = 'Phoma'\n",
        "\n",
        "source_path = source_dataset_path + label\n",
        "\n",
        "#chose a name of path to copy your data\n",
        "destination_path = f\"{destination_strategy_path}/{strategy_path_name}/train/{label}\"\n",
        "#counting files to check, the process can be slow\n",
        "file_count = sum([len(files) for _, _, files in os.walk(destination_path)])\n",
        "print(f\"Number of files in {destination_path}: {file_count}\")\n",
        "\n",
        "shutil.copytree(source_path, destination_path,dirs_exist_ok=True)\n",
        "\n",
        "#counting files to check, the process can be slow\n",
        "file_count = sum([len(files) for _, _, files in os.walk(destination_path)])\n",
        "print(f\"Number of files in {destination_path}: {file_count}\")"
      ],
      "metadata": {
        "colab": {
          "base_uri": "https://localhost:8080/"
        },
        "outputId": "1ff01b91-e0d8-46af-be1c-2df71c6a8f15",
        "id": "Qw1hbCCHVzLA"
      },
      "execution_count": null,
      "outputs": [
        {
          "output_type": "stream",
          "name": "stdout",
          "text": [
            "Number of files in /content/drive/MyDrive/SaoPauloChapter_Plants-Disease_2023-Aug-02/Task-2-Data Collection & Preprocessing/data/approach_1/02_prepared_train_dataset/001_strategy_full_single_and_cropped_leaves/train/Phoma: 0\n",
            "Number of files in /content/drive/MyDrive/SaoPauloChapter_Plants-Disease_2023-Aug-02/Task-2-Data Collection & Preprocessing/data/approach_1/02_prepared_train_dataset/001_strategy_full_single_and_cropped_leaves/train/Phoma: 6580\n"
          ]
        }
      ]
    },
    {
      "cell_type": "markdown",
      "source": [
        "Rust"
      ],
      "metadata": {
        "id": "axfYXa1SVzLA"
      }
    },
    {
      "cell_type": "code",
      "source": [
        "label = 'Rust'\n",
        "\n",
        "source_path = source_dataset_path + label\n",
        "\n",
        "#chose a name of path to copy your data\n",
        "destination_path = f\"{destination_strategy_path}/{strategy_path_name}/train/{label}\"\n",
        "#counting files to check, the process can be slow\n",
        "file_count = sum([len(files) for _, _, files in os.walk(destination_path)])\n",
        "print(f\"Number of files in {destination_path}: {file_count}\")\n",
        "\n",
        "shutil.copytree(source_path, destination_path,dirs_exist_ok=True)\n",
        "\n",
        "#counting files to check, the process can be slow\n",
        "file_count = sum([len(files) for _, _, files in os.walk(destination_path)])\n",
        "print(f\"Number of files in {destination_path}: {file_count}\")"
      ],
      "metadata": {
        "colab": {
          "base_uri": "https://localhost:8080/"
        },
        "outputId": "8be24cdb-1650-4562-9522-0936020091a2",
        "id": "4fSW7ADaVzLA"
      },
      "execution_count": null,
      "outputs": [
        {
          "output_type": "stream",
          "name": "stdout",
          "text": [
            "Number of files in /content/drive/MyDrive/SaoPauloChapter_Plants-Disease_2023-Aug-02/Task-2-Data Collection & Preprocessing/data/approach_1/02_prepared_train_dataset/001_strategy_full_single_and_cropped_leaves/train/Rust: 0\n",
            "Number of files in /content/drive/MyDrive/SaoPauloChapter_Plants-Disease_2023-Aug-02/Task-2-Data Collection & Preprocessing/data/approach_1/02_prepared_train_dataset/001_strategy_full_single_and_cropped_leaves/train/Rust: 8336\n"
          ]
        }
      ]
    },
    {
      "cell_type": "markdown",
      "source": [
        "#### cafe-detect.v11i.multiclass"
      ],
      "metadata": {
        "id": "Ngl6vXqOVzLB"
      }
    },
    {
      "cell_type": "code",
      "source": [
        "source_dataset_path = '/content/drive/MyDrive/SaoPauloChapter_Plants-Disease_2023-Aug-02/Task-2-Data Collection & Preprocessing/data/approach_1/01_original_datasets/cafe-detect.v11i.multiclass/02_original_organized_by_disease_name/'"
      ],
      "metadata": {
        "id": "GI-thO7rVzLB"
      },
      "execution_count": null,
      "outputs": []
    },
    {
      "cell_type": "markdown",
      "source": [
        "Cescospora"
      ],
      "metadata": {
        "id": "JiHjxXiyVzLB"
      }
    },
    {
      "cell_type": "code",
      "source": [
        "label = 'Cescospora'\n",
        "\n",
        "source_path = source_dataset_path + label\n",
        "\n",
        "#chose a name of path to copy your data\n",
        "destination_path = f\"{destination_strategy_path}/{strategy_path_name}/train/{label}\"\n",
        "#counting files to check, the process can be slow\n",
        "file_count = sum([len(files) for _, _, files in os.walk(destination_path)])\n",
        "print(f\"Number of files in {destination_path}: {file_count}\")\n",
        "\n",
        "shutil.copytree(source_path, destination_path,dirs_exist_ok=True)\n",
        "\n",
        "#counting files to check, the process can be slow\n",
        "file_count = sum([len(files) for _, _, files in os.walk(destination_path)])\n",
        "print(f\"Number of files in {destination_path}: {file_count}\")"
      ],
      "metadata": {
        "colab": {
          "base_uri": "https://localhost:8080/"
        },
        "outputId": "15da21f2-1a38-4980-98f5-3ac8b5fb369f",
        "id": "kaBCqPaHVzLB"
      },
      "execution_count": null,
      "outputs": [
        {
          "output_type": "stream",
          "name": "stdout",
          "text": [
            "Number of files in /content/drive/MyDrive/SaoPauloChapter_Plants-Disease_2023-Aug-02/Task-2-Data Collection & Preprocessing/data/approach_1/02_prepared_train_dataset/001_strategy_full_single_and_cropped_leaves/train/Cescospora: 7691\n",
            "Number of files in /content/drive/MyDrive/SaoPauloChapter_Plants-Disease_2023-Aug-02/Task-2-Data Collection & Preprocessing/data/approach_1/02_prepared_train_dataset/001_strategy_full_single_and_cropped_leaves/train/Cescospora: 8439\n"
          ]
        }
      ]
    },
    {
      "cell_type": "markdown",
      "source": [
        "Miner"
      ],
      "metadata": {
        "id": "d3JvXHhtVzLB"
      }
    },
    {
      "cell_type": "code",
      "source": [
        "label = 'Miner'\n",
        "\n",
        "source_path = source_dataset_path + label\n",
        "\n",
        "#chose a name of path to copy your data\n",
        "destination_path = f\"{destination_strategy_path}/{strategy_path_name}/train/{label}\"\n",
        "#counting files to check, the process can be slow\n",
        "file_count = sum([len(files) for _, _, files in os.walk(destination_path)])\n",
        "print(f\"Number of files in {destination_path}: {file_count}\")\n",
        "\n",
        "shutil.copytree(source_path, destination_path,dirs_exist_ok=True)\n",
        "\n",
        "#counting files to check, the process can be slow\n",
        "file_count = sum([len(files) for _, _, files in os.walk(destination_path)])\n",
        "print(f\"Number of files in {destination_path}: {file_count}\")"
      ],
      "metadata": {
        "colab": {
          "base_uri": "https://localhost:8080/"
        },
        "outputId": "b9a8ef90-1321-4a66-f676-36b2b7f500a1",
        "id": "z_jB98rQVzLB"
      },
      "execution_count": null,
      "outputs": [
        {
          "output_type": "stream",
          "name": "stdout",
          "text": [
            "Number of files in /content/drive/MyDrive/SaoPauloChapter_Plants-Disease_2023-Aug-02/Task-2-Data Collection & Preprocessing/data/approach_1/02_prepared_train_dataset/001_strategy_full_single_and_cropped_leaves/train/Miner: 1111\n",
            "Number of files in /content/drive/MyDrive/SaoPauloChapter_Plants-Disease_2023-Aug-02/Task-2-Data Collection & Preprocessing/data/approach_1/02_prepared_train_dataset/001_strategy_full_single_and_cropped_leaves/train/Miner: 2077\n"
          ]
        }
      ]
    },
    {
      "cell_type": "markdown",
      "source": [
        "Phoma"
      ],
      "metadata": {
        "id": "9nXaFk7BVzLC"
      }
    },
    {
      "cell_type": "code",
      "source": [
        "label = 'Phoma'\n",
        "\n",
        "source_path = source_dataset_path + label\n",
        "\n",
        "#chose a name of path to copy your data\n",
        "destination_path = f\"{destination_strategy_path}/{strategy_path_name}/train/{label}\"\n",
        "#counting files to check, the process can be slow\n",
        "file_count = sum([len(files) for _, _, files in os.walk(destination_path)])\n",
        "print(f\"Number of files in {destination_path}: {file_count}\")\n",
        "\n",
        "shutil.copytree(source_path, destination_path,dirs_exist_ok=True)\n",
        "\n",
        "#counting files to check, the process can be slow\n",
        "file_count = sum([len(files) for _, _, files in os.walk(destination_path)])\n",
        "print(f\"Number of files in {destination_path}: {file_count}\")"
      ],
      "metadata": {
        "colab": {
          "base_uri": "https://localhost:8080/"
        },
        "outputId": "62386743-5537-4487-9dd2-52aa6999a752",
        "id": "wlZShz6rVzLC"
      },
      "execution_count": null,
      "outputs": [
        {
          "output_type": "stream",
          "name": "stdout",
          "text": [
            "Number of files in /content/drive/MyDrive/SaoPauloChapter_Plants-Disease_2023-Aug-02/Task-2-Data Collection & Preprocessing/data/approach_1/02_prepared_train_dataset/001_strategy_full_single_and_cropped_leaves/train/Phoma: 6922\n",
            "Number of files in /content/drive/MyDrive/SaoPauloChapter_Plants-Disease_2023-Aug-02/Task-2-Data Collection & Preprocessing/data/approach_1/02_prepared_train_dataset/001_strategy_full_single_and_cropped_leaves/train/Phoma: 7114\n"
          ]
        }
      ]
    },
    {
      "cell_type": "markdown",
      "source": [
        "Rust"
      ],
      "metadata": {
        "id": "LzwH6K3WVzLC"
      }
    },
    {
      "cell_type": "code",
      "source": [
        "label = 'Rust'\n",
        "\n",
        "source_path = source_dataset_path + label\n",
        "\n",
        "#chose a name of path to copy your data\n",
        "destination_path = f\"{destination_strategy_path}/{strategy_path_name}/train/{label}\"\n",
        "#counting files to check, the process can be slow\n",
        "file_count = sum([len(files) for _, _, files in os.walk(destination_path)])\n",
        "print(f\"Number of files in {destination_path}: {file_count}\")\n",
        "\n",
        "shutil.copytree(source_path, destination_path,dirs_exist_ok=True)\n",
        "\n",
        "#counting files to check, the process can be slow\n",
        "file_count = sum([len(files) for _, _, files in os.walk(destination_path)])\n",
        "print(f\"Number of files in {destination_path}: {file_count}\")"
      ],
      "metadata": {
        "colab": {
          "base_uri": "https://localhost:8080/"
        },
        "outputId": "9767d4c5-e3ce-429a-e299-09c501d4f96e",
        "id": "vRzrW6uXVzLC"
      },
      "execution_count": null,
      "outputs": [
        {
          "output_type": "stream",
          "name": "stdout",
          "text": [
            "Number of files in /content/drive/MyDrive/SaoPauloChapter_Plants-Disease_2023-Aug-02/Task-2-Data Collection & Preprocessing/data/approach_1/02_prepared_train_dataset/001_strategy_full_single_and_cropped_leaves/train/Rust: 8685\n",
            "Number of files in /content/drive/MyDrive/SaoPauloChapter_Plants-Disease_2023-Aug-02/Task-2-Data Collection & Preprocessing/data/approach_1/02_prepared_train_dataset/001_strategy_full_single_and_cropped_leaves/train/Rust: 8999\n"
          ]
        }
      ]
    },
    {
      "cell_type": "markdown",
      "source": [
        "#### Coffee leaf diseases Kaggle"
      ],
      "metadata": {
        "id": "z3KgVqRrVzLC"
      }
    },
    {
      "cell_type": "code",
      "source": [
        "source_dataset_path = '/content/drive/MyDrive/SaoPauloChapter_Plants-Disease_2023-Aug-02/Task-2-Data Collection & Preprocessing/data/approach_1/01_original_datasets/Coffee leaf diseases Kaggle/02_original_organized_by_disease_name/'"
      ],
      "metadata": {
        "id": "TvKeCjG9VzLC"
      },
      "execution_count": null,
      "outputs": []
    },
    {
      "cell_type": "markdown",
      "source": [
        "Healthy"
      ],
      "metadata": {
        "id": "oAYRepFSVzLD"
      }
    },
    {
      "cell_type": "code",
      "source": [
        "label = 'Healthy'\n",
        "\n",
        "source_path = source_dataset_path + label\n",
        "\n",
        "#chose a name of path to copy your data\n",
        "destination_path = f\"{destination_strategy_path}/{strategy_path_name}/train/{label}\"\n",
        "#counting files to check, the process can be slow\n",
        "file_count = sum([len(files) for _, _, files in os.walk(destination_path)])\n",
        "print(f\"Number of files in {destination_path}: {file_count}\")\n",
        "\n",
        "shutil.copytree(source_path, destination_path,dirs_exist_ok=True)\n",
        "\n",
        "#counting files to check, the process can be slow\n",
        "file_count = sum([len(files) for _, _, files in os.walk(destination_path)])\n",
        "print(f\"Number of files in {destination_path}: {file_count}\")"
      ],
      "metadata": {
        "colab": {
          "base_uri": "https://localhost:8080/"
        },
        "outputId": "2199e062-efbf-4a9f-e061-bc3390fec57c",
        "id": "7PydzxJdVzLD"
      },
      "execution_count": null,
      "outputs": [
        {
          "output_type": "stream",
          "name": "stdout",
          "text": [
            "Number of files in /content/drive/MyDrive/SaoPauloChapter_Plants-Disease_2023-Aug-02/Task-2-Data Collection & Preprocessing/data/approach_1/02_prepared_train_dataset/001_strategy_full_single_and_cropped_leaves/train/Healthy: 6591\n",
            "Number of files in /content/drive/MyDrive/SaoPauloChapter_Plants-Disease_2023-Aug-02/Task-2-Data Collection & Preprocessing/data/approach_1/02_prepared_train_dataset/001_strategy_full_single_and_cropped_leaves/train/Healthy: 6991\n"
          ]
        }
      ]
    },
    {
      "cell_type": "markdown",
      "source": [
        "Miner"
      ],
      "metadata": {
        "id": "dAU99YH_VzLD"
      }
    },
    {
      "cell_type": "code",
      "source": [
        "label = 'Miner'\n",
        "\n",
        "source_path = source_dataset_path + label\n",
        "\n",
        "#chose a name of path to copy your data\n",
        "destination_path = f\"{destination_strategy_path}/{strategy_path_name}/train/{label}\"\n",
        "#counting files to check, the process can be slow\n",
        "file_count = sum([len(files) for _, _, files in os.walk(destination_path)])\n",
        "print(f\"Number of files in {destination_path}: {file_count}\")\n",
        "\n",
        "shutil.copytree(source_path, destination_path,dirs_exist_ok=True)\n",
        "\n",
        "#counting files to check, the process can be slow\n",
        "file_count = sum([len(files) for _, _, files in os.walk(destination_path)])\n",
        "print(f\"Number of files in {destination_path}: {file_count}\")"
      ],
      "metadata": {
        "colab": {
          "base_uri": "https://localhost:8080/"
        },
        "outputId": "bb9c275b-69a5-41af-d506-11c606666472",
        "id": "3Mfy8C3iVzLD"
      },
      "execution_count": null,
      "outputs": [
        {
          "output_type": "stream",
          "name": "stdout",
          "text": [
            "Number of files in /content/drive/MyDrive/SaoPauloChapter_Plants-Disease_2023-Aug-02/Task-2-Data Collection & Preprocessing/data/approach_1/02_prepared_train_dataset/001_strategy_full_single_and_cropped_leaves/train/Miner: 2077\n",
            "Number of files in /content/drive/MyDrive/SaoPauloChapter_Plants-Disease_2023-Aug-02/Task-2-Data Collection & Preprocessing/data/approach_1/02_prepared_train_dataset/001_strategy_full_single_and_cropped_leaves/train/Miner: 2537\n"
          ]
        }
      ]
    },
    {
      "cell_type": "markdown",
      "source": [
        "Phoma"
      ],
      "metadata": {
        "id": "whZu5B7aVzLD"
      }
    },
    {
      "cell_type": "code",
      "source": [
        "label = 'Phoma'\n",
        "\n",
        "source_path = source_dataset_path + label\n",
        "\n",
        "#chose a name of path to copy your data\n",
        "destination_path = f\"{destination_strategy_path}/{strategy_path_name}/train/{label}\"\n",
        "#counting files to check, the process can be slow\n",
        "file_count = sum([len(files) for _, _, files in os.walk(destination_path)])\n",
        "print(f\"Number of files in {destination_path}: {file_count}\")\n",
        "\n",
        "shutil.copytree(source_path, destination_path,dirs_exist_ok=True)\n",
        "\n",
        "#counting files to check, the process can be slow\n",
        "file_count = sum([len(files) for _, _, files in os.walk(destination_path)])\n",
        "print(f\"Number of files in {destination_path}: {file_count}\")"
      ],
      "metadata": {
        "colab": {
          "base_uri": "https://localhost:8080/"
        },
        "outputId": "7871b654-71e0-47b0-aefd-956913efc304",
        "id": "MVSkq3X8VzLD"
      },
      "execution_count": null,
      "outputs": [
        {
          "output_type": "stream",
          "name": "stdout",
          "text": [
            "Number of files in /content/drive/MyDrive/SaoPauloChapter_Plants-Disease_2023-Aug-02/Task-2-Data Collection & Preprocessing/data/approach_1/02_prepared_train_dataset/001_strategy_full_single_and_cropped_leaves/train/Phoma: 7114\n",
            "Number of files in /content/drive/MyDrive/SaoPauloChapter_Plants-Disease_2023-Aug-02/Task-2-Data Collection & Preprocessing/data/approach_1/02_prepared_train_dataset/001_strategy_full_single_and_cropped_leaves/train/Phoma: 7598\n"
          ]
        }
      ]
    },
    {
      "cell_type": "markdown",
      "source": [
        "Rust"
      ],
      "metadata": {
        "id": "n55b8yVvVzLE"
      }
    },
    {
      "cell_type": "code",
      "source": [
        "label = 'Rust'\n",
        "\n",
        "source_path = source_dataset_path + label\n",
        "\n",
        "#chose a name of path to copy your data\n",
        "destination_path = f\"{destination_strategy_path}/{strategy_path_name}/train/{label}\"\n",
        "#counting files to check, the process can be slow\n",
        "file_count = sum([len(files) for _, _, files in os.walk(destination_path)])\n",
        "print(f\"Number of files in {destination_path}: {file_count}\")\n",
        "\n",
        "shutil.copytree(source_path, destination_path,dirs_exist_ok=True)\n",
        "\n",
        "#counting files to check, the process can be slow\n",
        "file_count = sum([len(files) for _, _, files in os.walk(destination_path)])\n",
        "print(f\"Number of files in {destination_path}: {file_count}\")"
      ],
      "metadata": {
        "colab": {
          "base_uri": "https://localhost:8080/"
        },
        "outputId": "886c4073-235f-4ad1-dfc6-bbfaca87c04a",
        "id": "FrecjqBoVzLE"
      },
      "execution_count": null,
      "outputs": [
        {
          "output_type": "stream",
          "name": "stdout",
          "text": [
            "Number of files in /content/drive/MyDrive/SaoPauloChapter_Plants-Disease_2023-Aug-02/Task-2-Data Collection & Preprocessing/data/approach_1/02_prepared_train_dataset/001_strategy_full_single_and_cropped_leaves/train/Rust: 8999\n",
            "Number of files in /content/drive/MyDrive/SaoPauloChapter_Plants-Disease_2023-Aug-02/Task-2-Data Collection & Preprocessing/data/approach_1/02_prepared_train_dataset/001_strategy_full_single_and_cropped_leaves/train/Rust: 9319\n"
          ]
        }
      ]
    },
    {
      "cell_type": "markdown",
      "source": [
        "#### removed (Penyakit Daun NEW.v30-sehat-1000-bercak-1000-karat-1000.yolov8) wrong labels"
      ],
      "metadata": {
        "id": "82d77iiUVzLE"
      }
    },
    {
      "cell_type": "code",
      "source": [
        "source_dataset_path = '/content/drive/MyDrive/SaoPauloChapter_Plants-Disease_2023-Aug-02/Task-2-Data Collection & Preprocessing/data/approach_1/01_original_datasets/Penyakit Daun NEW.v30-sehat-1000-bercak-1000-karat-1000.yolov8/02_original_organized_by_disease_name/'"
      ],
      "metadata": {
        "id": "zhTbUnbkVzLE"
      },
      "execution_count": null,
      "outputs": []
    },
    {
      "cell_type": "markdown",
      "source": [
        "Cescospora"
      ],
      "metadata": {
        "id": "CIbAbsH8VzLE"
      }
    },
    {
      "cell_type": "code",
      "source": [
        "label = 'Cescospora'\n",
        "\n",
        "source_path = source_dataset_path + label\n",
        "\n",
        "#chose a name of path to copy your data\n",
        "destination_path = f\"{destination_strategy_path}/{strategy_path_name}/train/{label}\"\n",
        "#counting files to check, the process can be slow\n",
        "file_count = sum([len(files) for _, _, files in os.walk(destination_path)])\n",
        "print(f\"Number of files in {destination_path}: {file_count}\")\n",
        "\n",
        "shutil.copytree(source_path, destination_path,dirs_exist_ok=True)\n",
        "\n",
        "#counting files to check, the process can be slow\n",
        "file_count = sum([len(files) for _, _, files in os.walk(destination_path)])\n",
        "print(f\"Number of files in {destination_path}: {file_count}\")"
      ],
      "metadata": {
        "colab": {
          "base_uri": "https://localhost:8080/"
        },
        "outputId": "09cf2c3a-6096-428f-8376-eedb72917340",
        "id": "CHiefvkRVzLE"
      },
      "execution_count": null,
      "outputs": [
        {
          "output_type": "stream",
          "name": "stdout",
          "text": [
            "Number of files in /content/drive/MyDrive/SaoPauloChapter_Plants-Disease_2023-Aug-02/Task-2-Data Collection & Preprocessing/data/approach_1/02_prepared_train_dataset/01_strategy_full_single_leaves/train/Cescospora: 200\n",
            "Number of files in /content/drive/MyDrive/SaoPauloChapter_Plants-Disease_2023-Aug-02/Task-2-Data Collection & Preprocessing/data/approach_1/02_prepared_train_dataset/01_strategy_full_single_leaves/train/Cescospora: 1197\n"
          ]
        }
      ]
    },
    {
      "cell_type": "markdown",
      "source": [
        "Healthy"
      ],
      "metadata": {
        "id": "hQgelhniVzLE"
      }
    },
    {
      "cell_type": "code",
      "source": [
        "label = 'Healthy'\n",
        "\n",
        "source_path = source_dataset_path + label\n",
        "\n",
        "#chose a name of path to copy your data\n",
        "destination_path = f\"{destination_strategy_path}/{strategy_path_name}/train/{label}\"\n",
        "#counting files to check, the process can be slow\n",
        "file_count = sum([len(files) for _, _, files in os.walk(destination_path)])\n",
        "print(f\"Number of files in {destination_path}: {file_count}\")\n",
        "\n",
        "shutil.copytree(source_path, destination_path,dirs_exist_ok=True)\n",
        "\n",
        "#counting files to check, the process can be slow\n",
        "file_count = sum([len(files) for _, _, files in os.walk(destination_path)])\n",
        "print(f\"Number of files in {destination_path}: {file_count}\")"
      ],
      "metadata": {
        "colab": {
          "base_uri": "https://localhost:8080/"
        },
        "outputId": "0c44c6a9-e323-44d0-ac66-52bba604e074",
        "id": "8F5MG6VwVzLF"
      },
      "execution_count": null,
      "outputs": [
        {
          "output_type": "stream",
          "name": "stdout",
          "text": [
            "Number of files in /content/drive/MyDrive/SaoPauloChapter_Plants-Disease_2023-Aug-02/Task-2-Data Collection & Preprocessing/data/approach_1/02_prepared_train_dataset/01_strategy_full_single_leaves/train/Healthy: 1341\n",
            "Number of files in /content/drive/MyDrive/SaoPauloChapter_Plants-Disease_2023-Aug-02/Task-2-Data Collection & Preprocessing/data/approach_1/02_prepared_train_dataset/01_strategy_full_single_leaves/train/Healthy: 1341\n"
          ]
        }
      ]
    },
    {
      "cell_type": "markdown",
      "source": [
        "Rust"
      ],
      "metadata": {
        "id": "SaBu8Mk-VzLF"
      }
    },
    {
      "cell_type": "code",
      "source": [
        "label = 'Rust'\n",
        "\n",
        "source_path = source_dataset_path + label\n",
        "\n",
        "#chose a name of path to copy your data\n",
        "destination_path = f\"{destination_strategy_path}/{strategy_path_name}/train/{label}\"\n",
        "#counting files to check, the process can be slow\n",
        "file_count = sum([len(files) for _, _, files in os.walk(destination_path)])\n",
        "print(f\"Number of files in {destination_path}: {file_count}\")\n",
        "\n",
        "shutil.copytree(source_path, destination_path,dirs_exist_ok=True)\n",
        "\n",
        "#counting files to check, the process can be slow\n",
        "file_count = sum([len(files) for _, _, files in os.walk(destination_path)])\n",
        "print(f\"Number of files in {destination_path}: {file_count}\")"
      ],
      "metadata": {
        "colab": {
          "base_uri": "https://localhost:8080/"
        },
        "outputId": "85dafb51-2c9c-48cd-97b6-c3a061cfc350",
        "id": "MuK4Io4eVzLF"
      },
      "execution_count": null,
      "outputs": [
        {
          "output_type": "stream",
          "name": "stdout",
          "text": [
            "Number of files in /content/drive/MyDrive/SaoPauloChapter_Plants-Disease_2023-Aug-02/Task-2-Data Collection & Preprocessing/data/approach_1/02_prepared_train_dataset/01_strategy_full_single_leaves/train/Rust: 400\n",
            "Number of files in /content/drive/MyDrive/SaoPauloChapter_Plants-Disease_2023-Aug-02/Task-2-Data Collection & Preprocessing/data/approach_1/02_prepared_train_dataset/01_strategy_full_single_leaves/train/Rust: 1400\n"
          ]
        }
      ]
    },
    {
      "cell_type": "markdown",
      "source": [
        "#### Penyakit_Daun_Kopi_Computer_Vision_Project"
      ],
      "metadata": {
        "id": "Q1zTdgmrVzLF"
      }
    },
    {
      "cell_type": "code",
      "source": [
        "source_dataset_path = '/content/drive/MyDrive/SaoPauloChapter_Plants-Disease_2023-Aug-02/Task-2-Data Collection & Preprocessing/data/approach_1/01_original_datasets/Penyakit_Daun_Kopi_Computer_Vision_Project/02_original_organized_by_disease_name/'"
      ],
      "metadata": {
        "id": "hrwCuVARVzLF"
      },
      "execution_count": null,
      "outputs": []
    },
    {
      "cell_type": "markdown",
      "source": [
        "Cescospora"
      ],
      "metadata": {
        "id": "HO44NbG4VzLF"
      }
    },
    {
      "cell_type": "code",
      "source": [
        "label = 'Cescospora'\n",
        "\n",
        "source_path = source_dataset_path + label\n",
        "\n",
        "#chose a name of path to copy your data\n",
        "destination_path = f\"{destination_strategy_path}/{strategy_path_name}/train/{label}\"\n",
        "#counting files to check, the process can be slow\n",
        "file_count = sum([len(files) for _, _, files in os.walk(destination_path)])\n",
        "print(f\"Number of files in {destination_path}: {file_count}\")\n",
        "\n",
        "shutil.copytree(source_path, destination_path,dirs_exist_ok=True)\n",
        "\n",
        "#counting files to check, the process can be slow\n",
        "file_count = sum([len(files) for _, _, files in os.walk(destination_path)])\n",
        "print(f\"Number of files in {destination_path}: {file_count}\")"
      ],
      "metadata": {
        "colab": {
          "base_uri": "https://localhost:8080/"
        },
        "outputId": "1b32fed3-d29e-4ba1-e988-2b9d6e61b2f3",
        "id": "1Vm-3ccrVzLF"
      },
      "execution_count": null,
      "outputs": [
        {
          "output_type": "stream",
          "name": "stdout",
          "text": [
            "Number of files in /content/drive/MyDrive/SaoPauloChapter_Plants-Disease_2023-Aug-02/Task-2-Data Collection & Preprocessing/data/approach_1/02_prepared_train_dataset/001_strategy_full_single_and_cropped_leaves/train/Cescospora: 8439\n",
            "Number of files in /content/drive/MyDrive/SaoPauloChapter_Plants-Disease_2023-Aug-02/Task-2-Data Collection & Preprocessing/data/approach_1/02_prepared_train_dataset/001_strategy_full_single_and_cropped_leaves/train/Cescospora: 8639\n"
          ]
        }
      ]
    },
    {
      "cell_type": "markdown",
      "source": [
        "Healthy"
      ],
      "metadata": {
        "id": "xL7xHOgeVzLG"
      }
    },
    {
      "cell_type": "code",
      "source": [
        "label = 'Healthy'\n",
        "\n",
        "source_path = source_dataset_path + label\n",
        "\n",
        "#chose a name of path to copy your data\n",
        "destination_path = f\"{destination_strategy_path}/{strategy_path_name}/train/{label}\"\n",
        "#counting files to check, the process can be slow\n",
        "file_count = sum([len(files) for _, _, files in os.walk(destination_path)])\n",
        "print(f\"Number of files in {destination_path}: {file_count}\")\n",
        "\n",
        "shutil.copytree(source_path, destination_path,dirs_exist_ok=True)\n",
        "\n",
        "#counting files to check, the process can be slow\n",
        "file_count = sum([len(files) for _, _, files in os.walk(destination_path)])\n",
        "print(f\"Number of files in {destination_path}: {file_count}\")"
      ],
      "metadata": {
        "colab": {
          "base_uri": "https://localhost:8080/"
        },
        "outputId": "11cac11c-61fc-454f-d55e-41bc574aa056",
        "id": "CpxWnXKPVzLG"
      },
      "execution_count": null,
      "outputs": [
        {
          "output_type": "stream",
          "name": "stdout",
          "text": [
            "Number of files in /content/drive/MyDrive/SaoPauloChapter_Plants-Disease_2023-Aug-02/Task-2-Data Collection & Preprocessing/data/approach_1/02_prepared_train_dataset/001_strategy_full_single_and_cropped_leaves/train/Healthy: 6991\n",
            "Number of files in /content/drive/MyDrive/SaoPauloChapter_Plants-Disease_2023-Aug-02/Task-2-Data Collection & Preprocessing/data/approach_1/02_prepared_train_dataset/001_strategy_full_single_and_cropped_leaves/train/Healthy: 7191\n"
          ]
        }
      ]
    },
    {
      "cell_type": "markdown",
      "source": [
        "Rust"
      ],
      "metadata": {
        "id": "zUVLyVuoVzLG"
      }
    },
    {
      "cell_type": "code",
      "source": [
        "label = 'Rust'\n",
        "\n",
        "source_path = source_dataset_path + label\n",
        "\n",
        "#chose a name of path to copy your data\n",
        "destination_path = f\"{destination_strategy_path}/{strategy_path_name}/train/{label}\"\n",
        "#counting files to check, the process can be slow\n",
        "file_count = sum([len(files) for _, _, files in os.walk(destination_path)])\n",
        "print(f\"Number of files in {destination_path}: {file_count}\")\n",
        "\n",
        "shutil.copytree(source_path, destination_path,dirs_exist_ok=True)\n",
        "\n",
        "#counting files to check, the process can be slow\n",
        "file_count = sum([len(files) for _, _, files in os.walk(destination_path)])\n",
        "print(f\"Number of files in {destination_path}: {file_count}\")"
      ],
      "metadata": {
        "colab": {
          "base_uri": "https://localhost:8080/"
        },
        "outputId": "b6bad911-370b-43a3-9a04-75b3e5b55c0e",
        "id": "31PTLQI2VzLG"
      },
      "execution_count": null,
      "outputs": [
        {
          "output_type": "stream",
          "name": "stdout",
          "text": [
            "Number of files in /content/drive/MyDrive/SaoPauloChapter_Plants-Disease_2023-Aug-02/Task-2-Data Collection & Preprocessing/data/approach_1/02_prepared_train_dataset/001_strategy_full_single_and_cropped_leaves/train/Rust: 9319\n",
            "Number of files in /content/drive/MyDrive/SaoPauloChapter_Plants-Disease_2023-Aug-02/Task-2-Data Collection & Preprocessing/data/approach_1/02_prepared_train_dataset/001_strategy_full_single_and_cropped_leaves/train/Rust: 9419\n"
          ]
        }
      ]
    },
    {
      "cell_type": "markdown",
      "source": [
        "#### 1000101010001010101010111_Computer_Vision_Project"
      ],
      "metadata": {
        "id": "GpP7Fi45VzLG"
      }
    },
    {
      "cell_type": "code",
      "source": [
        "source_dataset_path = '/content/drive/MyDrive/SaoPauloChapter_Plants-Disease_2023-Aug-02/Task-2-Data Collection & Preprocessing/data/approach_1/01_original_datasets/1000101010001010101010111_Computer_Vision_Project/02_original_organized_by_disease_name/'"
      ],
      "metadata": {
        "id": "4hvLXw_RVzLG"
      },
      "execution_count": null,
      "outputs": []
    },
    {
      "cell_type": "markdown",
      "source": [
        "Miner"
      ],
      "metadata": {
        "id": "xZCZafJPVzLH"
      }
    },
    {
      "cell_type": "code",
      "source": [
        "label = 'Miner'\n",
        "\n",
        "source_path = source_dataset_path + label\n",
        "\n",
        "#chose a name of path to copy your data\n",
        "destination_path = f\"{destination_strategy_path}/{strategy_path_name}/train/{label}\"\n",
        "#counting files to check, the process can be slow\n",
        "file_count = sum([len(files) for _, _, files in os.walk(destination_path)])\n",
        "print(f\"Number of files in {destination_path}: {file_count}\")\n",
        "\n",
        "shutil.copytree(source_path, destination_path,dirs_exist_ok=True)\n",
        "\n",
        "#counting files to check, the process can be slow\n",
        "file_count = sum([len(files) for _, _, files in os.walk(destination_path)])\n",
        "print(f\"Number of files in {destination_path}: {file_count}\")"
      ],
      "metadata": {
        "colab": {
          "base_uri": "https://localhost:8080/"
        },
        "outputId": "8d5ec40d-c561-462c-9151-a5099a251b4a",
        "id": "NoOO0C-tVzLH"
      },
      "execution_count": null,
      "outputs": [
        {
          "output_type": "stream",
          "name": "stdout",
          "text": [
            "Number of files in /content/drive/MyDrive/SaoPauloChapter_Plants-Disease_2023-Aug-02/Task-2-Data Collection & Preprocessing/data/approach_1/02_prepared_train_dataset/001_strategy_full_single_and_cropped_leaves/train/Miner: 2537\n",
            "Number of files in /content/drive/MyDrive/SaoPauloChapter_Plants-Disease_2023-Aug-02/Task-2-Data Collection & Preprocessing/data/approach_1/02_prepared_train_dataset/001_strategy_full_single_and_cropped_leaves/train/Miner: 2764\n"
          ]
        }
      ]
    },
    {
      "cell_type": "markdown",
      "source": [
        "Rust"
      ],
      "metadata": {
        "id": "ACXFUgL2VzLH"
      }
    },
    {
      "cell_type": "code",
      "source": [
        "label = 'Rust'\n",
        "\n",
        "source_path = source_dataset_path + label\n",
        "\n",
        "#chose a name of path to copy your data\n",
        "destination_path = f\"{destination_strategy_path}/{strategy_path_name}/train/{label}\"\n",
        "#counting files to check, the process can be slow\n",
        "file_count = sum([len(files) for _, _, files in os.walk(destination_path)])\n",
        "print(f\"Number of files in {destination_path}: {file_count}\")\n",
        "\n",
        "shutil.copytree(source_path, destination_path,dirs_exist_ok=True)\n",
        "\n",
        "#counting files to check, the process can be slow\n",
        "file_count = sum([len(files) for _, _, files in os.walk(destination_path)])\n",
        "print(f\"Number of files in {destination_path}: {file_count}\")"
      ],
      "metadata": {
        "colab": {
          "base_uri": "https://localhost:8080/"
        },
        "outputId": "ec13f65a-9534-420a-ce75-ead627bafa3b",
        "id": "j1o_NwTUVzLH"
      },
      "execution_count": null,
      "outputs": [
        {
          "output_type": "stream",
          "name": "stdout",
          "text": [
            "Number of files in /content/drive/MyDrive/SaoPauloChapter_Plants-Disease_2023-Aug-02/Task-2-Data Collection & Preprocessing/data/approach_1/02_prepared_train_dataset/01_strategy_full_single_and_cropped_leaves/train/Rust: 9070\n",
            "Number of files in /content/drive/MyDrive/SaoPauloChapter_Plants-Disease_2023-Aug-02/Task-2-Data Collection & Preprocessing/data/approach_1/02_prepared_train_dataset/01_strategy_full_single_and_cropped_leaves/train/Rust: 9370\n"
          ]
        }
      ]
    },
    {
      "cell_type": "markdown",
      "source": [
        "#### i_wlobq"
      ],
      "metadata": {
        "id": "DX2rqy3KVzLH"
      }
    },
    {
      "cell_type": "code",
      "source": [
        "source_dataset_path = '/content/drive/MyDrive/SaoPauloChapter_Plants-Disease_2023-Aug-02/Task-2-Data Collection & Preprocessing/data/approach_1/01_original_datasets/i_wlobq/02_original_organized_by_disease_name/'"
      ],
      "metadata": {
        "id": "k10lLiLpVzLH"
      },
      "execution_count": null,
      "outputs": []
    },
    {
      "cell_type": "markdown",
      "source": [
        "Healthy"
      ],
      "metadata": {
        "id": "QlD57UN-VzLI"
      }
    },
    {
      "cell_type": "code",
      "source": [
        "label = 'Healthy'\n",
        "\n",
        "source_path = source_dataset_path + label\n",
        "\n",
        "#chose a name of path to copy your data\n",
        "destination_path = f\"{destination_strategy_path}/{strategy_path_name}/train/{label}\"\n",
        "#counting files to check, the process can be slow\n",
        "file_count = sum([len(files) for _, _, files in os.walk(destination_path)])\n",
        "print(f\"Number of files in {destination_path}: {file_count}\")\n",
        "\n",
        "shutil.copytree(source_path, destination_path,dirs_exist_ok=True)\n",
        "\n",
        "#counting files to check, the process can be slow\n",
        "file_count = sum([len(files) for _, _, files in os.walk(destination_path)])\n",
        "print(f\"Number of files in {destination_path}: {file_count}\")"
      ],
      "metadata": {
        "colab": {
          "base_uri": "https://localhost:8080/"
        },
        "outputId": "5df68f4e-4614-4b48-d773-d2c7c8aad500",
        "id": "H3ZQlVn2VzLN"
      },
      "execution_count": null,
      "outputs": [
        {
          "output_type": "stream",
          "name": "stdout",
          "text": [
            "Number of files in /content/drive/MyDrive/SaoPauloChapter_Plants-Disease_2023-Aug-02/Task-2-Data Collection & Preprocessing/data/approach_1/02_prepared_train_dataset/001_strategy_full_single_and_cropped_leaves/train/Healthy: 7191\n",
            "Number of files in /content/drive/MyDrive/SaoPauloChapter_Plants-Disease_2023-Aug-02/Task-2-Data Collection & Preprocessing/data/approach_1/02_prepared_train_dataset/001_strategy_full_single_and_cropped_leaves/train/Healthy: 7329\n"
          ]
        }
      ]
    },
    {
      "cell_type": "markdown",
      "source": [
        "### Test and val dataset"
      ],
      "metadata": {
        "id": "mDybHlbInxfV"
      }
    },
    {
      "cell_type": "code",
      "source": [
        "path = '/content/drive/MyDrive/SaoPauloChapter_Plants-Disease_2023-Aug-02/Task-2-Data Collection & Preprocessing/data/approach_1/02_prepared_train_dataset/000_test_and_val_dataset_resampled'\n",
        "folders = [f for f in os.listdir(path) if os.path.isdir(os.path.join(path, f))]\n",
        "folders"
      ],
      "metadata": {
        "colab": {
          "base_uri": "https://localhost:8080/"
        },
        "id": "zm79XX6Bnm4h",
        "outputId": "e8c895e4-07ba-4b48-ea84-41ba17184597"
      },
      "execution_count": null,
      "outputs": [
        {
          "output_type": "execute_result",
          "data": {
            "text/plain": [
              "['.ipynb_checkpoints', 'Rust', 'Phoma', 'Miner', 'Cescospora', 'Healthy']"
            ]
          },
          "metadata": {},
          "execution_count": 17
        }
      ]
    },
    {
      "cell_type": "code",
      "source": [
        "print('Total files in test set')\n",
        "for folder in folders:\n",
        "  #counting files to check, the process can be slow\n",
        "  file_count = sum([len(files) for _, _, files in os.walk(path + \"/\" +folder)])\n",
        "  print(f\"{folder}: {file_count}\")"
      ],
      "metadata": {
        "colab": {
          "base_uri": "https://localhost:8080/"
        },
        "id": "32ttUfz6nsMj",
        "outputId": "bff605a7-3baa-4d4e-e04a-67f40059374d"
      },
      "execution_count": null,
      "outputs": [
        {
          "output_type": "stream",
          "name": "stdout",
          "text": [
            "Total files in test set\n",
            ".ipynb_checkpoints: 0\n",
            "Rust: 921\n",
            "Phoma: 107\n",
            "Miner: 369\n",
            "Cescospora: 112\n",
            "Healthy: 791\n"
          ]
        }
      ]
    },
    {
      "cell_type": "markdown",
      "source": [
        "#### Move entire path"
      ],
      "metadata": {
        "id": "XJyrkmCnbR7M"
      }
    },
    {
      "cell_type": "code",
      "source": [
        "source_path = '/content/drive/MyDrive/SaoPauloChapter_Plants-Disease_2023-Aug-02/Task-2-Data Collection & Preprocessing/data/approach_1/02_prepared_train_dataset/000_test_and_val_dataset_resampled'\n",
        "\n",
        "#chose a name of path to copy your data\n",
        "destination_path = f'/content/drive/MyDrive/SaoPauloChapter_Plants-Disease_2023-Aug-02/Task-4-Model(s) Building/data/000_test_and_val_dataset_resampled'\n",
        "#counting files to check, the process can be slow\n",
        "file_count = sum([len(files) for _, _, files in os.walk(destination_path)])\n",
        "print(f\"Number of files in {destination_path}: {file_count}\")\n",
        "\n",
        "shutil.copytree(source_path, destination_path,dirs_exist_ok=True)\n",
        "\n",
        "#counting files to check, the process can be slow\n",
        "file_count = sum([len(files) for _, _, files in os.walk(destination_path)])\n",
        "print(f\"Number of files in {destination_path}: {file_count}\")"
      ],
      "metadata": {
        "colab": {
          "base_uri": "https://localhost:8080/"
        },
        "id": "F-jWiVBPbSC4",
        "outputId": "198781df-3a78-40be-c301-6ca91d45c4be"
      },
      "execution_count": 6,
      "outputs": [
        {
          "output_type": "stream",
          "name": "stdout",
          "text": [
            "Number of files in /content/drive/MyDrive/SaoPauloChapter_Plants-Disease_2023-Aug-02/Task-4-Model(s) Building/data/000_test_and_val_dataset_resampled: 0\n",
            "Number of files in /content/drive/MyDrive/SaoPauloChapter_Plants-Disease_2023-Aug-02/Task-4-Model(s) Building/data/000_test_and_val_dataset_resampled: 2300\n"
          ]
        }
      ]
    },
    {
      "cell_type": "code",
      "source": [
        "destination_path"
      ],
      "metadata": {
        "colab": {
          "base_uri": "https://localhost:8080/",
          "height": 36
        },
        "id": "r9S4xNe_gsPf",
        "outputId": "0ef9dbfa-f175-44d4-d93b-b1c668015292"
      },
      "execution_count": 9,
      "outputs": [
        {
          "output_type": "execute_result",
          "data": {
            "text/plain": [
              "'/content/drive/MyDrive/SaoPauloChapter_Plants-Disease_2023-Aug-02/Task-4-Model(s) Building/data/000_test_and_val_dataset_resampled'"
            ],
            "application/vnd.google.colaboratory.intrinsic+json": {
              "type": "string"
            }
          },
          "metadata": {},
          "execution_count": 9
        }
      ]
    },
    {
      "cell_type": "markdown",
      "source": [
        "#### Bracol"
      ],
      "metadata": {
        "id": "R0Sp3FjMgMxN"
      }
    },
    {
      "cell_type": "code",
      "source": [
        "path = '/content/drive/MyDrive/SaoPauloChapter_Plants-Disease_2023-Aug-02/Task-2-Data Collection & Preprocessing/data/approach_1/01_original_datasets/Bracol/02_original_organized_by_disease_name/automatic'\n",
        "folders = [f for f in os.listdir(path) if os.path.isdir(os.path.join(path, f))]\n",
        "folders"
      ],
      "metadata": {
        "colab": {
          "base_uri": "https://localhost:8080/"
        },
        "id": "KbgDdb2xgORG",
        "outputId": "bafdc004-7af5-400a-b7a8-c45611299915"
      },
      "execution_count": null,
      "outputs": [
        {
          "output_type": "execute_result",
          "data": {
            "text/plain": [
              "['Miner', 'Rust', 'Phoma', 'Cercospora']"
            ]
          },
          "metadata": {},
          "execution_count": 51
        }
      ]
    },
    {
      "cell_type": "code",
      "source": [
        "print('Total files in test set')\n",
        "for folder in folders:\n",
        "  #counting files to check, the process can be slow\n",
        "  file_count = sum([len(files) for _, _, files in os.walk(path + \"/\" +folder)])\n",
        "  print(f\"{folder}: {file_count}\")"
      ],
      "metadata": {
        "colab": {
          "base_uri": "https://localhost:8080/"
        },
        "id": "9cbVNy_-gaSV",
        "outputId": "9fb59552-0f6f-4e8f-fae0-03584ce99704"
      },
      "execution_count": null,
      "outputs": [
        {
          "output_type": "stream",
          "name": "stdout",
          "text": [
            "Total files in test set\n",
            "Miner: 322\n",
            "Rust: 349\n",
            "Phoma: 342\n",
            "Cercospora: 88\n"
          ]
        }
      ]
    },
    {
      "cell_type": "code",
      "source": [
        "source_path = '/content/drive/MyDrive/SaoPauloChapter_Plants-Disease_2023-Aug-02/Task-2-Data Collection & Preprocessing/data/approach_1/01_original_datasets/Bracol/02_original_organized_by_disease_name/automatic/Cercospora'\n",
        "\n",
        "#chose a name of path to copy your data\n",
        "destination_path = f'/content/drive/MyDrive/SaoPauloChapter_Plants-Disease_2023-Aug-02/Task-2-Data Collection & Preprocessing/data/approach_1/02_prepared_train_dataset/000_test_and_val_dataset_resampled/Cescospora'\n",
        "#counting files to check, the process can be slow\n",
        "file_count = sum([len(files) for _, _, files in os.walk(destination_path)])\n",
        "print(f\"Number of files in {destination_path}: {file_count}\")\n",
        "\n",
        "shutil.copytree(source_path, destination_path,dirs_exist_ok=True)\n",
        "\n",
        "#counting files to check, the process can be slow\n",
        "file_count = sum([len(files) for _, _, files in os.walk(destination_path)])\n",
        "print(f\"Number of files in {destination_path}: {file_count}\")"
      ],
      "metadata": {
        "colab": {
          "base_uri": "https://localhost:8080/"
        },
        "id": "aSgVlRfEgbUj",
        "outputId": "20e850ec-f24e-44f5-e576-aaac9bc3a411"
      },
      "execution_count": null,
      "outputs": [
        {
          "output_type": "stream",
          "name": "stdout",
          "text": [
            "Number of files in /content/drive/MyDrive/SaoPauloChapter_Plants-Disease_2023-Aug-02/Task-2-Data Collection & Preprocessing/data/approach_1/02_prepared_train_dataset/000_test_and_val_dataset_resampled/Cescospora: 24\n",
            "Number of files in /content/drive/MyDrive/SaoPauloChapter_Plants-Disease_2023-Aug-02/Task-2-Data Collection & Preprocessing/data/approach_1/02_prepared_train_dataset/000_test_and_val_dataset_resampled/Cescospora: 112\n"
          ]
        }
      ]
    },
    {
      "cell_type": "code",
      "source": [],
      "metadata": {
        "colab": {
          "base_uri": "https://localhost:8080/"
        },
        "id": "GCuwJDpsg4FR",
        "outputId": "2836fb3c-23f9-4ab2-c5db-1ba584904925"
      },
      "execution_count": null,
      "outputs": [
        {
          "output_type": "stream",
          "name": "stdout",
          "text": [
            "Number of files in /content/drive/MyDrive/SaoPauloChapter_Plants-Disease_2023-Aug-02/Task-2-Data Collection & Preprocessing/data/approach_1/02_prepared_train_dataset/000_test_and_val_dataset_resampled/Phoma: 107\n",
            "Number of files in /content/drive/MyDrive/SaoPauloChapter_Plants-Disease_2023-Aug-02/Task-2-Data Collection & Preprocessing/data/approach_1/02_prepared_train_dataset/000_test_and_val_dataset_resampled/Phoma: 449\n"
          ]
        }
      ]
    },
    {
      "cell_type": "markdown",
      "source": [
        "#### Rocole"
      ],
      "metadata": {
        "id": "13mUI55GyU_P"
      }
    },
    {
      "cell_type": "markdown",
      "source": [
        "##### Extract"
      ],
      "metadata": {
        "id": "ZRkaeU1S7oQJ"
      }
    },
    {
      "cell_type": "code",
      "source": [
        "path_to_images = '/content/drive/MyDrive/SaoPauloChapter_Plants-Disease_2023-Aug-02/Task-2-Data Collection & Preprocessing/data/approach_1/01_original_datasets/Rocole/01_original/Photos/'"
      ],
      "metadata": {
        "id": "8jMYcUb6zdyB"
      },
      "execution_count": null,
      "outputs": []
    },
    {
      "cell_type": "code",
      "source": [
        "data = pd.read_excel('/content/drive/MyDrive/SaoPauloChapter_Plants-Disease_2023-Aug-02/Task-2-Data Collection & Preprocessing/data/approach_1/01_original_datasets/Rocole/01_original/Annotations/RoCoLe-classes.xlsx', sheet_name='Hoja1')"
      ],
      "metadata": {
        "id": "UibNRH5xyX3m"
      },
      "execution_count": null,
      "outputs": []
    },
    {
      "cell_type": "code",
      "source": [
        "data['path_to_images'] = path_to_images\n",
        "data['full_path_to_acess'] = data['path_to_images'] + data['File']"
      ],
      "metadata": {
        "id": "weEbIx5szWZb"
      },
      "execution_count": null,
      "outputs": []
    },
    {
      "cell_type": "code",
      "source": [
        "data"
      ],
      "metadata": {
        "colab": {
          "base_uri": "https://localhost:8080/",
          "height": 424
        },
        "id": "GIE6yR9yzrIv",
        "outputId": "a7b18a5d-c87a-4df2-a02f-a373e9581f6d"
      },
      "execution_count": null,
      "outputs": [
        {
          "output_type": "execute_result",
          "data": {
            "text/plain": [
              "              File Binary.Label Multiclass.Label  \\\n",
              "0       C1P1H1.jpg      healthy          healthy   \n",
              "1       C1P2E2.jpg    unhealthy     rust_level_2   \n",
              "2       C1P2H1.jpg      healthy          healthy   \n",
              "3       C1P3E1.jpg      healthy          healthy   \n",
              "4       C1P3E2.jpg    unhealthy     rust_level_2   \n",
              "...            ...          ...              ...   \n",
              "1555  C12P40E2.jpg    unhealthy     rust_level_1   \n",
              "1556  C12P40H1.jpg      healthy          healthy   \n",
              "1557  C12P40H2.jpg    unhealthy     rust_level_1   \n",
              "1558   C8P24E2.jpg    unhealthy     rust_level_3   \n",
              "1559   C5P27E2.jpg      healthy          healthy   \n",
              "\n",
              "                                         path_to_images  \\\n",
              "0     /content/drive/MyDrive/SaoPauloChapter_Plants-...   \n",
              "1     /content/drive/MyDrive/SaoPauloChapter_Plants-...   \n",
              "2     /content/drive/MyDrive/SaoPauloChapter_Plants-...   \n",
              "3     /content/drive/MyDrive/SaoPauloChapter_Plants-...   \n",
              "4     /content/drive/MyDrive/SaoPauloChapter_Plants-...   \n",
              "...                                                 ...   \n",
              "1555  /content/drive/MyDrive/SaoPauloChapter_Plants-...   \n",
              "1556  /content/drive/MyDrive/SaoPauloChapter_Plants-...   \n",
              "1557  /content/drive/MyDrive/SaoPauloChapter_Plants-...   \n",
              "1558  /content/drive/MyDrive/SaoPauloChapter_Plants-...   \n",
              "1559  /content/drive/MyDrive/SaoPauloChapter_Plants-...   \n",
              "\n",
              "                                     full_path_to_acess  \n",
              "0     /content/drive/MyDrive/SaoPauloChapter_Plants-...  \n",
              "1     /content/drive/MyDrive/SaoPauloChapter_Plants-...  \n",
              "2     /content/drive/MyDrive/SaoPauloChapter_Plants-...  \n",
              "3     /content/drive/MyDrive/SaoPauloChapter_Plants-...  \n",
              "4     /content/drive/MyDrive/SaoPauloChapter_Plants-...  \n",
              "...                                                 ...  \n",
              "1555  /content/drive/MyDrive/SaoPauloChapter_Plants-...  \n",
              "1556  /content/drive/MyDrive/SaoPauloChapter_Plants-...  \n",
              "1557  /content/drive/MyDrive/SaoPauloChapter_Plants-...  \n",
              "1558  /content/drive/MyDrive/SaoPauloChapter_Plants-...  \n",
              "1559  /content/drive/MyDrive/SaoPauloChapter_Plants-...  \n",
              "\n",
              "[1560 rows x 5 columns]"
            ],
            "text/html": [
              "\n",
              "  <div id=\"df-133f259a-f400-49f4-8393-3c3fbbc6d9b4\" class=\"colab-df-container\">\n",
              "    <div>\n",
              "<style scoped>\n",
              "    .dataframe tbody tr th:only-of-type {\n",
              "        vertical-align: middle;\n",
              "    }\n",
              "\n",
              "    .dataframe tbody tr th {\n",
              "        vertical-align: top;\n",
              "    }\n",
              "\n",
              "    .dataframe thead th {\n",
              "        text-align: right;\n",
              "    }\n",
              "</style>\n",
              "<table border=\"1\" class=\"dataframe\">\n",
              "  <thead>\n",
              "    <tr style=\"text-align: right;\">\n",
              "      <th></th>\n",
              "      <th>File</th>\n",
              "      <th>Binary.Label</th>\n",
              "      <th>Multiclass.Label</th>\n",
              "      <th>path_to_images</th>\n",
              "      <th>full_path_to_acess</th>\n",
              "    </tr>\n",
              "  </thead>\n",
              "  <tbody>\n",
              "    <tr>\n",
              "      <th>0</th>\n",
              "      <td>C1P1H1.jpg</td>\n",
              "      <td>healthy</td>\n",
              "      <td>healthy</td>\n",
              "      <td>/content/drive/MyDrive/SaoPauloChapter_Plants-...</td>\n",
              "      <td>/content/drive/MyDrive/SaoPauloChapter_Plants-...</td>\n",
              "    </tr>\n",
              "    <tr>\n",
              "      <th>1</th>\n",
              "      <td>C1P2E2.jpg</td>\n",
              "      <td>unhealthy</td>\n",
              "      <td>rust_level_2</td>\n",
              "      <td>/content/drive/MyDrive/SaoPauloChapter_Plants-...</td>\n",
              "      <td>/content/drive/MyDrive/SaoPauloChapter_Plants-...</td>\n",
              "    </tr>\n",
              "    <tr>\n",
              "      <th>2</th>\n",
              "      <td>C1P2H1.jpg</td>\n",
              "      <td>healthy</td>\n",
              "      <td>healthy</td>\n",
              "      <td>/content/drive/MyDrive/SaoPauloChapter_Plants-...</td>\n",
              "      <td>/content/drive/MyDrive/SaoPauloChapter_Plants-...</td>\n",
              "    </tr>\n",
              "    <tr>\n",
              "      <th>3</th>\n",
              "      <td>C1P3E1.jpg</td>\n",
              "      <td>healthy</td>\n",
              "      <td>healthy</td>\n",
              "      <td>/content/drive/MyDrive/SaoPauloChapter_Plants-...</td>\n",
              "      <td>/content/drive/MyDrive/SaoPauloChapter_Plants-...</td>\n",
              "    </tr>\n",
              "    <tr>\n",
              "      <th>4</th>\n",
              "      <td>C1P3E2.jpg</td>\n",
              "      <td>unhealthy</td>\n",
              "      <td>rust_level_2</td>\n",
              "      <td>/content/drive/MyDrive/SaoPauloChapter_Plants-...</td>\n",
              "      <td>/content/drive/MyDrive/SaoPauloChapter_Plants-...</td>\n",
              "    </tr>\n",
              "    <tr>\n",
              "      <th>...</th>\n",
              "      <td>...</td>\n",
              "      <td>...</td>\n",
              "      <td>...</td>\n",
              "      <td>...</td>\n",
              "      <td>...</td>\n",
              "    </tr>\n",
              "    <tr>\n",
              "      <th>1555</th>\n",
              "      <td>C12P40E2.jpg</td>\n",
              "      <td>unhealthy</td>\n",
              "      <td>rust_level_1</td>\n",
              "      <td>/content/drive/MyDrive/SaoPauloChapter_Plants-...</td>\n",
              "      <td>/content/drive/MyDrive/SaoPauloChapter_Plants-...</td>\n",
              "    </tr>\n",
              "    <tr>\n",
              "      <th>1556</th>\n",
              "      <td>C12P40H1.jpg</td>\n",
              "      <td>healthy</td>\n",
              "      <td>healthy</td>\n",
              "      <td>/content/drive/MyDrive/SaoPauloChapter_Plants-...</td>\n",
              "      <td>/content/drive/MyDrive/SaoPauloChapter_Plants-...</td>\n",
              "    </tr>\n",
              "    <tr>\n",
              "      <th>1557</th>\n",
              "      <td>C12P40H2.jpg</td>\n",
              "      <td>unhealthy</td>\n",
              "      <td>rust_level_1</td>\n",
              "      <td>/content/drive/MyDrive/SaoPauloChapter_Plants-...</td>\n",
              "      <td>/content/drive/MyDrive/SaoPauloChapter_Plants-...</td>\n",
              "    </tr>\n",
              "    <tr>\n",
              "      <th>1558</th>\n",
              "      <td>C8P24E2.jpg</td>\n",
              "      <td>unhealthy</td>\n",
              "      <td>rust_level_3</td>\n",
              "      <td>/content/drive/MyDrive/SaoPauloChapter_Plants-...</td>\n",
              "      <td>/content/drive/MyDrive/SaoPauloChapter_Plants-...</td>\n",
              "    </tr>\n",
              "    <tr>\n",
              "      <th>1559</th>\n",
              "      <td>C5P27E2.jpg</td>\n",
              "      <td>healthy</td>\n",
              "      <td>healthy</td>\n",
              "      <td>/content/drive/MyDrive/SaoPauloChapter_Plants-...</td>\n",
              "      <td>/content/drive/MyDrive/SaoPauloChapter_Plants-...</td>\n",
              "    </tr>\n",
              "  </tbody>\n",
              "</table>\n",
              "<p>1560 rows × 5 columns</p>\n",
              "</div>\n",
              "    <div class=\"colab-df-buttons\">\n",
              "\n",
              "  <div class=\"colab-df-container\">\n",
              "    <button class=\"colab-df-convert\" onclick=\"convertToInteractive('df-133f259a-f400-49f4-8393-3c3fbbc6d9b4')\"\n",
              "            title=\"Convert this dataframe to an interactive table.\"\n",
              "            style=\"display:none;\">\n",
              "\n",
              "  <svg xmlns=\"http://www.w3.org/2000/svg\" height=\"24px\" viewBox=\"0 -960 960 960\">\n",
              "    <path d=\"M120-120v-720h720v720H120Zm60-500h600v-160H180v160Zm220 220h160v-160H400v160Zm0 220h160v-160H400v160ZM180-400h160v-160H180v160Zm440 0h160v-160H620v160ZM180-180h160v-160H180v160Zm440 0h160v-160H620v160Z\"/>\n",
              "  </svg>\n",
              "    </button>\n",
              "\n",
              "  <style>\n",
              "    .colab-df-container {\n",
              "      display:flex;\n",
              "      gap: 12px;\n",
              "    }\n",
              "\n",
              "    .colab-df-convert {\n",
              "      background-color: #E8F0FE;\n",
              "      border: none;\n",
              "      border-radius: 50%;\n",
              "      cursor: pointer;\n",
              "      display: none;\n",
              "      fill: #1967D2;\n",
              "      height: 32px;\n",
              "      padding: 0 0 0 0;\n",
              "      width: 32px;\n",
              "    }\n",
              "\n",
              "    .colab-df-convert:hover {\n",
              "      background-color: #E2EBFA;\n",
              "      box-shadow: 0px 1px 2px rgba(60, 64, 67, 0.3), 0px 1px 3px 1px rgba(60, 64, 67, 0.15);\n",
              "      fill: #174EA6;\n",
              "    }\n",
              "\n",
              "    .colab-df-buttons div {\n",
              "      margin-bottom: 4px;\n",
              "    }\n",
              "\n",
              "    [theme=dark] .colab-df-convert {\n",
              "      background-color: #3B4455;\n",
              "      fill: #D2E3FC;\n",
              "    }\n",
              "\n",
              "    [theme=dark] .colab-df-convert:hover {\n",
              "      background-color: #434B5C;\n",
              "      box-shadow: 0px 1px 3px 1px rgba(0, 0, 0, 0.15);\n",
              "      filter: drop-shadow(0px 1px 2px rgba(0, 0, 0, 0.3));\n",
              "      fill: #FFFFFF;\n",
              "    }\n",
              "  </style>\n",
              "\n",
              "    <script>\n",
              "      const buttonEl =\n",
              "        document.querySelector('#df-133f259a-f400-49f4-8393-3c3fbbc6d9b4 button.colab-df-convert');\n",
              "      buttonEl.style.display =\n",
              "        google.colab.kernel.accessAllowed ? 'block' : 'none';\n",
              "\n",
              "      async function convertToInteractive(key) {\n",
              "        const element = document.querySelector('#df-133f259a-f400-49f4-8393-3c3fbbc6d9b4');\n",
              "        const dataTable =\n",
              "          await google.colab.kernel.invokeFunction('convertToInteractive',\n",
              "                                                    [key], {});\n",
              "        if (!dataTable) return;\n",
              "\n",
              "        const docLinkHtml = 'Like what you see? Visit the ' +\n",
              "          '<a target=\"_blank\" href=https://colab.research.google.com/notebooks/data_table.ipynb>data table notebook</a>'\n",
              "          + ' to learn more about interactive tables.';\n",
              "        element.innerHTML = '';\n",
              "        dataTable['output_type'] = 'display_data';\n",
              "        await google.colab.output.renderOutput(dataTable, element);\n",
              "        const docLink = document.createElement('div');\n",
              "        docLink.innerHTML = docLinkHtml;\n",
              "        element.appendChild(docLink);\n",
              "      }\n",
              "    </script>\n",
              "  </div>\n",
              "\n",
              "\n",
              "<div id=\"df-548318cb-bfa8-4390-811a-8b429890adb6\">\n",
              "  <button class=\"colab-df-quickchart\" onclick=\"quickchart('df-548318cb-bfa8-4390-811a-8b429890adb6')\"\n",
              "            title=\"Suggest charts.\"\n",
              "            style=\"display:none;\">\n",
              "\n",
              "<svg xmlns=\"http://www.w3.org/2000/svg\" height=\"24px\"viewBox=\"0 0 24 24\"\n",
              "     width=\"24px\">\n",
              "    <g>\n",
              "        <path d=\"M19 3H5c-1.1 0-2 .9-2 2v14c0 1.1.9 2 2 2h14c1.1 0 2-.9 2-2V5c0-1.1-.9-2-2-2zM9 17H7v-7h2v7zm4 0h-2V7h2v10zm4 0h-2v-4h2v4z\"/>\n",
              "    </g>\n",
              "</svg>\n",
              "  </button>\n",
              "\n",
              "<style>\n",
              "  .colab-df-quickchart {\n",
              "    background-color: #E8F0FE;\n",
              "    border: none;\n",
              "    border-radius: 50%;\n",
              "    cursor: pointer;\n",
              "    display: none;\n",
              "    fill: #1967D2;\n",
              "    height: 32px;\n",
              "    padding: 0 0 0 0;\n",
              "    width: 32px;\n",
              "  }\n",
              "\n",
              "  .colab-df-quickchart:hover {\n",
              "    background-color: #E2EBFA;\n",
              "    box-shadow: 0px 1px 2px rgba(60, 64, 67, 0.3), 0px 1px 3px 1px rgba(60, 64, 67, 0.15);\n",
              "    fill: #174EA6;\n",
              "  }\n",
              "\n",
              "  [theme=dark] .colab-df-quickchart {\n",
              "    background-color: #3B4455;\n",
              "    fill: #D2E3FC;\n",
              "  }\n",
              "\n",
              "  [theme=dark] .colab-df-quickchart:hover {\n",
              "    background-color: #434B5C;\n",
              "    box-shadow: 0px 1px 3px 1px rgba(0, 0, 0, 0.15);\n",
              "    filter: drop-shadow(0px 1px 2px rgba(0, 0, 0, 0.3));\n",
              "    fill: #FFFFFF;\n",
              "  }\n",
              "</style>\n",
              "\n",
              "  <script>\n",
              "    async function quickchart(key) {\n",
              "      const charts = await google.colab.kernel.invokeFunction(\n",
              "          'suggestCharts', [key], {});\n",
              "    }\n",
              "    (() => {\n",
              "      let quickchartButtonEl =\n",
              "        document.querySelector('#df-548318cb-bfa8-4390-811a-8b429890adb6 button');\n",
              "      quickchartButtonEl.style.display =\n",
              "        google.colab.kernel.accessAllowed ? 'block' : 'none';\n",
              "    })();\n",
              "  </script>\n",
              "</div>\n",
              "    </div>\n",
              "  </div>\n"
            ]
          },
          "metadata": {},
          "execution_count": 17
        }
      ]
    },
    {
      "cell_type": "code",
      "source": [
        "data.loc[data['Multiclass.Label'].str.contains('rust')]"
      ],
      "metadata": {
        "colab": {
          "base_uri": "https://localhost:8080/",
          "height": 424
        },
        "id": "Ojdi7Z1ZzZpJ",
        "outputId": "bbb595b6-766e-4820-f01a-4f7783c6ec6a"
      },
      "execution_count": null,
      "outputs": [
        {
          "output_type": "execute_result",
          "data": {
            "text/plain": [
              "              File Binary.Label Multiclass.Label  \\\n",
              "1       C1P2E2.jpg    unhealthy     rust_level_2   \n",
              "4       C1P3E2.jpg    unhealthy     rust_level_2   \n",
              "6       C1P3H2.jpg    unhealthy     rust_level_3   \n",
              "7       C1P4E2.jpg    unhealthy     rust_level_2   \n",
              "9       C1P4H2.jpg    unhealthy     rust_level_2   \n",
              "...            ...          ...              ...   \n",
              "1550  C12P34E2.jpg    unhealthy     rust_level_3   \n",
              "1553  C12P38H2.jpg    unhealthy     rust_level_1   \n",
              "1555  C12P40E2.jpg    unhealthy     rust_level_1   \n",
              "1557  C12P40H2.jpg    unhealthy     rust_level_1   \n",
              "1558   C8P24E2.jpg    unhealthy     rust_level_3   \n",
              "\n",
              "                                         path_to_images  \\\n",
              "1     /content/drive/MyDrive/SaoPauloChapter_Plants-...   \n",
              "4     /content/drive/MyDrive/SaoPauloChapter_Plants-...   \n",
              "6     /content/drive/MyDrive/SaoPauloChapter_Plants-...   \n",
              "7     /content/drive/MyDrive/SaoPauloChapter_Plants-...   \n",
              "9     /content/drive/MyDrive/SaoPauloChapter_Plants-...   \n",
              "...                                                 ...   \n",
              "1550  /content/drive/MyDrive/SaoPauloChapter_Plants-...   \n",
              "1553  /content/drive/MyDrive/SaoPauloChapter_Plants-...   \n",
              "1555  /content/drive/MyDrive/SaoPauloChapter_Plants-...   \n",
              "1557  /content/drive/MyDrive/SaoPauloChapter_Plants-...   \n",
              "1558  /content/drive/MyDrive/SaoPauloChapter_Plants-...   \n",
              "\n",
              "                                     full_path_to_acess  \n",
              "1     /content/drive/MyDrive/SaoPauloChapter_Plants-...  \n",
              "4     /content/drive/MyDrive/SaoPauloChapter_Plants-...  \n",
              "6     /content/drive/MyDrive/SaoPauloChapter_Plants-...  \n",
              "7     /content/drive/MyDrive/SaoPauloChapter_Plants-...  \n",
              "9     /content/drive/MyDrive/SaoPauloChapter_Plants-...  \n",
              "...                                                 ...  \n",
              "1550  /content/drive/MyDrive/SaoPauloChapter_Plants-...  \n",
              "1553  /content/drive/MyDrive/SaoPauloChapter_Plants-...  \n",
              "1555  /content/drive/MyDrive/SaoPauloChapter_Plants-...  \n",
              "1557  /content/drive/MyDrive/SaoPauloChapter_Plants-...  \n",
              "1558  /content/drive/MyDrive/SaoPauloChapter_Plants-...  \n",
              "\n",
              "[602 rows x 5 columns]"
            ],
            "text/html": [
              "\n",
              "  <div id=\"df-ca563363-189e-4641-a2e8-cfb4581bdd76\" class=\"colab-df-container\">\n",
              "    <div>\n",
              "<style scoped>\n",
              "    .dataframe tbody tr th:only-of-type {\n",
              "        vertical-align: middle;\n",
              "    }\n",
              "\n",
              "    .dataframe tbody tr th {\n",
              "        vertical-align: top;\n",
              "    }\n",
              "\n",
              "    .dataframe thead th {\n",
              "        text-align: right;\n",
              "    }\n",
              "</style>\n",
              "<table border=\"1\" class=\"dataframe\">\n",
              "  <thead>\n",
              "    <tr style=\"text-align: right;\">\n",
              "      <th></th>\n",
              "      <th>File</th>\n",
              "      <th>Binary.Label</th>\n",
              "      <th>Multiclass.Label</th>\n",
              "      <th>path_to_images</th>\n",
              "      <th>full_path_to_acess</th>\n",
              "    </tr>\n",
              "  </thead>\n",
              "  <tbody>\n",
              "    <tr>\n",
              "      <th>1</th>\n",
              "      <td>C1P2E2.jpg</td>\n",
              "      <td>unhealthy</td>\n",
              "      <td>rust_level_2</td>\n",
              "      <td>/content/drive/MyDrive/SaoPauloChapter_Plants-...</td>\n",
              "      <td>/content/drive/MyDrive/SaoPauloChapter_Plants-...</td>\n",
              "    </tr>\n",
              "    <tr>\n",
              "      <th>4</th>\n",
              "      <td>C1P3E2.jpg</td>\n",
              "      <td>unhealthy</td>\n",
              "      <td>rust_level_2</td>\n",
              "      <td>/content/drive/MyDrive/SaoPauloChapter_Plants-...</td>\n",
              "      <td>/content/drive/MyDrive/SaoPauloChapter_Plants-...</td>\n",
              "    </tr>\n",
              "    <tr>\n",
              "      <th>6</th>\n",
              "      <td>C1P3H2.jpg</td>\n",
              "      <td>unhealthy</td>\n",
              "      <td>rust_level_3</td>\n",
              "      <td>/content/drive/MyDrive/SaoPauloChapter_Plants-...</td>\n",
              "      <td>/content/drive/MyDrive/SaoPauloChapter_Plants-...</td>\n",
              "    </tr>\n",
              "    <tr>\n",
              "      <th>7</th>\n",
              "      <td>C1P4E2.jpg</td>\n",
              "      <td>unhealthy</td>\n",
              "      <td>rust_level_2</td>\n",
              "      <td>/content/drive/MyDrive/SaoPauloChapter_Plants-...</td>\n",
              "      <td>/content/drive/MyDrive/SaoPauloChapter_Plants-...</td>\n",
              "    </tr>\n",
              "    <tr>\n",
              "      <th>9</th>\n",
              "      <td>C1P4H2.jpg</td>\n",
              "      <td>unhealthy</td>\n",
              "      <td>rust_level_2</td>\n",
              "      <td>/content/drive/MyDrive/SaoPauloChapter_Plants-...</td>\n",
              "      <td>/content/drive/MyDrive/SaoPauloChapter_Plants-...</td>\n",
              "    </tr>\n",
              "    <tr>\n",
              "      <th>...</th>\n",
              "      <td>...</td>\n",
              "      <td>...</td>\n",
              "      <td>...</td>\n",
              "      <td>...</td>\n",
              "      <td>...</td>\n",
              "    </tr>\n",
              "    <tr>\n",
              "      <th>1550</th>\n",
              "      <td>C12P34E2.jpg</td>\n",
              "      <td>unhealthy</td>\n",
              "      <td>rust_level_3</td>\n",
              "      <td>/content/drive/MyDrive/SaoPauloChapter_Plants-...</td>\n",
              "      <td>/content/drive/MyDrive/SaoPauloChapter_Plants-...</td>\n",
              "    </tr>\n",
              "    <tr>\n",
              "      <th>1553</th>\n",
              "      <td>C12P38H2.jpg</td>\n",
              "      <td>unhealthy</td>\n",
              "      <td>rust_level_1</td>\n",
              "      <td>/content/drive/MyDrive/SaoPauloChapter_Plants-...</td>\n",
              "      <td>/content/drive/MyDrive/SaoPauloChapter_Plants-...</td>\n",
              "    </tr>\n",
              "    <tr>\n",
              "      <th>1555</th>\n",
              "      <td>C12P40E2.jpg</td>\n",
              "      <td>unhealthy</td>\n",
              "      <td>rust_level_1</td>\n",
              "      <td>/content/drive/MyDrive/SaoPauloChapter_Plants-...</td>\n",
              "      <td>/content/drive/MyDrive/SaoPauloChapter_Plants-...</td>\n",
              "    </tr>\n",
              "    <tr>\n",
              "      <th>1557</th>\n",
              "      <td>C12P40H2.jpg</td>\n",
              "      <td>unhealthy</td>\n",
              "      <td>rust_level_1</td>\n",
              "      <td>/content/drive/MyDrive/SaoPauloChapter_Plants-...</td>\n",
              "      <td>/content/drive/MyDrive/SaoPauloChapter_Plants-...</td>\n",
              "    </tr>\n",
              "    <tr>\n",
              "      <th>1558</th>\n",
              "      <td>C8P24E2.jpg</td>\n",
              "      <td>unhealthy</td>\n",
              "      <td>rust_level_3</td>\n",
              "      <td>/content/drive/MyDrive/SaoPauloChapter_Plants-...</td>\n",
              "      <td>/content/drive/MyDrive/SaoPauloChapter_Plants-...</td>\n",
              "    </tr>\n",
              "  </tbody>\n",
              "</table>\n",
              "<p>602 rows × 5 columns</p>\n",
              "</div>\n",
              "    <div class=\"colab-df-buttons\">\n",
              "\n",
              "  <div class=\"colab-df-container\">\n",
              "    <button class=\"colab-df-convert\" onclick=\"convertToInteractive('df-ca563363-189e-4641-a2e8-cfb4581bdd76')\"\n",
              "            title=\"Convert this dataframe to an interactive table.\"\n",
              "            style=\"display:none;\">\n",
              "\n",
              "  <svg xmlns=\"http://www.w3.org/2000/svg\" height=\"24px\" viewBox=\"0 -960 960 960\">\n",
              "    <path d=\"M120-120v-720h720v720H120Zm60-500h600v-160H180v160Zm220 220h160v-160H400v160Zm0 220h160v-160H400v160ZM180-400h160v-160H180v160Zm440 0h160v-160H620v160ZM180-180h160v-160H180v160Zm440 0h160v-160H620v160Z\"/>\n",
              "  </svg>\n",
              "    </button>\n",
              "\n",
              "  <style>\n",
              "    .colab-df-container {\n",
              "      display:flex;\n",
              "      gap: 12px;\n",
              "    }\n",
              "\n",
              "    .colab-df-convert {\n",
              "      background-color: #E8F0FE;\n",
              "      border: none;\n",
              "      border-radius: 50%;\n",
              "      cursor: pointer;\n",
              "      display: none;\n",
              "      fill: #1967D2;\n",
              "      height: 32px;\n",
              "      padding: 0 0 0 0;\n",
              "      width: 32px;\n",
              "    }\n",
              "\n",
              "    .colab-df-convert:hover {\n",
              "      background-color: #E2EBFA;\n",
              "      box-shadow: 0px 1px 2px rgba(60, 64, 67, 0.3), 0px 1px 3px 1px rgba(60, 64, 67, 0.15);\n",
              "      fill: #174EA6;\n",
              "    }\n",
              "\n",
              "    .colab-df-buttons div {\n",
              "      margin-bottom: 4px;\n",
              "    }\n",
              "\n",
              "    [theme=dark] .colab-df-convert {\n",
              "      background-color: #3B4455;\n",
              "      fill: #D2E3FC;\n",
              "    }\n",
              "\n",
              "    [theme=dark] .colab-df-convert:hover {\n",
              "      background-color: #434B5C;\n",
              "      box-shadow: 0px 1px 3px 1px rgba(0, 0, 0, 0.15);\n",
              "      filter: drop-shadow(0px 1px 2px rgba(0, 0, 0, 0.3));\n",
              "      fill: #FFFFFF;\n",
              "    }\n",
              "  </style>\n",
              "\n",
              "    <script>\n",
              "      const buttonEl =\n",
              "        document.querySelector('#df-ca563363-189e-4641-a2e8-cfb4581bdd76 button.colab-df-convert');\n",
              "      buttonEl.style.display =\n",
              "        google.colab.kernel.accessAllowed ? 'block' : 'none';\n",
              "\n",
              "      async function convertToInteractive(key) {\n",
              "        const element = document.querySelector('#df-ca563363-189e-4641-a2e8-cfb4581bdd76');\n",
              "        const dataTable =\n",
              "          await google.colab.kernel.invokeFunction('convertToInteractive',\n",
              "                                                    [key], {});\n",
              "        if (!dataTable) return;\n",
              "\n",
              "        const docLinkHtml = 'Like what you see? Visit the ' +\n",
              "          '<a target=\"_blank\" href=https://colab.research.google.com/notebooks/data_table.ipynb>data table notebook</a>'\n",
              "          + ' to learn more about interactive tables.';\n",
              "        element.innerHTML = '';\n",
              "        dataTable['output_type'] = 'display_data';\n",
              "        await google.colab.output.renderOutput(dataTable, element);\n",
              "        const docLink = document.createElement('div');\n",
              "        docLink.innerHTML = docLinkHtml;\n",
              "        element.appendChild(docLink);\n",
              "      }\n",
              "    </script>\n",
              "  </div>\n",
              "\n",
              "\n",
              "<div id=\"df-06e6e9d8-92f6-4ce5-a1ba-0753ca29bd66\">\n",
              "  <button class=\"colab-df-quickchart\" onclick=\"quickchart('df-06e6e9d8-92f6-4ce5-a1ba-0753ca29bd66')\"\n",
              "            title=\"Suggest charts.\"\n",
              "            style=\"display:none;\">\n",
              "\n",
              "<svg xmlns=\"http://www.w3.org/2000/svg\" height=\"24px\"viewBox=\"0 0 24 24\"\n",
              "     width=\"24px\">\n",
              "    <g>\n",
              "        <path d=\"M19 3H5c-1.1 0-2 .9-2 2v14c0 1.1.9 2 2 2h14c1.1 0 2-.9 2-2V5c0-1.1-.9-2-2-2zM9 17H7v-7h2v7zm4 0h-2V7h2v10zm4 0h-2v-4h2v4z\"/>\n",
              "    </g>\n",
              "</svg>\n",
              "  </button>\n",
              "\n",
              "<style>\n",
              "  .colab-df-quickchart {\n",
              "    background-color: #E8F0FE;\n",
              "    border: none;\n",
              "    border-radius: 50%;\n",
              "    cursor: pointer;\n",
              "    display: none;\n",
              "    fill: #1967D2;\n",
              "    height: 32px;\n",
              "    padding: 0 0 0 0;\n",
              "    width: 32px;\n",
              "  }\n",
              "\n",
              "  .colab-df-quickchart:hover {\n",
              "    background-color: #E2EBFA;\n",
              "    box-shadow: 0px 1px 2px rgba(60, 64, 67, 0.3), 0px 1px 3px 1px rgba(60, 64, 67, 0.15);\n",
              "    fill: #174EA6;\n",
              "  }\n",
              "\n",
              "  [theme=dark] .colab-df-quickchart {\n",
              "    background-color: #3B4455;\n",
              "    fill: #D2E3FC;\n",
              "  }\n",
              "\n",
              "  [theme=dark] .colab-df-quickchart:hover {\n",
              "    background-color: #434B5C;\n",
              "    box-shadow: 0px 1px 3px 1px rgba(0, 0, 0, 0.15);\n",
              "    filter: drop-shadow(0px 1px 2px rgba(0, 0, 0, 0.3));\n",
              "    fill: #FFFFFF;\n",
              "  }\n",
              "</style>\n",
              "\n",
              "  <script>\n",
              "    async function quickchart(key) {\n",
              "      const charts = await google.colab.kernel.invokeFunction(\n",
              "          'suggestCharts', [key], {});\n",
              "    }\n",
              "    (() => {\n",
              "      let quickchartButtonEl =\n",
              "        document.querySelector('#df-06e6e9d8-92f6-4ce5-a1ba-0753ca29bd66 button');\n",
              "      quickchartButtonEl.style.display =\n",
              "        google.colab.kernel.accessAllowed ? 'block' : 'none';\n",
              "    })();\n",
              "  </script>\n",
              "</div>\n",
              "    </div>\n",
              "  </div>\n"
            ]
          },
          "metadata": {},
          "execution_count": 18
        }
      ]
    },
    {
      "cell_type": "code",
      "source": [
        "len(data.loc[data['Multiclass.Label']=='healthy'])"
      ],
      "metadata": {
        "colab": {
          "base_uri": "https://localhost:8080/"
        },
        "id": "ZPRZKe2dgDCM",
        "outputId": "9bbe41f1-6dcd-4f0e-c79d-4a95fe01ef31"
      },
      "execution_count": null,
      "outputs": [
        {
          "output_type": "execute_result",
          "data": {
            "text/plain": [
              "791"
            ]
          },
          "metadata": {},
          "execution_count": 19
        }
      ]
    },
    {
      "cell_type": "code",
      "source": [
        "len(data.loc[data['Multiclass.Label'].str.contains('rust')])"
      ],
      "metadata": {
        "colab": {
          "base_uri": "https://localhost:8080/"
        },
        "id": "DicOPGbfgF2k",
        "outputId": "2cddec94-02ed-4208-8865-78dd5e6ec659"
      },
      "execution_count": null,
      "outputs": [
        {
          "output_type": "execute_result",
          "data": {
            "text/plain": [
              "602"
            ]
          },
          "metadata": {},
          "execution_count": 20
        }
      ]
    },
    {
      "cell_type": "markdown",
      "source": [
        "##### Organize"
      ],
      "metadata": {
        "id": "3Ban2KRn7rBN"
      }
    },
    {
      "cell_type": "code",
      "source": [
        "path = '/content/drive/MyDrive/SaoPauloChapter_Plants-Disease_2023-Aug-02/Task-2-Data Collection & Preprocessing/data/approach_1/01_original_datasets/Rocole/02_original_organized_by_disease/'\n",
        "folders = [f for f in os.listdir(path) if os.path.isdir(os.path.join(path, f))]\n",
        "folders"
      ],
      "metadata": {
        "colab": {
          "base_uri": "https://localhost:8080/"
        },
        "id": "wzjI6ldahcHe",
        "outputId": "76a30ff4-8a8b-42ce-b0ef-748451acece8"
      },
      "execution_count": null,
      "outputs": [
        {
          "output_type": "execute_result",
          "data": {
            "text/plain": [
              "['Healthy', 'Rust']"
            ]
          },
          "metadata": {},
          "execution_count": 11
        }
      ]
    },
    {
      "cell_type": "code",
      "source": [
        "print('Total files in test set')\n",
        "for folder in folders:\n",
        "  #counting files to check, the process can be slow\n",
        "  file_count = sum([len(files) for _, _, files in os.walk(path + \"/\" +folder)])\n",
        "  print(f\"{folder}: {file_count}\")"
      ],
      "metadata": {
        "colab": {
          "base_uri": "https://localhost:8080/"
        },
        "id": "eVtkqlqPhT6g",
        "outputId": "31a3ab61-d39a-40b0-a484-af6fb87157e8"
      },
      "execution_count": null,
      "outputs": [
        {
          "output_type": "stream",
          "name": "stdout",
          "text": [
            "Total files in test set\n",
            "Healthy: 791\n",
            "Rust: 602\n"
          ]
        }
      ]
    },
    {
      "cell_type": "markdown",
      "source": [
        "Healthy used in tes and val"
      ],
      "metadata": {
        "id": "h0yZoWkl0UC2"
      }
    },
    {
      "cell_type": "code",
      "source": [
        "destination_path = '/content/drive/MyDrive/SaoPauloChapter_Plants-Disease_2023-Aug-02/Task-2-Data Collection & Preprocessing/data/approach_1/01_original_datasets/Rocole/02_original_organized_by_disease/Healthy'"
      ],
      "metadata": {
        "id": "HrAQEfe_0V3v"
      },
      "execution_count": null,
      "outputs": []
    },
    {
      "cell_type": "code",
      "source": [
        "healthy_images = data.loc[data['Multiclass.Label']=='healthy']['full_path_to_acess']"
      ],
      "metadata": {
        "id": "RoU_lv0V0Dot"
      },
      "execution_count": null,
      "outputs": []
    },
    {
      "cell_type": "code",
      "source": [
        "healthy_images.iloc[0]"
      ],
      "metadata": {
        "colab": {
          "base_uri": "https://localhost:8080/",
          "height": 35
        },
        "id": "_L-B1IMo0N2U",
        "outputId": "c9a79d85-ac88-4655-a75c-70c98284ce5e"
      },
      "execution_count": null,
      "outputs": [
        {
          "output_type": "execute_result",
          "data": {
            "text/plain": [
              "'/content/drive/MyDrive/SaoPauloChapter_Plants-Disease_2023-Aug-02/Task-2-Data Collection & Preprocessing/data/approach_1/01_original_datasets/Rocole/01_original/Photos/C1P1H1.jpg'"
            ],
            "application/vnd.google.colaboratory.intrinsic+json": {
              "type": "string"
            }
          },
          "metadata": {},
          "execution_count": 22
        }
      ]
    },
    {
      "cell_type": "code",
      "source": [
        "for i in range(len(healthy_images)):\n",
        "  file_path = healthy_images.iloc[i]\n",
        "  shutil.copy(file_path, destination_path)"
      ],
      "metadata": {
        "id": "gfTxaWTX0CUu"
      },
      "execution_count": null,
      "outputs": []
    },
    {
      "cell_type": "markdown",
      "source": [
        "Move organized files"
      ],
      "metadata": {
        "id": "QS020Lrddx-o"
      }
    },
    {
      "cell_type": "code",
      "source": [
        "source_path = '/content/drive/MyDrive/SaoPauloChapter_Plants-Disease_2023-Aug-02/Task-2-Data Collection & Preprocessing/data/approach_1/01_original_datasets/Rocole/02_original_organized_by_disease/Healthy'\n",
        "\n",
        "#chose a name of path to copy your data\n",
        "destination_path = f'/content/drive/MyDrive/SaoPauloChapter_Plants-Disease_2023-Aug-02/Task-2-Data Collection & Preprocessing/data/approach_1/02_prepared_train_dataset/000_test_and_val_dataset_resampled/Healthy'\n",
        "file_count = sum([len(files) for _, _, files in os.walk(destination_path)])\n",
        "print(f\"Number of files in {destination_path}: {file_count}\")\n",
        "\n",
        "shutil.copytree(source_path, destination_path,dirs_exist_ok=True)\n",
        "\n",
        "file_count = sum([len(files) for _, _, files in os.walk(destination_path)])\n",
        "print(f\"Number of files in {destination_path}: {file_count}\")"
      ],
      "metadata": {
        "colab": {
          "base_uri": "https://localhost:8080/"
        },
        "id": "vwug5Ldrk5Qy",
        "outputId": "4322085e-5af6-48c6-bc0d-870d2560ecd1"
      },
      "execution_count": null,
      "outputs": [
        {
          "output_type": "stream",
          "name": "stdout",
          "text": [
            "Number of files in /content/drive/MyDrive/SaoPauloChapter_Plants-Disease_2023-Aug-02/Task-2-Data Collection & Preprocessing/data/approach_1/02_prepared_train_dataset/000_test_and_val_dataset_resampled/Healthy: 0\n",
            "Number of files in /content/drive/MyDrive/SaoPauloChapter_Plants-Disease_2023-Aug-02/Task-2-Data Collection & Preprocessing/data/approach_1/02_prepared_train_dataset/000_test_and_val_dataset_resampled/Healthy: 791\n"
          ]
        }
      ]
    },
    {
      "cell_type": "markdown",
      "source": [
        "rust not used in test and val"
      ],
      "metadata": {
        "id": "E_UFG4PN1QBz"
      }
    },
    {
      "cell_type": "code",
      "source": [
        "destination_path = '/content/drive/MyDrive/SaoPauloChapter_Plants-Disease_2023-Aug-02/Task-2-Data Collection & Preprocessing/data/approach_1/01_original_datasets/Rocole/02_original_organized_by_disease/Rust'"
      ],
      "metadata": {
        "id": "LNu1bVBF1QTl"
      },
      "execution_count": null,
      "outputs": []
    },
    {
      "cell_type": "code",
      "source": [
        "rust_images = data.loc[data['Multiclass.Label'].str.contains('rust')]['full_path_to_acess']"
      ],
      "metadata": {
        "id": "kJxw2XHC1ZVe"
      },
      "execution_count": null,
      "outputs": []
    },
    {
      "cell_type": "code",
      "source": [
        "rust_images"
      ],
      "metadata": {
        "colab": {
          "base_uri": "https://localhost:8080/"
        },
        "id": "XkShfXMR1nke",
        "outputId": "1eeee614-35d9-4cce-8bb8-5de31e68dfdf"
      },
      "execution_count": null,
      "outputs": [
        {
          "output_type": "execute_result",
          "data": {
            "text/plain": [
              "1       /content/drive/MyDrive/SaoPauloChapter_Plants-...\n",
              "4       /content/drive/MyDrive/SaoPauloChapter_Plants-...\n",
              "6       /content/drive/MyDrive/SaoPauloChapter_Plants-...\n",
              "7       /content/drive/MyDrive/SaoPauloChapter_Plants-...\n",
              "9       /content/drive/MyDrive/SaoPauloChapter_Plants-...\n",
              "                              ...                        \n",
              "1550    /content/drive/MyDrive/SaoPauloChapter_Plants-...\n",
              "1553    /content/drive/MyDrive/SaoPauloChapter_Plants-...\n",
              "1555    /content/drive/MyDrive/SaoPauloChapter_Plants-...\n",
              "1557    /content/drive/MyDrive/SaoPauloChapter_Plants-...\n",
              "1558    /content/drive/MyDrive/SaoPauloChapter_Plants-...\n",
              "Name: full_path_to_acess, Length: 602, dtype: object"
            ]
          },
          "metadata": {},
          "execution_count": 20
        }
      ]
    },
    {
      "cell_type": "code",
      "source": [
        "rust_images.iloc[0]"
      ],
      "metadata": {
        "colab": {
          "base_uri": "https://localhost:8080/",
          "height": 35
        },
        "id": "MQ6noV-T1ZYx",
        "outputId": "8bdaa514-f544-4592-bdd2-43307a6c4178"
      },
      "execution_count": null,
      "outputs": [
        {
          "output_type": "execute_result",
          "data": {
            "text/plain": [
              "'/content/drive/MyDrive/SaoPauloChapter_Plants-Disease_2023-Aug-02/Task-2-Data Collection & Preprocessing/data/approach_1/01_original_datasets/Rocole/01_original/Photos/C1P2E2.jpg'"
            ],
            "application/vnd.google.colaboratory.intrinsic+json": {
              "type": "string"
            }
          },
          "metadata": {},
          "execution_count": 21
        }
      ]
    },
    {
      "cell_type": "code",
      "source": [
        "for i in range(len(rust_images)):\n",
        "  file_path = rust_images.iloc[i]\n",
        "  shutil.copy(file_path, destination_path)"
      ],
      "metadata": {
        "id": "LFIouOvV1Zcw"
      },
      "execution_count": null,
      "outputs": []
    },
    {
      "cell_type": "markdown",
      "source": [
        "Move organized files"
      ],
      "metadata": {
        "id": "TvRFrRpbeKkf"
      }
    },
    {
      "cell_type": "code",
      "source": [
        "source_path = '/content/drive/MyDrive/SaoPauloChapter_Plants-Disease_2023-Aug-02/Task-2-Data Collection & Preprocessing/data/approach_1/01_original_datasets/Rocole/02_original_organized_by_disease/Rust'\n",
        "\n",
        "#chose a name of path to copy your data\n",
        "destination_path = f'/content/drive/MyDrive/SaoPauloChapter_Plants-Disease_2023-Aug-02/Task-2-Data Collection & Preprocessing/data/approach_1/02_prepared_train_dataset/02_strategy_just_single_leaves/train/Rust'\n",
        "#counting files to check, the process can be slow\n",
        "file_count = sum([len(files) for _, _, files in os.walk(destination_path)])\n",
        "print(f\"Number of files in {destination_path}: {file_count}\")\n",
        "\n",
        "shutil.copytree(source_path, destination_path,dirs_exist_ok=True)\n",
        "\n",
        "#counting files to check, the process can be slow\n",
        "file_count = sum([len(files) for _, _, files in os.walk(destination_path)])\n",
        "print(f\"Number of files in {destination_path}: {file_count}\")"
      ],
      "metadata": {
        "colab": {
          "base_uri": "https://localhost:8080/"
        },
        "id": "acNuCkUyleQ9",
        "outputId": "1a6e9a5a-3046-478c-e57f-4c0729a1cdbd"
      },
      "execution_count": null,
      "outputs": [
        {
          "output_type": "stream",
          "name": "stdout",
          "text": [
            "Number of files in /content/drive/MyDrive/SaoPauloChapter_Plants-Disease_2023-Aug-02/Task-2-Data Collection & Preprocessing/data/approach_1/02_prepared_train_dataset/02_strategy_just_single_leaves/train/Rust: 720\n",
            "Number of files in /content/drive/MyDrive/SaoPauloChapter_Plants-Disease_2023-Aug-02/Task-2-Data Collection & Preprocessing/data/approach_1/02_prepared_train_dataset/02_strategy_just_single_leaves/train/Rust: 1322\n"
          ]
        }
      ]
    },
    {
      "cell_type": "markdown",
      "source": [
        "#### Rust and Leaf Minner in coffe"
      ],
      "metadata": {
        "id": "A_JdNkzRsk0g"
      }
    },
    {
      "cell_type": "code",
      "source": [
        "path = '/content/drive/MyDrive/SaoPauloChapter_Plants-Disease_2023-Aug-02/Task-2-Data Collection & Preprocessing/data/approach_1/01_original_datasets/Rust and Leaf Miner in coffee/02_original_organized_by_disease'\n",
        "folders = [f for f in os.listdir(path) if os.path.isdir(os.path.join(path, f))]\n",
        "folders"
      ],
      "metadata": {
        "colab": {
          "base_uri": "https://localhost:8080/"
        },
        "id": "zeHWxiEYjriD",
        "outputId": "2171e2f9-832e-4cab-b615-50769caa59e3"
      },
      "execution_count": null,
      "outputs": [
        {
          "output_type": "execute_result",
          "data": {
            "text/plain": [
              "['Miner', 'Rust']"
            ]
          },
          "metadata": {},
          "execution_count": 25
        }
      ]
    },
    {
      "cell_type": "code",
      "source": [
        "print('Total files in test set')\n",
        "for folder in folders:\n",
        "  #counting files to check, the process can be slow\n",
        "  file_count = sum([len(files) for _, _, files in os.walk(path + \"/\" +folder)])\n",
        "  print(f\"{folder}: {file_count}\")"
      ],
      "metadata": {
        "colab": {
          "base_uri": "https://localhost:8080/"
        },
        "id": "xN6Np3pojtvA",
        "outputId": "f99c4bea-b3aa-4b86-82cd-cfce11002a88"
      },
      "execution_count": null,
      "outputs": [
        {
          "output_type": "stream",
          "name": "stdout",
          "text": [
            "Total files in test set\n",
            "Miner: 257\n",
            "Rust: 285\n"
          ]
        }
      ]
    },
    {
      "cell_type": "code",
      "source": [
        "source_path = '/content/drive/MyDrive/SaoPauloChapter_Plants-Disease_2023-Aug-02/Task-2-Data Collection & Preprocessing/data/approach_1/01_raw_datasets/Rust and Leaf Miner in coffee/rust_xml_image'\n",
        "destination_path = '/content/drive/MyDrive/SaoPauloChapter_Plants-Disease_2023-Aug-02/Task-2-Data Collection & Preprocessing/data/approach_1/01_raw_datasets/Rust and Leaf Miner in coffee/Rust'\n",
        "\n",
        "# Certifique-se de que a pasta de destino existe\n",
        "if not os.path.exists(destination_path):\n",
        "    os.makedirs(destination_path)\n",
        "\n",
        "# Iterar através dos arquivos na pasta de origem\n",
        "for filename in os.listdir(source_path):\n",
        "    if filename.endswith('.jpg'): # Verificar se o arquivo tem a extensão .jpg\n",
        "        file_path = os.path.join(source_path, filename)\n",
        "        destination_file_path = os.path.join(destination_path, filename)\n",
        "        shutil.copy2(file_path, destination_file_path) # Copiar o arquivo .jpg para a pasta de destino"
      ],
      "metadata": {
        "id": "DjONhkBpxvJW"
      },
      "execution_count": null,
      "outputs": []
    },
    {
      "cell_type": "code",
      "source": [
        "source_path = '/content/drive/MyDrive/SaoPauloChapter_Plants-Disease_2023-Aug-02/Task-2-Data Collection & Preprocessing/data/approach_1/01_original_datasets/Rust and Leaf Miner in coffee/02_original_organized_by_disease/Rust'\n",
        "\n",
        "#chose a name of path to copy your data\n",
        "destination_path = f'/content/drive/MyDrive/SaoPauloChapter_Plants-Disease_2023-Aug-02/Task-2-Data Collection & Preprocessing/data/approach_1/02_prepared_train_dataset/000_test_and_val_dataset_resampled/Rust'\n",
        "#counting files to check, the process can be slow\n",
        "file_count = sum([len(files) for _, _, files in os.walk(destination_path)])\n",
        "print(f\"Number of files in {destination_path}: {file_count}\")\n",
        "\n",
        "shutil.copytree(source_path, destination_path,dirs_exist_ok=True)\n",
        "\n",
        "#counting files to check, the process can be slow\n",
        "file_count = sum([len(files) for _, _, files in os.walk(destination_path)])\n",
        "print(f\"Number of files in {destination_path}: {file_count}\")"
      ],
      "metadata": {
        "colab": {
          "base_uri": "https://localhost:8080/"
        },
        "id": "feZF_69clxiZ",
        "outputId": "326c54fa-8553-4ebd-ca2d-a6e0ec9d2c31"
      },
      "execution_count": null,
      "outputs": [
        {
          "output_type": "stream",
          "name": "stdout",
          "text": [
            "Number of files in /content/drive/MyDrive/SaoPauloChapter_Plants-Disease_2023-Aug-02/Task-2-Data Collection & Preprocessing/data/approach_1/02_prepared_train_dataset/000_test_and_val_dataset_resampled/Rust: 0\n",
            "Number of files in /content/drive/MyDrive/SaoPauloChapter_Plants-Disease_2023-Aug-02/Task-2-Data Collection & Preprocessing/data/approach_1/02_prepared_train_dataset/000_test_and_val_dataset_resampled/Rust: 285\n"
          ]
        }
      ]
    },
    {
      "cell_type": "code",
      "source": [
        "source_path = '/content/drive/MyDrive/SaoPauloChapter_Plants-Disease_2023-Aug-02/Task-2-Data Collection & Preprocessing/data/approach_1/01_raw_datasets/Rust and Leaf Miner in coffee/miner_img_xml'\n",
        "destination_path = '/content/drive/MyDrive/SaoPauloChapter_Plants-Disease_2023-Aug-02/Task-2-Data Collection & Preprocessing/data/approach_1/01_raw_datasets/Rust and Leaf Miner in coffee/Miner'\n",
        "\n",
        "# Certifique-se de que a pasta de destino existe\n",
        "if not os.path.exists(destination_path):\n",
        "    os.makedirs(destination_path)\n",
        "\n",
        "# Iterar através dos arquivos na pasta de origem\n",
        "for filename in os.listdir(source_path):\n",
        "    if filename.endswith('.jpg'): # Verificar se o arquivo tem a extensão .jpg\n",
        "        file_path = os.path.join(source_path, filename)\n",
        "        destination_file_path = os.path.join(destination_path, filename)\n",
        "        shutil.copy2(file_path, destination_file_path) # Copiar o arquivo .jpg para a pasta de destino"
      ],
      "metadata": {
        "id": "Z2U_1VzqsaT0"
      },
      "execution_count": null,
      "outputs": []
    },
    {
      "cell_type": "code",
      "source": [
        "source_path = '/content/drive/MyDrive/SaoPauloChapter_Plants-Disease_2023-Aug-02/Task-2-Data Collection & Preprocessing/data/approach_1/01_original_datasets/Rust and Leaf Miner in coffee/02_original_organized_by_disease/Miner'\n",
        "\n",
        "#chose a name of path to copy your data\n",
        "destination_path = f'/content/drive/MyDrive/SaoPauloChapter_Plants-Disease_2023-Aug-02/Task-2-Data Collection & Preprocessing/data/approach_1/02_prepared_train_dataset/000_test_and_val_dataset_resampled/Miner'\n",
        "#counting files to check, the process can be slow\n",
        "file_count = sum([len(files) for _, _, files in os.walk(destination_path)])\n",
        "print(f\"Number of files in {destination_path}: {file_count}\")\n",
        "\n",
        "shutil.copytree(source_path, destination_path,dirs_exist_ok=True)\n",
        "\n",
        "#counting files to check, the process can be slow\n",
        "file_count = sum([len(files) for _, _, files in os.walk(destination_path)])\n",
        "print(f\"Number of files in {destination_path}: {file_count}\")"
      ],
      "metadata": {
        "colab": {
          "base_uri": "https://localhost:8080/"
        },
        "id": "ABlVK9nKmNuU",
        "outputId": "b8a40d1c-3b11-4494-8991-6665a5a3b1c4"
      },
      "execution_count": null,
      "outputs": [
        {
          "output_type": "stream",
          "name": "stdout",
          "text": [
            "Number of files in /content/drive/MyDrive/SaoPauloChapter_Plants-Disease_2023-Aug-02/Task-2-Data Collection & Preprocessing/data/approach_1/02_prepared_train_dataset/000_test_and_val_dataset_resampled/Miner: 0\n",
            "Number of files in /content/drive/MyDrive/SaoPauloChapter_Plants-Disease_2023-Aug-02/Task-2-Data Collection & Preprocessing/data/approach_1/02_prepared_train_dataset/000_test_and_val_dataset_resampled/Miner: 257\n"
          ]
        }
      ]
    },
    {
      "cell_type": "markdown",
      "source": [
        "#### doenças computer vision dataset"
      ],
      "metadata": {
        "id": "Zor2TDyasb_T"
      }
    },
    {
      "cell_type": "code",
      "source": [
        "path = '/content/drive/MyDrive/SaoPauloChapter_Plants-Disease_2023-Aug-02/Task-2-Data Collection & Preprocessing/data/approach_1/01_original_datasets/Doencas_Computer_Vision_Project/02_original_organized_by_disease_name'\n",
        "folders = [f for f in os.listdir(path) if os.path.isdir(os.path.join(path, f))]\n",
        "folders"
      ],
      "metadata": {
        "colab": {
          "base_uri": "https://localhost:8080/"
        },
        "id": "91xOOHpqj3CC",
        "outputId": "bdfcafae-f1f1-4543-965e-ec6bec26f996"
      },
      "execution_count": null,
      "outputs": [
        {
          "output_type": "execute_result",
          "data": {
            "text/plain": [
              "['Rust', 'Phoma', 'Miner', 'Cescospora']"
            ]
          },
          "metadata": {},
          "execution_count": 28
        }
      ]
    },
    {
      "cell_type": "code",
      "source": [
        "print('Total files in test set')\n",
        "for folder in folders:\n",
        "  #counting files to check, the process can be slow\n",
        "  file_count = sum([len(files) for _, _, files in os.walk(path + \"/\" +folder)])\n",
        "  print(f\"{folder}: {file_count}\")"
      ],
      "metadata": {
        "colab": {
          "base_uri": "https://localhost:8080/"
        },
        "id": "DukVJN0pj3cf",
        "outputId": "46d998e8-d61e-48ef-ae22-25a1ccf40a2e"
      },
      "execution_count": null,
      "outputs": [
        {
          "output_type": "stream",
          "name": "stdout",
          "text": [
            "Total files in test set\n",
            "Rust: 636\n",
            "Phoma: 107\n",
            "Miner: 112\n",
            "Cescospora: 24\n"
          ]
        }
      ]
    },
    {
      "cell_type": "code",
      "source": [
        "source_path = '/content/drive/MyDrive/SaoPauloChapter_Plants-Disease_2023-Aug-02/Task-2-Data Collection & Preprocessing/data/approach_1/01_original_datasets/Doencas_Computer_Vision_Project/02_original_organized_by_disease_name/Cescospora'\n",
        "\n",
        "#chose a name of path to copy your data\n",
        "destination_path = f'/content/drive/MyDrive/SaoPauloChapter_Plants-Disease_2023-Aug-02/Task-2-Data Collection & Preprocessing/data/approach_1/02_prepared_train_dataset/000_test_and_val_dataset_resampled/Cescospora'\n",
        "#counting files to check, the process can be slow\n",
        "file_count = sum([len(files) for _, _, files in os.walk(destination_path)])\n",
        "print(f\"Number of files in {destination_path}: {file_count}\")\n",
        "\n",
        "shutil.copytree(source_path, destination_path,dirs_exist_ok=True)\n",
        "\n",
        "#counting files to check, the process can be slow\n",
        "file_count = sum([len(files) for _, _, files in os.walk(destination_path)])\n",
        "print(f\"Number of files in {destination_path}: {file_count}\")"
      ],
      "metadata": {
        "colab": {
          "base_uri": "https://localhost:8080/"
        },
        "id": "MCq5eCvkmaUJ",
        "outputId": "f30b5ea9-59a3-46c2-c3c1-e5ff89cebf27"
      },
      "execution_count": null,
      "outputs": [
        {
          "output_type": "stream",
          "name": "stdout",
          "text": [
            "Number of files in /content/drive/MyDrive/SaoPauloChapter_Plants-Disease_2023-Aug-02/Task-2-Data Collection & Preprocessing/data/approach_1/02_prepared_train_dataset/000_test_and_val_dataset_resampled/Cescospora: 0\n",
            "Number of files in /content/drive/MyDrive/SaoPauloChapter_Plants-Disease_2023-Aug-02/Task-2-Data Collection & Preprocessing/data/approach_1/02_prepared_train_dataset/000_test_and_val_dataset_resampled/Cescospora: 24\n"
          ]
        }
      ]
    },
    {
      "cell_type": "code",
      "source": [
        "source_path = '/content/drive/MyDrive/SaoPauloChapter_Plants-Disease_2023-Aug-02/Task-2-Data Collection & Preprocessing/data/approach_1/01_original_datasets/Doencas_Computer_Vision_Project/02_original_organized_by_disease_name/Miner'\n",
        "\n",
        "#chose a name of path to copy your data\n",
        "destination_path = f'/content/drive/MyDrive/SaoPauloChapter_Plants-Disease_2023-Aug-02/Task-2-Data Collection & Preprocessing/data/approach_1/02_prepared_train_dataset/000_test_and_val_dataset_resampled/Miner'\n",
        "#counting files to check, the process can be slow\n",
        "file_count = sum([len(files) for _, _, files in os.walk(destination_path)])\n",
        "print(f\"Number of files in {destination_path}: {file_count}\")\n",
        "\n",
        "shutil.copytree(source_path, destination_path,dirs_exist_ok=True)\n",
        "\n",
        "#counting files to check, the process can be slow\n",
        "file_count = sum([len(files) for _, _, files in os.walk(destination_path)])\n",
        "print(f\"Number of files in {destination_path}: {file_count}\")"
      ],
      "metadata": {
        "colab": {
          "base_uri": "https://localhost:8080/"
        },
        "id": "PaFVeQ9Cm4Iw",
        "outputId": "bee157b6-71a6-452f-f61f-8baa0ff588e3"
      },
      "execution_count": null,
      "outputs": [
        {
          "output_type": "stream",
          "name": "stdout",
          "text": [
            "Number of files in /content/drive/MyDrive/SaoPauloChapter_Plants-Disease_2023-Aug-02/Task-2-Data Collection & Preprocessing/data/approach_1/02_prepared_train_dataset/000_test_and_val_dataset_resampled/Miner: 257\n",
            "Number of files in /content/drive/MyDrive/SaoPauloChapter_Plants-Disease_2023-Aug-02/Task-2-Data Collection & Preprocessing/data/approach_1/02_prepared_train_dataset/000_test_and_val_dataset_resampled/Miner: 369\n"
          ]
        }
      ]
    },
    {
      "cell_type": "code",
      "source": [
        "source_path = '/content/drive/MyDrive/SaoPauloChapter_Plants-Disease_2023-Aug-02/Task-2-Data Collection & Preprocessing/data/approach_1/01_original_datasets/Doencas_Computer_Vision_Project/02_original_organized_by_disease_name/Phoma'\n",
        "\n",
        "#chose a name of path to copy your data\n",
        "destination_path = f'/content/drive/MyDrive/SaoPauloChapter_Plants-Disease_2023-Aug-02/Task-2-Data Collection & Preprocessing/data/approach_1/02_prepared_train_dataset/000_test_and_val_dataset_resampled/Phoma'\n",
        "#counting files to check, the process can be slow\n",
        "file_count = sum([len(files) for _, _, files in os.walk(destination_path)])\n",
        "print(f\"Number of files in {destination_path}: {file_count}\")\n",
        "\n",
        "shutil.copytree(source_path, destination_path,dirs_exist_ok=True)\n",
        "\n",
        "#counting files to check, the process can be slow\n",
        "file_count = sum([len(files) for _, _, files in os.walk(destination_path)])\n",
        "print(f\"Number of files in {destination_path}: {file_count}\")"
      ],
      "metadata": {
        "colab": {
          "base_uri": "https://localhost:8080/"
        },
        "id": "3URGJepSnAii",
        "outputId": "a68856f1-68b4-48e8-e9ed-f2c97f5dac76"
      },
      "execution_count": null,
      "outputs": [
        {
          "output_type": "stream",
          "name": "stdout",
          "text": [
            "Number of files in /content/drive/MyDrive/SaoPauloChapter_Plants-Disease_2023-Aug-02/Task-2-Data Collection & Preprocessing/data/approach_1/02_prepared_train_dataset/000_test_and_val_dataset_resampled/Phoma: 0\n",
            "Number of files in /content/drive/MyDrive/SaoPauloChapter_Plants-Disease_2023-Aug-02/Task-2-Data Collection & Preprocessing/data/approach_1/02_prepared_train_dataset/000_test_and_val_dataset_resampled/Phoma: 107\n"
          ]
        }
      ]
    },
    {
      "cell_type": "code",
      "source": [
        "source_path = '/content/drive/MyDrive/SaoPauloChapter_Plants-Disease_2023-Aug-02/Task-2-Data Collection & Preprocessing/data/approach_1/01_original_datasets/Doencas_Computer_Vision_Project/02_original_organized_by_disease_name/Rust'\n",
        "\n",
        "#chose a name of path to copy your data\n",
        "destination_path = f'/content/drive/MyDrive/SaoPauloChapter_Plants-Disease_2023-Aug-02/Task-2-Data Collection & Preprocessing/data/approach_1/02_prepared_train_dataset/000_test_and_val_dataset_resampled/Rust'\n",
        "#counting files to check, the process can be slow\n",
        "file_count = sum([len(files) for _, _, files in os.walk(destination_path)])\n",
        "print(f\"Number of files in {destination_path}: {file_count}\")\n",
        "\n",
        "shutil.copytree(source_path, destination_path,dirs_exist_ok=True)\n",
        "\n",
        "#counting files to check, the process can be slow\n",
        "file_count = sum([len(files) for _, _, files in os.walk(destination_path)])\n",
        "print(f\"Number of files in {destination_path}: {file_count}\")"
      ],
      "metadata": {
        "id": "8HeZoW5_n1of",
        "colab": {
          "base_uri": "https://localhost:8080/"
        },
        "outputId": "3e963b35-339c-423b-e562-1d511494bfbd"
      },
      "execution_count": null,
      "outputs": [
        {
          "output_type": "stream",
          "name": "stdout",
          "text": [
            "Number of files in /content/drive/MyDrive/SaoPauloChapter_Plants-Disease_2023-Aug-02/Task-2-Data Collection & Preprocessing/data/approach_1/02_prepared_train_dataset/000_test_and_val_dataset_resampled/Rust: 285\n",
            "Number of files in /content/drive/MyDrive/SaoPauloChapter_Plants-Disease_2023-Aug-02/Task-2-Data Collection & Preprocessing/data/approach_1/02_prepared_train_dataset/000_test_and_val_dataset_resampled/Rust: 921\n"
          ]
        }
      ]
    },
    {
      "cell_type": "code",
      "source": [],
      "metadata": {
        "id": "bqn4xah5fzL7"
      },
      "execution_count": null,
      "outputs": []
    }
  ]
}