{
  "cells": [
    {
      "cell_type": "code",
      "execution_count": 1,
      "metadata": {
        "id": "tdwODCdfTenr"
      },
      "outputs": [],
      "source": [
        "import os\n",
        "import cv2 # OpenCV ou cv2 para tratamento de imagens;\n",
        "import numpy as np # Numpy para trabalharmos com matrizes n-dimensionais\n",
        "from keras.models import Sequential # Importando modelo sequencial\n",
        "from keras.layers.convolutional import Conv2D, MaxPooling2D # Camada de convolução e max pooling\n",
        "from keras.layers.core import Activation, Flatten, Dense # Camada da função de ativação, flatten, entre outros\n",
        "from keras.layers import Rescaling # Camada de escalonamento\n",
        "from keras.optimizers import Adam # optimizador Adam\n",
        "from keras.callbacks import ModelCheckpoint # Classe utilizada para acompanhamento durante o treinamento onde definimos os atributos que serão considerados para avaliação\n",
        "from tensorflow.data import AUTOTUNE\n",
        "from tensorflow.keras.utils import image_dataset_from_directory # Função que carrega o dataset de um diretório\n",
        "from tensorflow.keras import layers\n",
        "from tensorflow.keras.callbacks import EarlyStopping\n",
        "\n",
        "\n"
      ]
    },
    {
      "cell_type": "code",
      "execution_count": 3,
      "metadata": {
        "id": "bxWtMUeGgD2p"
      },
      "outputs": [],
      "source": [
        "def create_lenet(input_shape):\n",
        "\n",
        "    model = Sequential()\n",
        "\n",
        "    # Primeira camada do modelo:\n",
        "    model.add(Conv2D(20, (5, 5), padding=\"same\", input_shape=input_shape))\n",
        "    model.add(Activation(\"relu\"))\n",
        "    model.add(MaxPooling2D(pool_size=(2, 2), strides=(2, 2)))\n",
        "    model.add(layers.Dropout(0.2))\n",
        "\n",
        "    # Segunda camada do modelo:\n",
        "    model.add(Conv2D(70, (5, 5), padding=\"same\"))\n",
        "    model.add(Activation(\"relu\"))\n",
        "    model.add(MaxPooling2D(pool_size=(2, 2), strides=(2, 2)))\n",
        "    model.add(layers.Dropout(0.2))\n",
        "\n",
        "    # Primeira camada fully connected\n",
        "    model.add(Flatten())\n",
        "    model.add(Dense(500))\n",
        "    model.add(Activation(\"relu\"))\n",
        "\n",
        "    # Classificador softmax\n",
        "    model.add(Dense(classes))\n",
        "    model.add(Activation(\"softmax\"))\n",
        "    return model"
      ]
    },
    {
      "cell_type": "code",
      "execution_count": 26,
      "metadata": {
        "colab": {
          "base_uri": "https://localhost:8080/"
        },
        "id": "0RKXz_hEWGEr",
        "outputId": "d25bc6a7-981b-4666-dc2a-c81a9cc4af8b"
      },
      "outputs": [
        {
          "name": "stdout",
          "output_type": "stream",
          "text": [
            "Found 35749 files belonging to 5 classes.\n",
            "Using 28600 files for training.\n",
            "Found 35749 files belonging to 5 classes.\n",
            "Using 7149 files for validation.\n",
            "Model: \"sequential_4\"\n",
            "_________________________________________________________________\n",
            " Layer (type)                Output Shape              Param #   \n",
            "=================================================================\n",
            " conv2d_8 (Conv2D)           (None, 100, 100, 20)      1520      \n",
            "                                                                 \n",
            " activation_16 (Activation)  (None, 100, 100, 20)      0         \n",
            "                                                                 \n",
            " max_pooling2d_8 (MaxPooling  (None, 50, 50, 20)       0         \n",
            " 2D)                                                             \n",
            "                                                                 \n",
            " dropout_8 (Dropout)         (None, 50, 50, 20)        0         \n",
            "                                                                 \n",
            " conv2d_9 (Conv2D)           (None, 50, 50, 70)        35070     \n",
            "                                                                 \n",
            " activation_17 (Activation)  (None, 50, 50, 70)        0         \n",
            "                                                                 \n",
            " max_pooling2d_9 (MaxPooling  (None, 25, 25, 70)       0         \n",
            " 2D)                                                             \n",
            "                                                                 \n",
            " dropout_9 (Dropout)         (None, 25, 25, 70)        0         \n",
            "                                                                 \n",
            " flatten_4 (Flatten)         (None, 43750)             0         \n",
            "                                                                 \n",
            " dense_8 (Dense)             (None, 500)               21875500  \n",
            "                                                                 \n",
            " activation_18 (Activation)  (None, 500)               0         \n",
            "                                                                 \n",
            " dense_9 (Dense)             (None, 5)                 2505      \n",
            "                                                                 \n",
            " activation_19 (Activation)  (None, 5)                 0         \n",
            "                                                                 \n",
            "=================================================================\n",
            "Total params: 21,914,595\n",
            "Trainable params: 21,914,595\n",
            "Non-trainable params: 0\n",
            "_________________________________________________________________\n",
            "\n",
            " training network\n"
          ]
        },
        {
          "name": "stderr",
          "output_type": "stream",
          "text": [
            "c:\\Users\\vandr\\AppData\\Local\\Programs\\Python\\Python38\\lib\\site-packages\\keras\\optimizers\\optimizer_v2\\adam.py:117: UserWarning: The `lr` argument is deprecated, use `learning_rate` instead.\n",
            "  super().__init__(name, **kwargs)\n"
          ]
        }
      ],
      "source": [
        "if __name__ == \"__main__\":\n",
        "    train_path = \"D:\\projetos\\omdena\\Machine_Learning_Projects\\plant-diseases\\ds_train\" \n",
        "    models_path = \"models\" \n",
        "    width = 100 \n",
        "    height = 100 \n",
        "    depth = 3 \n",
        "    classes = 5\n",
        "    epochs = 20 \n",
        "    init_lr = 1e-3 \n",
        "    batch_size = 60 \n",
        "    input_shape = (height, width, depth) \n",
        "    save_model = os.path.join(models_path, \"lenet-{epoch:02d}-{accuracy:.3f}-{val_accuracy:.3f}.model\")\n",
        "    color_mode = {1:\"grayscale\", 3: \"rgb\"} \n",
        "\n",
        "    os.makedirs(models_path, exist_ok=True)\n",
        "\n",
        "    train_ds = image_dataset_from_directory(\n",
        "                            train_path,\n",
        "                            seed=123,\n",
        "                            label_mode='categorical',\n",
        "                            validation_split=0.2,\n",
        "                            subset=\"training\",\n",
        "                            color_mode=color_mode[depth],\n",
        "                            image_size=(height, width),\n",
        "                            batch_size=batch_size\n",
        "    )\n",
        "\n",
        "    val_ds = image_dataset_from_directory(\n",
        "                            train_path,\n",
        "                            seed=123,\n",
        "                            label_mode='categorical',\n",
        "                            validation_split=0.2,\n",
        "                            subset=\"validation\",\n",
        "                            color_mode=color_mode[depth],\n",
        "                            image_size=(height, width),\n",
        "                            batch_size=batch_size\n",
        "    )\n",
        "\n",
        "    rescaling_layer = Rescaling(1./255)\n",
        "    # pré-busca em buffer para que você possa produzir dados do disco sem que a E/S se torne um bloqueio\n",
        "    train_ds = train_ds.map(lambda x, y: (rescaling_layer(x), y), num_parallel_calls=AUTOTUNE)\n",
        "    val_ds = val_ds.map(lambda x, y: (rescaling_layer(x), y), num_parallel_calls=AUTOTUNE)\n",
        "\n",
        "    model = create_lenet(input_shape)\n",
        "\n",
        "    opt = Adam(lr=init_lr)\n",
        "\n",
        "    model.compile(loss=\"categorical_crossentropy\", optimizer=opt, metrics=[\"accuracy\"])\n",
        "    model.summary()\n",
        "\n",
        "    print(\"\\n training network\")\n",
        "\n",
        "\n"
      ]
    },
    {
      "cell_type": "code",
      "execution_count": 15,
      "metadata": {
        "id": "94lmA6CfgIn6"
      },
      "outputs": [],
      "source": [
        "\n",
        "checkpoint1 = ModelCheckpoint(save_model, monitor='val_loss', verbose=1, save_best_only=True, mode='min')\n",
        "checkpoint2 = ModelCheckpoint(save_model, monitor='val_accuracy', verbose=1, save_best_only=True, mode='max')\n",
        "\n",
        "\n",
        "callbacks_list = [checkpoint1,checkpoint2]\n",
        "\n",
        "\n",
        "\n"
      ]
    },
    {
      "cell_type": "code",
      "execution_count": 16,
      "metadata": {
        "colab": {
          "base_uri": "https://localhost:8080/"
        },
        "id": "GpL3vZisgKh4",
        "outputId": "1d9b971d-57dc-4cae-c619-1a1165789157"
      },
      "outputs": [
        {
          "name": "stdout",
          "output_type": "stream",
          "text": [
            "Epoch 1/20\n"
          ]
        },
        {
          "name": "stdout",
          "output_type": "stream",
          "text": [
            "477/477 [==============================] - ETA: 0s - loss: 0.5500 - accuracy: 0.8178\n",
            "Epoch 1: val_loss improved from inf to 0.23164, saving model to models\\lenet-01-0.818-0.915.model\n"
          ]
        },
        {
          "name": "stderr",
          "output_type": "stream",
          "text": [
            "WARNING:absl:Found untraced functions such as _jit_compiled_convolution_op, _jit_compiled_convolution_op while saving (showing 2 of 2). These functions will not be directly callable after loading.\n"
          ]
        },
        {
          "name": "stdout",
          "output_type": "stream",
          "text": [
            "INFO:tensorflow:Assets written to: models\\lenet-01-0.818-0.915.model\\assets\n"
          ]
        },
        {
          "name": "stderr",
          "output_type": "stream",
          "text": [
            "INFO:tensorflow:Assets written to: models\\lenet-01-0.818-0.915.model\\assets\n"
          ]
        },
        {
          "name": "stdout",
          "output_type": "stream",
          "text": [
            "\n",
            "Epoch 1: val_accuracy improved from -inf to 0.91523, saving model to models\\lenet-01-0.818-0.915.model\n"
          ]
        },
        {
          "name": "stderr",
          "output_type": "stream",
          "text": [
            "WARNING:absl:Found untraced functions such as _jit_compiled_convolution_op, _jit_compiled_convolution_op while saving (showing 2 of 2). These functions will not be directly callable after loading.\n"
          ]
        },
        {
          "name": "stdout",
          "output_type": "stream",
          "text": [
            "INFO:tensorflow:Assets written to: models\\lenet-01-0.818-0.915.model\\assets\n"
          ]
        },
        {
          "name": "stderr",
          "output_type": "stream",
          "text": [
            "INFO:tensorflow:Assets written to: models\\lenet-01-0.818-0.915.model\\assets\n"
          ]
        },
        {
          "name": "stdout",
          "output_type": "stream",
          "text": [
            "477/477 [==============================] - 178s 371ms/step - loss: 0.5500 - accuracy: 0.8178 - val_loss: 0.2316 - val_accuracy: 0.9152\n",
            "Epoch 2/20\n",
            "477/477 [==============================] - ETA: 0s - loss: 0.2098 - accuracy: 0.9192\n",
            "Epoch 2: val_loss improved from 0.23164 to 0.20046, saving model to models\\lenet-02-0.919-0.916.model\n"
          ]
        },
        {
          "name": "stderr",
          "output_type": "stream",
          "text": [
            "WARNING:absl:Found untraced functions such as _jit_compiled_convolution_op, _jit_compiled_convolution_op while saving (showing 2 of 2). These functions will not be directly callable after loading.\n"
          ]
        },
        {
          "name": "stdout",
          "output_type": "stream",
          "text": [
            "INFO:tensorflow:Assets written to: models\\lenet-02-0.919-0.916.model\\assets\n"
          ]
        },
        {
          "name": "stderr",
          "output_type": "stream",
          "text": [
            "INFO:tensorflow:Assets written to: models\\lenet-02-0.919-0.916.model\\assets\n"
          ]
        },
        {
          "name": "stdout",
          "output_type": "stream",
          "text": [
            "\n",
            "Epoch 2: val_accuracy improved from 0.91523 to 0.91565, saving model to models\\lenet-02-0.919-0.916.model\n"
          ]
        },
        {
          "name": "stderr",
          "output_type": "stream",
          "text": [
            "WARNING:absl:Found untraced functions such as _jit_compiled_convolution_op, _jit_compiled_convolution_op while saving (showing 2 of 2). These functions will not be directly callable after loading.\n"
          ]
        },
        {
          "name": "stdout",
          "output_type": "stream",
          "text": [
            "INFO:tensorflow:Assets written to: models\\lenet-02-0.919-0.916.model\\assets\n"
          ]
        },
        {
          "name": "stderr",
          "output_type": "stream",
          "text": [
            "INFO:tensorflow:Assets written to: models\\lenet-02-0.919-0.916.model\\assets\n"
          ]
        },
        {
          "name": "stdout",
          "output_type": "stream",
          "text": [
            "477/477 [==============================] - 179s 374ms/step - loss: 0.2098 - accuracy: 0.9192 - val_loss: 0.2005 - val_accuracy: 0.9157\n",
            "Epoch 3/20\n",
            "477/477 [==============================] - ETA: 0s - loss: 0.1593 - accuracy: 0.9378\n",
            "Epoch 3: val_loss did not improve from 0.20046\n",
            "\n",
            "Epoch 3: val_accuracy improved from 0.91565 to 0.91901, saving model to models\\lenet-03-0.938-0.919.model\n"
          ]
        },
        {
          "name": "stderr",
          "output_type": "stream",
          "text": [
            "WARNING:absl:Found untraced functions such as _jit_compiled_convolution_op, _jit_compiled_convolution_op while saving (showing 2 of 2). These functions will not be directly callable after loading.\n"
          ]
        },
        {
          "name": "stdout",
          "output_type": "stream",
          "text": [
            "INFO:tensorflow:Assets written to: models\\lenet-03-0.938-0.919.model\\assets\n"
          ]
        },
        {
          "name": "stderr",
          "output_type": "stream",
          "text": [
            "INFO:tensorflow:Assets written to: models\\lenet-03-0.938-0.919.model\\assets\n"
          ]
        },
        {
          "name": "stdout",
          "output_type": "stream",
          "text": [
            "477/477 [==============================] - 175s 367ms/step - loss: 0.1593 - accuracy: 0.9378 - val_loss: 0.2019 - val_accuracy: 0.9190\n",
            "Epoch 4/20\n",
            "477/477 [==============================] - ETA: 0s - loss: 0.1183 - accuracy: 0.9533\n",
            "Epoch 4: val_loss did not improve from 0.20046\n",
            "\n",
            "Epoch 4: val_accuracy improved from 0.91901 to 0.92670, saving model to models\\lenet-04-0.953-0.927.model\n"
          ]
        },
        {
          "name": "stderr",
          "output_type": "stream",
          "text": [
            "WARNING:absl:Found untraced functions such as _jit_compiled_convolution_op, _jit_compiled_convolution_op while saving (showing 2 of 2). These functions will not be directly callable after loading.\n"
          ]
        },
        {
          "name": "stdout",
          "output_type": "stream",
          "text": [
            "INFO:tensorflow:Assets written to: models\\lenet-04-0.953-0.927.model\\assets\n"
          ]
        },
        {
          "name": "stderr",
          "output_type": "stream",
          "text": [
            "INFO:tensorflow:Assets written to: models\\lenet-04-0.953-0.927.model\\assets\n"
          ]
        },
        {
          "name": "stdout",
          "output_type": "stream",
          "text": [
            "477/477 [==============================] - 174s 365ms/step - loss: 0.1183 - accuracy: 0.9533 - val_loss: 0.2087 - val_accuracy: 0.9267\n",
            "Epoch 5/20\n",
            "477/477 [==============================] - ETA: 0s - loss: 0.0966 - accuracy: 0.9629\n",
            "Epoch 5: val_loss did not improve from 0.20046\n",
            "\n",
            "Epoch 5: val_accuracy did not improve from 0.92670\n",
            "477/477 [==============================] - 170s 356ms/step - loss: 0.0966 - accuracy: 0.9629 - val_loss: 0.3135 - val_accuracy: 0.9222\n",
            "Epoch 6/20\n",
            "477/477 [==============================] - ETA: 0s - loss: 0.0805 - accuracy: 0.9703\n",
            "Epoch 6: val_loss did not improve from 0.20046\n",
            "\n",
            "Epoch 6: val_accuracy did not improve from 0.92670\n",
            "477/477 [==============================] - 171s 358ms/step - loss: 0.0805 - accuracy: 0.9703 - val_loss: 0.2510 - val_accuracy: 0.9253\n",
            "Epoch 7/20\n",
            "477/477 [==============================] - ETA: 0s - loss: 0.0639 - accuracy: 0.9776\n",
            "Epoch 7: val_loss did not improve from 0.20046\n",
            "\n",
            "Epoch 7: val_accuracy improved from 0.92670 to 0.92796, saving model to models\\lenet-07-0.978-0.928.model\n"
          ]
        },
        {
          "name": "stderr",
          "output_type": "stream",
          "text": [
            "WARNING:absl:Found untraced functions such as _jit_compiled_convolution_op, _jit_compiled_convolution_op while saving (showing 2 of 2). These functions will not be directly callable after loading.\n"
          ]
        },
        {
          "name": "stdout",
          "output_type": "stream",
          "text": [
            "INFO:tensorflow:Assets written to: models\\lenet-07-0.978-0.928.model\\assets\n"
          ]
        },
        {
          "name": "stderr",
          "output_type": "stream",
          "text": [
            "INFO:tensorflow:Assets written to: models\\lenet-07-0.978-0.928.model\\assets\n"
          ]
        },
        {
          "name": "stdout",
          "output_type": "stream",
          "text": [
            "477/477 [==============================] - 174s 364ms/step - loss: 0.0639 - accuracy: 0.9776 - val_loss: 0.2878 - val_accuracy: 0.9280\n",
            "Epoch 8/20\n",
            "477/477 [==============================] - ETA: 0s - loss: 0.0491 - accuracy: 0.9826\n",
            "Epoch 8: val_loss did not improve from 0.20046\n",
            "\n",
            "Epoch 8: val_accuracy improved from 0.92796 to 0.93076, saving model to models\\lenet-08-0.983-0.931.model\n"
          ]
        },
        {
          "name": "stderr",
          "output_type": "stream",
          "text": [
            "WARNING:absl:Found untraced functions such as _jit_compiled_convolution_op, _jit_compiled_convolution_op while saving (showing 2 of 2). These functions will not be directly callable after loading.\n"
          ]
        },
        {
          "name": "stdout",
          "output_type": "stream",
          "text": [
            "INFO:tensorflow:Assets written to: models\\lenet-08-0.983-0.931.model\\assets\n"
          ]
        },
        {
          "name": "stderr",
          "output_type": "stream",
          "text": [
            "INFO:tensorflow:Assets written to: models\\lenet-08-0.983-0.931.model\\assets\n"
          ]
        },
        {
          "name": "stdout",
          "output_type": "stream",
          "text": [
            "477/477 [==============================] - 174s 364ms/step - loss: 0.0491 - accuracy: 0.9826 - val_loss: 0.2973 - val_accuracy: 0.9308\n",
            "Epoch 9/20\n",
            "477/477 [==============================] - ETA: 0s - loss: 0.0377 - accuracy: 0.9865\n",
            "Epoch 9: val_loss did not improve from 0.20046\n",
            "\n",
            "Epoch 9: val_accuracy did not improve from 0.93076\n",
            "477/477 [==============================] - 169s 353ms/step - loss: 0.0377 - accuracy: 0.9865 - val_loss: 0.3058 - val_accuracy: 0.9301\n",
            "Epoch 10/20\n",
            "477/477 [==============================] - ETA: 0s - loss: 0.0403 - accuracy: 0.9852\n",
            "Epoch 10: val_loss did not improve from 0.20046\n",
            "\n",
            "Epoch 10: val_accuracy did not improve from 0.93076\n",
            "477/477 [==============================] - 169s 353ms/step - loss: 0.0403 - accuracy: 0.9852 - val_loss: 0.3526 - val_accuracy: 0.9284\n",
            "Epoch 11/20\n",
            "477/477 [==============================] - ETA: 0s - loss: 0.0403 - accuracy: 0.9856\n",
            "Epoch 11: val_loss did not improve from 0.20046\n",
            "\n",
            "Epoch 11: val_accuracy improved from 0.93076 to 0.93090, saving model to models\\lenet-11-0.986-0.931.model\n"
          ]
        },
        {
          "name": "stderr",
          "output_type": "stream",
          "text": [
            "WARNING:absl:Found untraced functions such as _jit_compiled_convolution_op, _jit_compiled_convolution_op while saving (showing 2 of 2). These functions will not be directly callable after loading.\n"
          ]
        },
        {
          "name": "stdout",
          "output_type": "stream",
          "text": [
            "INFO:tensorflow:Assets written to: models\\lenet-11-0.986-0.931.model\\assets\n"
          ]
        },
        {
          "name": "stderr",
          "output_type": "stream",
          "text": [
            "INFO:tensorflow:Assets written to: models\\lenet-11-0.986-0.931.model\\assets\n"
          ]
        },
        {
          "name": "stdout",
          "output_type": "stream",
          "text": [
            "477/477 [==============================] - 172s 360ms/step - loss: 0.0403 - accuracy: 0.9856 - val_loss: 0.3790 - val_accuracy: 0.9309\n",
            "Epoch 12/20\n",
            "477/477 [==============================] - ETA: 0s - loss: 0.0310 - accuracy: 0.9894\n",
            "Epoch 12: val_loss did not improve from 0.20046\n",
            "\n",
            "Epoch 12: val_accuracy did not improve from 0.93090\n",
            "477/477 [==============================] - 168s 352ms/step - loss: 0.0310 - accuracy: 0.9894 - val_loss: 0.3762 - val_accuracy: 0.9305\n",
            "Epoch 13/20\n",
            "477/477 [==============================] - ETA: 0s - loss: 0.0243 - accuracy: 0.9915\n",
            "Epoch 13: val_loss did not improve from 0.20046\n",
            "\n",
            "Epoch 13: val_accuracy improved from 0.93090 to 0.93216, saving model to models\\lenet-13-0.991-0.932.model\n"
          ]
        },
        {
          "name": "stderr",
          "output_type": "stream",
          "text": [
            "WARNING:absl:Found untraced functions such as _jit_compiled_convolution_op, _jit_compiled_convolution_op while saving (showing 2 of 2). These functions will not be directly callable after loading.\n"
          ]
        },
        {
          "name": "stdout",
          "output_type": "stream",
          "text": [
            "INFO:tensorflow:Assets written to: models\\lenet-13-0.991-0.932.model\\assets\n"
          ]
        },
        {
          "name": "stderr",
          "output_type": "stream",
          "text": [
            "INFO:tensorflow:Assets written to: models\\lenet-13-0.991-0.932.model\\assets\n"
          ]
        },
        {
          "name": "stdout",
          "output_type": "stream",
          "text": [
            "477/477 [==============================] - 172s 361ms/step - loss: 0.0243 - accuracy: 0.9915 - val_loss: 0.4139 - val_accuracy: 0.9322\n",
            "Epoch 14/20\n",
            "477/477 [==============================] - ETA: 0s - loss: 0.0345 - accuracy: 0.9885\n",
            "Epoch 14: val_loss did not improve from 0.20046\n",
            "\n",
            "Epoch 14: val_accuracy did not improve from 0.93216\n",
            "477/477 [==============================] - 169s 354ms/step - loss: 0.0345 - accuracy: 0.9885 - val_loss: 0.4522 - val_accuracy: 0.9281\n",
            "Epoch 15/20\n",
            "477/477 [==============================] - ETA: 0s - loss: 0.0211 - accuracy: 0.9934\n",
            "Epoch 15: val_loss did not improve from 0.20046\n",
            "\n",
            "Epoch 15: val_accuracy did not improve from 0.93216\n",
            "477/477 [==============================] - 170s 355ms/step - loss: 0.0211 - accuracy: 0.9934 - val_loss: 0.4098 - val_accuracy: 0.9301\n",
            "Epoch 16/20\n",
            "477/477 [==============================] - ETA: 0s - loss: 0.0196 - accuracy: 0.9934\n",
            "Epoch 16: val_loss did not improve from 0.20046\n",
            "\n",
            "Epoch 16: val_accuracy did not improve from 0.93216\n",
            "477/477 [==============================] - 169s 353ms/step - loss: 0.0196 - accuracy: 0.9934 - val_loss: 0.4439 - val_accuracy: 0.9273\n",
            "Epoch 17/20\n",
            "477/477 [==============================] - ETA: 0s - loss: 0.0201 - accuracy: 0.9930\n",
            "Epoch 17: val_loss did not improve from 0.20046\n",
            "\n",
            "Epoch 17: val_accuracy did not improve from 0.93216\n",
            "477/477 [==============================] - 169s 355ms/step - loss: 0.0201 - accuracy: 0.9930 - val_loss: 0.4878 - val_accuracy: 0.9309\n",
            "Epoch 18/20\n",
            "477/477 [==============================] - ETA: 0s - loss: 0.0207 - accuracy: 0.9936\n",
            "Epoch 18: val_loss did not improve from 0.20046\n",
            "\n",
            "Epoch 18: val_accuracy did not improve from 0.93216\n",
            "477/477 [==============================] - 169s 354ms/step - loss: 0.0207 - accuracy: 0.9936 - val_loss: 0.5035 - val_accuracy: 0.9292\n",
            "Epoch 19/20\n",
            "477/477 [==============================] - ETA: 0s - loss: 0.0189 - accuracy: 0.9942\n",
            "Epoch 19: val_loss did not improve from 0.20046\n",
            "\n",
            "Epoch 19: val_accuracy did not improve from 0.93216\n",
            "477/477 [==============================] - 169s 353ms/step - loss: 0.0189 - accuracy: 0.9942 - val_loss: 0.4823 - val_accuracy: 0.9312\n",
            "Epoch 20/20\n",
            "477/477 [==============================] - ETA: 0s - loss: 0.0157 - accuracy: 0.9947\n",
            "Epoch 20: val_loss did not improve from 0.20046\n",
            "\n",
            "Epoch 20: val_accuracy did not improve from 0.93216\n",
            "477/477 [==============================] - 169s 355ms/step - loss: 0.0157 - accuracy: 0.9947 - val_loss: 0.4777 - val_accuracy: 0.9310\n"
          ]
        }
      ],
      "source": [
        "H = model.fit(train_ds,\n",
        "        validation_data=val_ds,\n",
        "        epochs=epochs,\n",
        "        verbose=1,\n",
        "        callbacks=callbacks_list\n",
        ")"
      ]
    },
    {
      "cell_type": "code",
      "execution_count": 17,
      "metadata": {
        "id": "LRWeEMsSOwwR"
      },
      "outputs": [
        {
          "data": {
            "image/png": "[encoded data removed]",
            "text/plain": [
              "<Figure size 1600x400 with 2 Axes>"
            ]
          },
          "metadata": {},
          "output_type": "display_data"
        }
      ],
      "source": [
        "from matplotlib import pyplot as plt\n",
        "def plot_accuracy_and_loss(train_model):\n",
        "    hist = train_model.history\n",
        "    acc = hist['accuracy']\n",
        "    val_acc = hist['val_accuracy']\n",
        "    loss = hist['loss']\n",
        "    val_loss = hist['val_loss']\n",
        "    epochs = range(len(acc))\n",
        "    f, ax = plt.subplots(1,2, figsize=(16,4))\n",
        "    ax[0].plot(epochs, acc, 'g', label='Training accuracy', marker='D', mec='b', ms='3')\n",
        "    ax[0].plot(epochs, val_acc, 'r', label='Validation accuracy', marker='o', mec='yellow', ms='3')\n",
        "    ax[0].set_title('Training and validation accuracy')\n",
        "    ax[0].legend()\n",
        "    ax[1].plot(epochs, loss, 'g', label='Training loss', marker='D', mec='b', ms='3')\n",
        "    ax[1].plot(epochs, val_loss, 'r', label='Validation loss', marker='o', mec='yellow', ms='3')\n",
        "    ax[1].set_title('Training and validation loss')\n",
        "    ax[1].legend()\n",
        "    plt.show()\n",
        "plot_accuracy_and_loss(H)"
      ]
    },
    {
      "cell_type": "code",
      "execution_count": 18,
      "metadata": {
        "id": "s-m9BuK1-vON"
      },
      "outputs": [
        {
          "data": {
            "text/plain": [
              "<keras.callbacks.History at 0x1e3d2223760>"
            ]
          },
          "execution_count": 18,
          "metadata": {},
          "output_type": "execute_result"
        }
      ],
      "source": [
        "H"
      ]
    },
    {
      "cell_type": "code",
      "execution_count": 21,
      "metadata": {
        "id": "i_Z6HnrbIuBj"
      },
      "outputs": [],
      "source": [
        "import pandas as pd\n",
        "csv_file_path = r'D:\\projetos\\omdena\\Machine_Learning_Projects\\plant-diseases\\history_v1.csv'\n",
        "\n",
        "history_dict = H.history\n",
        "\n",
        "# Convertendo o dicionário do histórico em um DataFrame pandas\n",
        "history_df = pd.DataFrame(history_dict)"
      ]
    },
    {
      "cell_type": "code",
      "execution_count": 22,
      "metadata": {},
      "outputs": [
        {
          "data": {
            "text/html": [
              "<div>\n",
              "<style scoped>\n",
              "    .dataframe tbody tr th:only-of-type {\n",
              "        vertical-align: middle;\n",
              "    }\n",
              "\n",
              "    .dataframe tbody tr th {\n",
              "        vertical-align: top;\n",
              "    }\n",
              "\n",
              "    .dataframe thead th {\n",
              "        text-align: right;\n",
              "    }\n",
              "</style>\n",
              "<table border=\"1\" class=\"dataframe\">\n",
              "  <thead>\n",
              "    <tr style=\"text-align: right;\">\n",
              "      <th></th>\n",
              "      <th>loss</th>\n",
              "      <th>accuracy</th>\n",
              "      <th>val_loss</th>\n",
              "      <th>val_accuracy</th>\n",
              "    </tr>\n",
              "  </thead>\n",
              "  <tbody>\n",
              "    <tr>\n",
              "      <th>0</th>\n",
              "      <td>0.549973</td>\n",
              "      <td>0.817797</td>\n",
              "      <td>0.231636</td>\n",
              "      <td>0.915233</td>\n",
              "    </tr>\n",
              "    <tr>\n",
              "      <th>1</th>\n",
              "      <td>0.209811</td>\n",
              "      <td>0.919161</td>\n",
              "      <td>0.200463</td>\n",
              "      <td>0.915653</td>\n",
              "    </tr>\n",
              "    <tr>\n",
              "      <th>2</th>\n",
              "      <td>0.159261</td>\n",
              "      <td>0.937762</td>\n",
              "      <td>0.201940</td>\n",
              "      <td>0.919010</td>\n",
              "    </tr>\n",
              "    <tr>\n",
              "      <th>3</th>\n",
              "      <td>0.118346</td>\n",
              "      <td>0.953252</td>\n",
              "      <td>0.208667</td>\n",
              "      <td>0.926703</td>\n",
              "    </tr>\n",
              "    <tr>\n",
              "      <th>4</th>\n",
              "      <td>0.096581</td>\n",
              "      <td>0.962937</td>\n",
              "      <td>0.313514</td>\n",
              "      <td>0.922227</td>\n",
              "    </tr>\n",
              "    <tr>\n",
              "      <th>5</th>\n",
              "      <td>0.080491</td>\n",
              "      <td>0.970315</td>\n",
              "      <td>0.251030</td>\n",
              "      <td>0.925304</td>\n",
              "    </tr>\n",
              "    <tr>\n",
              "      <th>6</th>\n",
              "      <td>0.063886</td>\n",
              "      <td>0.977552</td>\n",
              "      <td>0.287772</td>\n",
              "      <td>0.927962</td>\n",
              "    </tr>\n",
              "    <tr>\n",
              "      <th>7</th>\n",
              "      <td>0.049090</td>\n",
              "      <td>0.982552</td>\n",
              "      <td>0.297343</td>\n",
              "      <td>0.930760</td>\n",
              "    </tr>\n",
              "    <tr>\n",
              "      <th>8</th>\n",
              "      <td>0.037702</td>\n",
              "      <td>0.986503</td>\n",
              "      <td>0.305760</td>\n",
              "      <td>0.930060</td>\n",
              "    </tr>\n",
              "    <tr>\n",
              "      <th>9</th>\n",
              "      <td>0.040316</td>\n",
              "      <td>0.985210</td>\n",
              "      <td>0.352553</td>\n",
              "      <td>0.928382</td>\n",
              "    </tr>\n",
              "    <tr>\n",
              "      <th>10</th>\n",
              "      <td>0.040283</td>\n",
              "      <td>0.985629</td>\n",
              "      <td>0.379002</td>\n",
              "      <td>0.930899</td>\n",
              "    </tr>\n",
              "    <tr>\n",
              "      <th>11</th>\n",
              "      <td>0.031012</td>\n",
              "      <td>0.989371</td>\n",
              "      <td>0.376222</td>\n",
              "      <td>0.930480</td>\n",
              "    </tr>\n",
              "    <tr>\n",
              "      <th>12</th>\n",
              "      <td>0.024259</td>\n",
              "      <td>0.991469</td>\n",
              "      <td>0.413938</td>\n",
              "      <td>0.932158</td>\n",
              "    </tr>\n",
              "    <tr>\n",
              "      <th>13</th>\n",
              "      <td>0.034490</td>\n",
              "      <td>0.988496</td>\n",
              "      <td>0.452152</td>\n",
              "      <td>0.928102</td>\n",
              "    </tr>\n",
              "    <tr>\n",
              "      <th>14</th>\n",
              "      <td>0.021113</td>\n",
              "      <td>0.993392</td>\n",
              "      <td>0.409782</td>\n",
              "      <td>0.930060</td>\n",
              "    </tr>\n",
              "    <tr>\n",
              "      <th>15</th>\n",
              "      <td>0.019558</td>\n",
              "      <td>0.993427</td>\n",
              "      <td>0.443943</td>\n",
              "      <td>0.927263</td>\n",
              "    </tr>\n",
              "    <tr>\n",
              "      <th>16</th>\n",
              "      <td>0.020123</td>\n",
              "      <td>0.993007</td>\n",
              "      <td>0.487762</td>\n",
              "      <td>0.930899</td>\n",
              "    </tr>\n",
              "    <tr>\n",
              "      <th>17</th>\n",
              "      <td>0.020739</td>\n",
              "      <td>0.993566</td>\n",
              "      <td>0.503502</td>\n",
              "      <td>0.929221</td>\n",
              "    </tr>\n",
              "    <tr>\n",
              "      <th>18</th>\n",
              "      <td>0.018907</td>\n",
              "      <td>0.994196</td>\n",
              "      <td>0.482342</td>\n",
              "      <td>0.931179</td>\n",
              "    </tr>\n",
              "    <tr>\n",
              "      <th>19</th>\n",
              "      <td>0.015691</td>\n",
              "      <td>0.994650</td>\n",
              "      <td>0.477704</td>\n",
              "      <td>0.931039</td>\n",
              "    </tr>\n",
              "  </tbody>\n",
              "</table>\n",
              "</div>"
            ],
            "text/plain": [
              "        loss  accuracy  val_loss  val_accuracy\n",
              "0   0.549973  0.817797  0.231636      0.915233\n",
              "1   0.209811  0.919161  0.200463      0.915653\n",
              "2   0.159261  0.937762  0.201940      0.919010\n",
              "3   0.118346  0.953252  0.208667      0.926703\n",
              "4   0.096581  0.962937  0.313514      0.922227\n",
              "5   0.080491  0.970315  0.251030      0.925304\n",
              "6   0.063886  0.977552  0.287772      0.927962\n",
              "7   0.049090  0.982552  0.297343      0.930760\n",
              "8   0.037702  0.986503  0.305760      0.930060\n",
              "9   0.040316  0.985210  0.352553      0.928382\n",
              "10  0.040283  0.985629  0.379002      0.930899\n",
              "11  0.031012  0.989371  0.376222      0.930480\n",
              "12  0.024259  0.991469  0.413938      0.932158\n",
              "13  0.034490  0.988496  0.452152      0.928102\n",
              "14  0.021113  0.993392  0.409782      0.930060\n",
              "15  0.019558  0.993427  0.443943      0.927263\n",
              "16  0.020123  0.993007  0.487762      0.930899\n",
              "17  0.020739  0.993566  0.503502      0.929221\n",
              "18  0.018907  0.994196  0.482342      0.931179\n",
              "19  0.015691  0.994650  0.477704      0.931039"
            ]
          },
          "execution_count": 22,
          "metadata": {},
          "output_type": "execute_result"
        }
      ],
      "source": [
        "history_df "
      ]
    },
    {
      "cell_type": "code",
      "execution_count": 23,
      "metadata": {
        "id": "KpbxgcVDMmsY"
      },
      "outputs": [],
      "source": [
        "with open(csv_file_path, 'w') as f:\n",
        "  history_df.to_csv(f, sep=';')"
      ]
    },
    {
      "cell_type": "code",
      "execution_count": 24,
      "metadata": {},
      "outputs": [
        {
          "name": "stdout",
          "output_type": "stream",
          "text": [
            "    val_loss  val_accuracy\n",
            "0   0.231636      0.915233\n",
            "1   0.200463      0.915653\n",
            "2   0.201940      0.919010\n",
            "3   0.208667      0.926703\n",
            "4   0.313514      0.922227\n",
            "5   0.251030      0.925304\n",
            "6   0.287772      0.927962\n",
            "7   0.297343      0.930760\n",
            "8   0.305760      0.930060\n",
            "9   0.352553      0.928382\n",
            "10  0.379002      0.930899\n",
            "11  0.376222      0.930480\n",
            "12  0.413938      0.932158\n",
            "13  0.452152      0.928102\n",
            "14  0.409782      0.930060\n",
            "15  0.443943      0.927263\n",
            "16  0.487762      0.930899\n",
            "17  0.503502      0.929221\n",
            "18  0.482342      0.931179\n",
            "19  0.477704      0.931039\n"
          ]
        }
      ],
      "source": [
        "validacao_df = history_df[['val_loss', 'val_accuracy']]\n",
        "\n",
        "print(validacao_df)"
      ]
    },
    {
      "cell_type": "code",
      "execution_count": 25,
      "metadata": {},
      "outputs": [],
      "source": [
        "csv_file_path_validacao = r'D:\\projetos\\omdena\\Machine_Learning_Projects\\plant-diseases\\validacao_v1.csv'\n",
        "with open(csv_file_path_validacao, 'w') as v:\n",
        "  validacao_df.to_csv(v, sep=';')"
      ]
    }
  ],
  "metadata": {
    "colab": {
      "provenance": []
    },
    "kernelspec": {
      "display_name": "Python 3",
      "name": "python3"
    },
    "language_info": {
      "codemirror_mode": {
        "name": "ipython",
        "version": 3
      },
      "file_extension": ".py",
      "mimetype": "text/x-python",
      "name": "python",
      "nbconvert_exporter": "python",
      "pygments_lexer": "ipython3",
      "version": "3.8.5"
    }
  },
  "nbformat": 4,
  "nbformat_minor": 0
}
