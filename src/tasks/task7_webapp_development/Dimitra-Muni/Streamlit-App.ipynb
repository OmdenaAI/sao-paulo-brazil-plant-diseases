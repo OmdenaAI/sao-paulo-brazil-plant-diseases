{
 "cells": [
  {
   "cell_type": "markdown",
   "metadata": {},
   "source": [
    "## Task:7 Web App Development (Omdena São Paulo Chapter challenge)\n",
    "  This colab notebook is created as the part of Omdena São Paulo Chapter challenge: **Classification of Plant Diseases in Brazilian Agriculture Using Computer Vision and Machine Learning**\n",
    "\n",
    "\n",
    "  Collaborator: Dimitra Muni (muni.dimitra@gmail.com)\n",
    " - Objective:\n",
    "  - To encourage the collaborators to develop their own version of Coffee Leaf Health prediction model.\n",
    "  - Learn about Streamlit Interface, and integrate it with the model."
   ]
  },
  {
   "cell_type": "code",
   "execution_count": null,
   "metadata": {
    "vscode": {
     "languageId": "plaintext"
    }
   },
   "outputs": [],
   "source": []
  }
 ],
 "metadata": {
  "language_info": {
   "name": "python"
  },
  "orig_nbformat": 4
 },
 "nbformat": 4,
 "nbformat_minor": 2
}
