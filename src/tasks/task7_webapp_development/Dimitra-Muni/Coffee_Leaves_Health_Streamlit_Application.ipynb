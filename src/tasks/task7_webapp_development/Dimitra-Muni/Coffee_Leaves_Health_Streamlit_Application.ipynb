{
  "cells": [
    {
      "cell_type": "markdown",
      "source": [
        "## Task:7 Web App Development (Omdena São Paulo Chapter challenge)\n",
        "  This colab notebook is created as the part of Omdena São Paulo Chapter challenge: **Classification of Plant Diseases in Brazilian Agriculture Using Computer Vision and Machine Learning**\n",
        "\n",
        "\n",
        "  Collaborator: Dimitra Muni (muni.dimitra@gmail.com)\n",
        " - Objective:\n",
        "  - To encourage the collaborators to develop their own version of Coffee Leaf Health prediction model.\n",
        "  - Learn about Streamlit Interface, and integrate it with the model.\n"
      ],
      "metadata": {
        "id": "zHhlY8D9DE5L"
      },
      "id": "zHhlY8D9DE5L"
    },
    {
      "cell_type": "code",
      "execution_count": 90,
      "id": 2.7299665331067346e+38,
      "metadata": {
        "id": 2.7299665331067346e+38
      },
      "outputs": [],
      "source": [
        "!pip install -q streamlit"
      ]
    },
    {
      "cell_type": "code",
      "source": [
        "import matplotlib.pyplot as plt\n",
        "import matplotlib.image as img\n",
        "import numpy as np\n",
        "import os\n",
        "import tensorflow as tf\n",
        "import pandas as pd\n",
        "from tensorflow.keras import models,layers,utils\n"
      ],
      "metadata": {
        "id": "Ng61NIrc-DKK"
      },
      "id": "Ng61NIrc-DKK",
      "execution_count": 91,
      "outputs": []
    },
    {
      "cell_type": "code",
      "source": [
        "from google.colab import drive\n",
        "drive.mount('/content/drive')"
      ],
      "metadata": {
        "colab": {
          "base_uri": "https://localhost:8080/"
        },
        "id": "ABWB53vOZXsI",
        "outputId": "21cc9dbf-c337-45ab-ab47-f9f94eee7123"
      },
      "id": "ABWB53vOZXsI",
      "execution_count": 92,
      "outputs": [
        {
          "output_type": "stream",
          "name": "stdout",
          "text": [
            "Drive already mounted at /content/drive; to attempt to forcibly remount, call drive.mount(\"/content/drive\", force_remount=True).\n"
          ]
        }
      ]
    },
    {
      "cell_type": "code",
      "source": [
        "%%writefile app.py\n",
        "import streamlit as st\n",
        "import numpy as np\n",
        "import pandas as pd\n",
        "from PIL import Image\n",
        "from tensorflow.keras import models,layers,utils\n",
        "\n",
        "#Ensure that the Challenge short cut is added on your google drive in order to following command to work\n",
        "model=models.load_model('/content/drive/MyDrive/SaoPauloChapter_Plants-Disease_2023-Aug-02/Task-4-Model(s) Building/Dimitra-Muni/model_CNN1_BRACOL.h5')\n",
        "\n",
        "#configuration of page\n",
        "st.set_page_config(page_icon=None, layout=\"centered\", initial_sidebar_state=\"expanded\", menu_items={'Report a bug':'mailto:muni.dimitra@gmail.com'})\n",
        "\n",
        "st.title('Coffee Leaves Health Classification using CNN')\n",
        "\n",
        "#Header\n",
        "st.header('Upload the image of a coffee leaf')\n",
        "\n",
        "#Upload\n",
        "file=st.file_uploader('',type=['jpg','png'])\n",
        "\n",
        "class_names=['healthy', 'miner', 'rust', 'phoma', 'cercospora']\n",
        "\n",
        "#Predict Function\n",
        "def predict(input_image,model):\n",
        "    image=np.asarray(input_image).reshape(-1, 256, 256, 3)\n",
        "    predictions=model.predict(image)[0].flatten()\n",
        "    class_confidence=dict(zip(class_names,np.single(predictions) ))\n",
        "    return class_confidence\n",
        "\n",
        "\n",
        "#display the image\n",
        "if file is not None:\n",
        "  img=Image.open(file,mode='r')\n",
        "  st.image(img,use_column_width='always')\n",
        "  confidence=predict(img,model)\n",
        "  st.write('Class confidence for the input image :\\n')\n",
        "  st.write(confidence)\n",
        "  st.bar_chart(confidence)\n",
        "  st.markdown('This app is developed is part of **Omdena São Paulo Chapter** challenge: *Classification of Plant Diseases in Brazilian Agriculture Using Computer Vision and Machine Learning*')\n",
        "\n",
        "\n",
        "\n",
        "\n"
      ],
      "metadata": {
        "colab": {
          "base_uri": "https://localhost:8080/"
        },
        "id": "nCZuE0-Z-w7a",
        "outputId": "496692f7-dfb5-460e-b7b5-5c2cfdb14c69"
      },
      "id": "nCZuE0-Z-w7a",
      "execution_count": 102,
      "outputs": [
        {
          "output_type": "stream",
          "name": "stdout",
          "text": [
            "Overwriting app.py\n"
          ]
        }
      ]
    },
    {
      "cell_type": "markdown",
      "source": [
        "#Steps to run deploy the streamlit app\n",
        "\n",
        "\n",
        "1.  Run the following *!wget -q -O - ipv4.icanhazip.com*\n",
        "2.  Copy the IP address obtained in the step:1\n",
        "3.  Run the following *! streamlit run app.py & npx localtunnel --port 8501*\n",
        "4.  Click on the url, and when re-directed plug in Endpoint IP address saved in step:2\n",
        "\n"
      ],
      "metadata": {
        "id": "GDdtTKCENd-F"
      },
      "id": "GDdtTKCENd-F"
    },
    {
      "cell_type": "code",
      "source": [
        "!wget -q -O - ipv4.icanhazip.com"
      ],
      "metadata": {
        "colab": {
          "base_uri": "https://localhost:8080/"
        },
        "id": "pfAKQkE6YfD0",
        "outputId": "79dbb303-681e-436e-a3c9-1cc44965c6c5"
      },
      "id": "pfAKQkE6YfD0",
      "execution_count": 103,
      "outputs": [
        {
          "output_type": "stream",
          "name": "stdout",
          "text": [
            "34.125.220.184\n"
          ]
        }
      ]
    },
    {
      "cell_type": "code",
      "source": [
        "! streamlit run app.py & npx localtunnel --port 8501"
      ],
      "metadata": {
        "colab": {
          "base_uri": "https://localhost:8080/"
        },
        "id": "r_dMbJWiYjD5",
        "outputId": "38bf2c48-4d41-4c9e-b4c1-fbc43d857c7f"
      },
      "id": "r_dMbJWiYjD5",
      "execution_count": null,
      "outputs": [
        {
          "output_type": "stream",
          "name": "stdout",
          "text": [
            "[..................] / rollbackFailedOptional: verb npm-session 15be086e99ea99c\u001b[0m\u001b[K\n",
            "Collecting usage statistics. To deactivate, set browser.gatherUsageStats to False.\n",
            "\u001b[0m\n",
            "\u001b[K\u001b[?25hnpx: installed 22 in 5.647s\n",
            "your url is: https://true-items-kneel.loca.lt\n",
            "\u001b[0m\n",
            "\u001b[34m\u001b[1m  You can now view your Streamlit app in your browser.\u001b[0m\n",
            "\u001b[0m\n",
            "\u001b[34m  Network URL: \u001b[0m\u001b[1mhttp://172.28.0.12:8501\u001b[0m\n",
            "\u001b[34m  External URL: \u001b[0m\u001b[1mhttp://34.125.220.184:8501\u001b[0m\n",
            "\u001b[0m\n",
            "2023-09-02 09:31:02.697836: W tensorflow/compiler/tf2tensorrt/utils/py_utils.cc:38] TF-TRT Warning: Could not find TensorRT\n",
            "2023-09-02 09:31:05.112 `label` got an empty value. This is discouraged for accessibility reasons and may be disallowed in the future by raising an exception. Please provide a non-empty label and hide it with label_visibility if needed.\n",
            "2023-09-02 09:31:12.973 `label` got an empty value. This is discouraged for accessibility reasons and may be disallowed in the future by raising an exception. Please provide a non-empty label and hide it with label_visibility if needed.\n",
            "1/1 [==============================] - 3s 3s/step\n",
            "2023-09-02 09:32:07.204 `label` got an empty value. This is discouraged for accessibility reasons and may be disallowed in the future by raising an exception. Please provide a non-empty label and hide it with label_visibility if needed.\n",
            "2023-09-02 09:33:41.176 `label` got an empty value. This is discouraged for accessibility reasons and may be disallowed in the future by raising an exception. Please provide a non-empty label and hide it with label_visibility if needed.\n",
            "1/1 [==============================] - 1s 1s/step\n"
          ]
        }
      ]
    },
    {
      "cell_type": "markdown",
      "source": [
        "# References\n",
        "\n",
        "- 1  [Image classification WEB APP with Python and Streamlit | Pneumonia classifier | Computer vision](https://www.youtube.com/watch?v=n_eMARPqBZI)\n",
        "- 2 [Streamlit Library](https://docs.streamlit.io/library/api-reference)\n",
        "- 3 [GitHub: localtunnel](https://github.com/localtunnel/localtunnel)"
      ],
      "metadata": {
        "id": "fWN54BZjGmvb"
      },
      "id": "fWN54BZjGmvb"
    }
  ],
  "metadata": {
    "colab": {
      "provenance": [],
      "gpuType": "T4"
    },
    "language_info": {
      "name": "python"
    },
    "kernelspec": {
      "name": "python3",
      "display_name": "Python 3"
    }
  },
  "nbformat": 4,
  "nbformat_minor": 5
}